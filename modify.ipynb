{
 "cells": [
  {
   "cell_type": "code",
   "execution_count": 1,
   "metadata": {
    "ExecuteTime": {
     "end_time": "2020-06-01T14:05:59.688333Z",
     "start_time": "2020-06-01T14:05:58.806338Z"
    }
   },
   "outputs": [],
   "source": [
    "%matplotlib inline\n",
    "import numpy as np\n",
    "import pandas as pd\n",
    "import matplotlib.pyplot as plt\n",
    "import seaborn as sns\n",
    "import statsmodels as sm\n",
    "import sklearn.preprocessing as preprocessing\n",
    "from sklearn.linear_model import LogisticRegression\n",
    "from sklearn.model_selection import train_test_split\n",
    "from scipy import stats\n",
    "from sklearn.tree import DecisionTreeClassifier\n",
    "from sklearn.ensemble import RandomForestClassifier\n",
    "from sklearn.naive_bayes import GaussianNB\n",
    "from sklearn.neighbors import KNeighborsClassifier\n",
    "from sklearn.svm import SVC\n",
    "from sklearn.neural_network import MLPClassifier\n",
    "from sklearn.ensemble import AdaBoostClassifier\n",
    "from sklearn.ensemble import GradientBoostingClassifier\n",
    "from sklearn.ensemble import ExtraTreesClassifier\n",
    "from sklearn.linear_model import LogisticRegression\n",
    "from sklearn.model_selection import train_test_split\n",
    "from sklearn.metrics import accuracy_score\n",
    "from sklearn.model_selection import cross_val_score\n",
    "import itertools\n",
    "from sklearn.metrics import confusion_matrix \n",
    "from sklearn.metrics import classification_report\n",
    "from sklearn.preprocessing import LabelEncoder\n",
    "from sklearn.discriminant_analysis import LinearDiscriminantAnalysis\n",
    "from sklearn.pipeline import Pipeline\n",
    "#from xgboost import XGBClassifier\n",
    "#from catboost import CatBoostClassifier\n",
    "from sklearn.model_selection import StratifiedKFold\n",
    "#import xgboost as xgb\n",
    "import warnings\n",
    "warnings.filterwarnings('ignore')"
   ]
  },
  {
   "cell_type": "code",
   "execution_count": 2,
   "metadata": {
    "ExecuteTime": {
     "end_time": "2020-06-01T14:06:01.232983Z",
     "start_time": "2020-06-01T14:06:01.230608Z"
    }
   },
   "outputs": [],
   "source": [
    "## To display  all the interactive output without using the print function\n",
    "from IPython.core.interactiveshell import InteractiveShell\n",
    "InteractiveShell.ast_node_interactivity = \"all\""
   ]
  },
  {
   "cell_type": "code",
   "execution_count": 3,
   "metadata": {
    "ExecuteTime": {
     "end_time": "2020-06-01T14:06:03.966551Z",
     "start_time": "2020-06-01T14:06:03.931174Z"
    }
   },
   "outputs": [],
   "source": [
    "data=pd.read_csv('WA_Fn-UseC_-Telco-Customer-Churn.csv')\n"
   ]
  },
  {
   "cell_type": "code",
   "execution_count": 4,
   "metadata": {
    "ExecuteTime": {
     "end_time": "2020-06-01T14:07:58.746782Z",
     "start_time": "2020-06-01T14:07:58.737923Z"
    }
   },
   "outputs": [
    {
     "data": {
      "text/plain": [
       "Index(['customerid', 'gender', 'seniorcitizen', 'partner', 'dependents',\n",
       "       'tenure', 'phoneservice', 'multiplelines', 'internetservice',\n",
       "       'onlinesecurity', 'onlinebackup', 'deviceprotection', 'techsupport',\n",
       "       'streamingtv', 'streamingmovies', 'contract', 'paperlessbilling',\n",
       "       'paymentmethod', 'monthlycharges', 'totalcharges', 'churn'],\n",
       "      dtype='object')"
      ]
     },
     "execution_count": 4,
     "metadata": {},
     "output_type": "execute_result"
    }
   ],
   "source": [
    "# lowercase column name\n",
    "data.columns = map(str.lower, data.columns)\n",
    "data.columns"
   ]
  },
  {
   "cell_type": "code",
   "execution_count": 5,
   "metadata": {
    "ExecuteTime": {
     "end_time": "2020-06-01T14:08:07.912907Z",
     "start_time": "2020-06-01T14:08:07.906688Z"
    }
   },
   "outputs": [],
   "source": [
    "# customerid not useful better to drop it\n",
    "data.drop(['customerid'], axis=1, inplace=True)"
   ]
  },
  {
   "cell_type": "code",
   "execution_count": 7,
   "metadata": {
    "ExecuteTime": {
     "end_time": "2020-06-01T14:08:19.916123Z",
     "start_time": "2020-06-01T14:08:19.893962Z"
    }
   },
   "outputs": [
    {
     "data": {
      "text/plain": [
       "array(['29.85', '1889.5', '108.15', ..., '346.45', '306.6', '6844.5'],\n",
       "      dtype=object)"
      ]
     },
     "execution_count": 7,
     "metadata": {},
     "output_type": "execute_result"
    },
    {
     "name": "stdout",
     "output_type": "stream",
     "text": [
      "<class 'pandas.core.frame.DataFrame'>\n",
      "RangeIndex: 7043 entries, 0 to 7042\n",
      "Data columns (total 20 columns):\n",
      " #   Column            Non-Null Count  Dtype  \n",
      "---  ------            --------------  -----  \n",
      " 0   gender            7043 non-null   object \n",
      " 1   seniorcitizen     7043 non-null   int64  \n",
      " 2   partner           7043 non-null   object \n",
      " 3   dependents        7043 non-null   object \n",
      " 4   tenure            7043 non-null   int64  \n",
      " 5   phoneservice      7043 non-null   object \n",
      " 6   multiplelines     7043 non-null   object \n",
      " 7   internetservice   7043 non-null   object \n",
      " 8   onlinesecurity    7043 non-null   object \n",
      " 9   onlinebackup      7043 non-null   object \n",
      " 10  deviceprotection  7043 non-null   object \n",
      " 11  techsupport       7043 non-null   object \n",
      " 12  streamingtv       7043 non-null   object \n",
      " 13  streamingmovies   7043 non-null   object \n",
      " 14  contract          7043 non-null   object \n",
      " 15  paperlessbilling  7043 non-null   object \n",
      " 16  paymentmethod     7043 non-null   object \n",
      " 17  monthlycharges    7043 non-null   float64\n",
      " 18  totalcharges      7032 non-null   object \n",
      " 19  churn             7043 non-null   object \n",
      "dtypes: float64(1), int64(2), object(17)\n",
      "memory usage: 1.1+ MB\n"
     ]
    }
   ],
   "source": [
    "data['totalcharges'].unique()\n",
    "#Replacing spaces with null values in total charges column\n",
    "data['totalcharges'] = data[\"totalcharges\"].replace(\" \",np.nan)\n",
    "data.info()"
   ]
  },
  {
   "cell_type": "code",
   "execution_count": 8,
   "metadata": {
    "ExecuteTime": {
     "end_time": "2020-06-01T14:08:39.982549Z",
     "start_time": "2020-06-01T14:08:39.973445Z"
    }
   },
   "outputs": [
    {
     "data": {
      "text/plain": [
       "gender               0\n",
       "seniorcitizen        0\n",
       "partner              0\n",
       "dependents           0\n",
       "tenure               0\n",
       "phoneservice         0\n",
       "multiplelines        0\n",
       "internetservice      0\n",
       "onlinesecurity       0\n",
       "onlinebackup         0\n",
       "deviceprotection     0\n",
       "techsupport          0\n",
       "streamingtv          0\n",
       "streamingmovies      0\n",
       "contract             0\n",
       "paperlessbilling     0\n",
       "paymentmethod        0\n",
       "monthlycharges       0\n",
       "totalcharges        11\n",
       "churn                0\n",
       "dtype: int64"
      ]
     },
     "execution_count": 8,
     "metadata": {},
     "output_type": "execute_result"
    }
   ],
   "source": [
    "data.isna().sum()"
   ]
  },
  {
   "cell_type": "code",
   "execution_count": 10,
   "metadata": {
    "ExecuteTime": {
     "end_time": "2020-06-01T14:09:00.902905Z",
     "start_time": "2020-06-01T14:09:00.887737Z"
    }
   },
   "outputs": [
    {
     "name": "stdout",
     "output_type": "stream",
     "text": [
      "0.1561834445548772\n"
     ]
    }
   ],
   "source": [
    "print((data['totalcharges'].isna().sum()/len(data))*100) # count the percentage of missing data\n",
    "#Dropping null values from total charges column which contain .15% missing data \n",
    "data.dropna(inplace=True)"
   ]
  },
  {
   "cell_type": "code",
   "execution_count": 11,
   "metadata": {
    "ExecuteTime": {
     "end_time": "2020-06-01T14:09:08.991789Z",
     "start_time": "2020-06-01T14:09:08.979218Z"
    }
   },
   "outputs": [
    {
     "data": {
      "text/plain": [
       "gender              0\n",
       "seniorcitizen       0\n",
       "partner             0\n",
       "dependents          0\n",
       "tenure              0\n",
       "phoneservice        0\n",
       "multiplelines       0\n",
       "internetservice     0\n",
       "onlinesecurity      0\n",
       "onlinebackup        0\n",
       "deviceprotection    0\n",
       "techsupport         0\n",
       "streamingtv         0\n",
       "streamingmovies     0\n",
       "contract            0\n",
       "paperlessbilling    0\n",
       "paymentmethod       0\n",
       "monthlycharges      0\n",
       "totalcharges        0\n",
       "churn               0\n",
       "dtype: int64"
      ]
     },
     "execution_count": 11,
     "metadata": {},
     "output_type": "execute_result"
    }
   ],
   "source": [
    "# checking missing data\n",
    "data.isna().sum()"
   ]
  },
  {
   "cell_type": "code",
   "execution_count": 12,
   "metadata": {
    "ExecuteTime": {
     "end_time": "2020-06-01T14:09:14.018596Z",
     "start_time": "2020-06-01T14:09:14.014224Z"
    }
   },
   "outputs": [],
   "source": [
    "#convert to float type\n",
    "data[\"totalcharges\"] = data[\"totalcharges\"].astype(float)"
   ]
  },
  {
   "cell_type": "code",
   "execution_count": 13,
   "metadata": {
    "ExecuteTime": {
     "end_time": "2020-06-01T14:09:22.425977Z",
     "start_time": "2020-06-01T14:09:22.397433Z"
    }
   },
   "outputs": [
    {
     "data": {
      "text/plain": [
       "No                     3497\n",
       "Yes                    2015\n",
       "No internet service    1520\n",
       "Name: onlinesecurity, dtype: int64"
      ]
     },
     "execution_count": 13,
     "metadata": {},
     "output_type": "execute_result"
    },
    {
     "data": {
      "text/plain": [
       "No                     3087\n",
       "Yes                    2425\n",
       "No internet service    1520\n",
       "Name: onlinebackup, dtype: int64"
      ]
     },
     "execution_count": 13,
     "metadata": {},
     "output_type": "execute_result"
    },
    {
     "data": {
      "text/plain": [
       "No                     3094\n",
       "Yes                    2418\n",
       "No internet service    1520\n",
       "Name: deviceprotection, dtype: int64"
      ]
     },
     "execution_count": 13,
     "metadata": {},
     "output_type": "execute_result"
    },
    {
     "data": {
      "text/plain": [
       "No                     3472\n",
       "Yes                    2040\n",
       "No internet service    1520\n",
       "Name: techsupport, dtype: int64"
      ]
     },
     "execution_count": 13,
     "metadata": {},
     "output_type": "execute_result"
    },
    {
     "data": {
      "text/plain": [
       "No                     2809\n",
       "Yes                    2703\n",
       "No internet service    1520\n",
       "Name: streamingtv, dtype: int64"
      ]
     },
     "execution_count": 13,
     "metadata": {},
     "output_type": "execute_result"
    },
    {
     "data": {
      "text/plain": [
       "No                     2781\n",
       "Yes                    2731\n",
       "No internet service    1520\n",
       "Name: streamingmovies, dtype: int64"
      ]
     },
     "execution_count": 13,
     "metadata": {},
     "output_type": "execute_result"
    }
   ],
   "source": [
    "data['onlinesecurity'].value_counts()\n",
    "data['onlinebackup'].value_counts()\n",
    "data['deviceprotection'].value_counts()\n",
    "data['techsupport'].value_counts()\n",
    "data['streamingtv'].value_counts()\n",
    "data['streamingmovies'].value_counts()"
   ]
  },
  {
   "cell_type": "code",
   "execution_count": 14,
   "metadata": {
    "ExecuteTime": {
     "end_time": "2020-06-01T14:09:29.790625Z",
     "start_time": "2020-06-01T14:09:29.779697Z"
    }
   },
   "outputs": [],
   "source": [
    "#replace 'No internet service' to No for the following columns\n",
    "replace_cols = [ 'onlinesecurity', 'onlinebackup', 'deviceprotection',\n",
    "                'techsupport','streamingtv', 'streamingmovies']\n",
    "for i in replace_cols : \n",
    "    data[i]  = data[i].replace({'No internet service' : 'No'})"
   ]
  },
  {
   "cell_type": "code",
   "execution_count": 15,
   "metadata": {
    "ExecuteTime": {
     "end_time": "2020-06-01T14:09:37.480178Z",
     "start_time": "2020-06-01T14:09:37.447621Z"
    }
   },
   "outputs": [
    {
     "data": {
      "text/plain": [
       "array(['No', 'Yes'], dtype=object)"
      ]
     },
     "execution_count": 15,
     "metadata": {},
     "output_type": "execute_result"
    },
    {
     "data": {
      "text/plain": [
       "No     5017\n",
       "Yes    2015\n",
       "Name: onlinesecurity, dtype: int64"
      ]
     },
     "execution_count": 15,
     "metadata": {},
     "output_type": "execute_result"
    },
    {
     "data": {
      "text/plain": [
       "No     4607\n",
       "Yes    2425\n",
       "Name: onlinebackup, dtype: int64"
      ]
     },
     "execution_count": 15,
     "metadata": {},
     "output_type": "execute_result"
    },
    {
     "data": {
      "text/plain": [
       "No     4614\n",
       "Yes    2418\n",
       "Name: deviceprotection, dtype: int64"
      ]
     },
     "execution_count": 15,
     "metadata": {},
     "output_type": "execute_result"
    },
    {
     "data": {
      "text/plain": [
       "No     4992\n",
       "Yes    2040\n",
       "Name: techsupport, dtype: int64"
      ]
     },
     "execution_count": 15,
     "metadata": {},
     "output_type": "execute_result"
    },
    {
     "data": {
      "text/plain": [
       "No     4329\n",
       "Yes    2703\n",
       "Name: streamingtv, dtype: int64"
      ]
     },
     "execution_count": 15,
     "metadata": {},
     "output_type": "execute_result"
    },
    {
     "data": {
      "text/plain": [
       "No     4301\n",
       "Yes    2731\n",
       "Name: streamingmovies, dtype: int64"
      ]
     },
     "execution_count": 15,
     "metadata": {},
     "output_type": "execute_result"
    }
   ],
   "source": [
    "data['onlinesecurity'].unique()\n",
    "data['onlinesecurity'].value_counts()\n",
    "data['onlinebackup'].value_counts()\n",
    "data['deviceprotection'].value_counts()\n",
    "data['techsupport'].value_counts()\n",
    "data['streamingtv'].value_counts()\n",
    "data['streamingmovies'].value_counts()"
   ]
  },
  {
   "cell_type": "code",
   "execution_count": 16,
   "metadata": {
    "ExecuteTime": {
     "end_time": "2020-06-01T14:09:40.992655Z",
     "start_time": "2020-06-01T14:09:40.982789Z"
    }
   },
   "outputs": [
    {
     "data": {
      "text/plain": [
       "No     5890\n",
       "Yes    1142\n",
       "Name: seniorcitizen, dtype: int64"
      ]
     },
     "execution_count": 16,
     "metadata": {},
     "output_type": "execute_result"
    }
   ],
   "source": [
    "# replacing values\n",
    "data['seniorcitizen']=data['seniorcitizen'].replace({1:'Yes',0:\"No\"})\n",
    "data['seniorcitizen'].value_counts()"
   ]
  },
  {
   "cell_type": "markdown",
   "metadata": {
    "ExecuteTime": {
     "end_time": "2020-05-24T03:02:02.941652Z",
     "start_time": "2020-05-24T03:02:02.939082Z"
    }
   },
   "source": [
    "##### Exploring Categorical Features"
   ]
  },
  {
   "cell_type": "code",
   "execution_count": 20,
   "metadata": {
    "ExecuteTime": {
     "end_time": "2020-06-01T14:11:32.212303Z",
     "start_time": "2020-06-01T14:11:32.205056Z"
    }
   },
   "outputs": [],
   "source": [
    "### function for plotting caterogical columns\n",
    "def plot_cat(data,feature, xlabel_rotation=0 ):\n",
    "    fig, ax = plt.subplots(1, 2, figsize=(14, 4))\n",
    "    \n",
    "    # title for first subplot\n",
    "    ax[0].set(xlabel = f\"{feature}\", ylabel=f\"Number of Customers\")\n",
    "    # title for second subplot\n",
    "    ax[1].set(xlabel = f\"{feature}\", ylabel=f\"Number of Customers\")\n",
    "    \n",
    "    # create subplots, parametr rot=0 - shows how we see labels for axes x\n",
    "    data[data.churn == \"No\"][feature].value_counts().plot(kind='bar', ax=ax[0], rot=xlabel_rotation).set_title('Non churn customers')\n",
    "    data[data.churn == \"Yes\"][feature].value_counts().plot(kind='bar', ax=ax[1], rot=xlabel_rotation).set_title('Churn Customers')\n",
    "    \n",
    "    # main title\n",
    "    # y - how far from plot we put title (if y is small number then title connect with plots, else y is big number then title run away from plot, plot go down the page\n",
    "    # size - font size for title\n",
    "    # weight - type of font\n",
    "    fig.suptitle(f'{feature} distribution in customer attrition', y=1.02, size=16, weight='bold')"
   ]
  },
  {
   "cell_type": "code",
   "execution_count": 21,
   "metadata": {
    "ExecuteTime": {
     "end_time": "2020-06-01T14:11:39.886145Z",
     "start_time": "2020-06-01T14:11:39.882679Z"
    }
   },
   "outputs": [],
   "source": [
    "# define features\n",
    "categorical_features=['gender', 'seniorcitizen', 'partner', 'dependents',\n",
    "       'phoneservice', 'multiplelines', 'internetservice', 'onlinesecurity',\n",
    "       'onlinebackup', 'deviceprotection', 'techsupport', 'streamingtv',\n",
    "       'streamingmovies', 'contract', 'paperlessbilling', 'paymentmethod']\n",
    "numerical_features=['tenure','monthlycharges', 'totalcharges']"
   ]
  },
  {
   "cell_type": "code",
   "execution_count": 25,
   "metadata": {
    "ExecuteTime": {
     "end_time": "2020-06-01T14:13:16.910669Z",
     "start_time": "2020-06-01T14:13:16.906451Z"
    }
   },
   "outputs": [],
   "source": [
    "def find_outliers(col):\n",
    "    \"\"\"Use scipy to calcualte absolute Z-scores \n",
    "    and return boolean series where True indicates it is an outlier\n",
    "    Args:\n",
    "        col (Series):column from my dataFrame\n",
    "    Returns:\n",
    "        idx_outliers (Series): series of  True/False for each row in col\n",
    "        \n",
    "    Ex:\n",
    "    >> idx_outs = find_outliers(df['tenure'])\n",
    "    >> df_clean = df.loc[idx_outs==False]\"\"\"\n",
    "    from scipy import stats\n",
    "    z = np.abs(stats.zscore(col))\n",
    "    idx_outliers = np.where(z>3,True,False)\n",
    "    return pd.Series(idx_outliers,index=col.index)"
   ]
  },
  {
   "cell_type": "code",
   "execution_count": 26,
   "metadata": {
    "ExecuteTime": {
     "end_time": "2020-06-01T14:13:49.014561Z",
     "start_time": "2020-06-01T14:13:49.003926Z"
    }
   },
   "outputs": [],
   "source": [
    "data['churn'] = data['churn'].apply(lambda x: x.strip().replace(\"Yes\", \"1\").replace(\"No\", \"0\"))\n",
    "data['churn'] = data['churn'].astype('int')"
   ]
  },
  {
   "cell_type": "code",
   "execution_count": 27,
   "metadata": {
    "ExecuteTime": {
     "end_time": "2020-06-01T14:13:56.129596Z",
     "start_time": "2020-06-01T14:13:56.092491Z"
    }
   },
   "outputs": [],
   "source": [
    "#### onehot encoding all caterogical data\n",
    "df=pd.get_dummies(data, drop_first=True)\n"
   ]
  },
  {
   "cell_type": "code",
   "execution_count": 29,
   "metadata": {
    "ExecuteTime": {
     "end_time": "2020-06-01T14:14:17.240586Z",
     "start_time": "2020-06-01T14:14:17.231214Z"
    }
   },
   "outputs": [],
   "source": [
    "## Define X, y and split data into training and testing\n",
    "from sklearn.model_selection import train_test_split\n",
    "\n",
    "# Split data into X and y\n",
    "y=df['churn'].copy()\n",
    "\n",
    "# Define X\n",
    "\n",
    "X = df.drop(columns=['churn'], axis=1)\n",
    "\n",
    "\n",
    "\n",
    "#importing train_test_split\n",
    "from sklearn.model_selection import train_test_split\n",
    "# Split the data into a training and a test set and set stratify=y to help with imbalance data\n",
    "X_train,X_test,y_train,y_test = train_test_split(X,y,test_size=0.4,\n",
    "                                                 random_state=42)\n",
    "\n"
   ]
  },
  {
   "cell_type": "code",
   "execution_count": 31,
   "metadata": {
    "ExecuteTime": {
     "end_time": "2020-06-01T14:14:50.440332Z",
     "start_time": "2020-06-01T14:14:50.429118Z"
    }
   },
   "outputs": [],
   "source": [
    "### define our metrics function with plotting confusion matrix\n",
    "import itertools\n",
    "from sklearn.metrics import confusion_matrix \n",
    "\n",
    "### define function for plotting confusion matrix\n",
    "def plot_confusion_matrix(y_true, y_preds):\n",
    "    # Print confusion matrix\n",
    "    cnf_matrix = confusion_matrix(y_true, y_preds)\n",
    "    # Create the basic matrix\n",
    "    plt.imshow(cnf_matrix,  cmap=plt.cm.Blues)\n",
    "    # Add title and axis labels\n",
    "    plt.title('Confusion Matrix')\n",
    "    plt.ylabel('True label')\n",
    "    plt.xlabel('Predicted label')\n",
    "    # Add appropriate axis scales\n",
    "    class_names = set(y) # Get class labels to add to matrix\n",
    "    tick_marks = np.arange(len(class_names))\n",
    "    plt.xticks(tick_marks, class_names, rotation=0)\n",
    "    plt.yticks(tick_marks, class_names)\n",
    "    # Add labels to each cell\n",
    "    thresh = cnf_matrix.max() / 2. # Used for text coloring below\n",
    "    # Here we iterate through the confusion matrix and append labels to our visualization\n",
    "    for i, j in itertools.product(range(cnf_matrix.shape[0]), range(cnf_matrix.shape[1])):\n",
    "            plt.text(j, i, cnf_matrix[i, j],\n",
    "                     horizontalalignment='center',\n",
    "                     color='white' if cnf_matrix[i, j] > thresh else 'black')\n",
    "    # Add a legend\n",
    "    plt.colorbar();\n",
    "    plt.show();\n",
    "def metrics(model_name, y_train, y_test, y_hat_train, y_hat_test):\n",
    "    '''Print out the evaluation metrics for a given models predictions'''\n",
    "    print(f'Model: {model_name}', )\n",
    "    print('-'*60)\n",
    "    plot_confusion_matrix(y_test,y_hat_test)\n",
    "    print(f'test accuracy: {accuracy_score(y_test, y_hat_test)}')\n",
    "    print(f'train accuracy: {accuracy_score(y_train, y_hat_train)}')\n",
    "    print('-'*60)\n",
    "    print('-'*60)\n",
    "    print('Confusion Matrix:\\n', pd.crosstab(y_test, y_hat_test, rownames=['Actual'], colnames=['Predicted'],margins = True))\n",
    "    print('\\ntest report:\\n' + classification_report(y_test, y_hat_test))\n",
    "    print('~'*60)\n",
    "    print('\\ntrain report:\\n' + classification_report(y_train, y_hat_train))\n",
    "    print('-'*60)"
   ]
  },
  {
   "cell_type": "code",
   "execution_count": 32,
   "metadata": {
    "ExecuteTime": {
     "end_time": "2020-06-01T14:15:12.595679Z",
     "start_time": "2020-06-01T14:15:12.294884Z"
    }
   },
   "outputs": [
    {
     "name": "stdout",
     "output_type": "stream",
     "text": [
      "Optimization terminated successfully.\n",
      "         Current function value: 0.414269\n",
      "         Iterations 8\n"
     ]
    },
    {
     "data": {
      "text/html": [
       "<table class=\"simpletable\">\n",
       "<caption>Logit Regression Results</caption>\n",
       "<tr>\n",
       "  <th>Dep. Variable:</th>         <td>churn</td>      <th>  No. Observations:  </th>  <td>  7032</td> \n",
       "</tr>\n",
       "<tr>\n",
       "  <th>Model:</th>                 <td>Logit</td>      <th>  Df Residuals:      </th>  <td>  7008</td> \n",
       "</tr>\n",
       "<tr>\n",
       "  <th>Method:</th>                 <td>MLE</td>       <th>  Df Model:          </th>  <td>    23</td> \n",
       "</tr>\n",
       "<tr>\n",
       "  <th>Date:</th>            <td>Mon, 01 Jun 2020</td> <th>  Pseudo R-squ.:     </th>  <td>0.2845</td> \n",
       "</tr>\n",
       "<tr>\n",
       "  <th>Time:</th>                <td>10:15:12</td>     <th>  Log-Likelihood:    </th> <td> -2913.1</td>\n",
       "</tr>\n",
       "<tr>\n",
       "  <th>converged:</th>             <td>True</td>       <th>  LL-Null:           </th> <td> -4071.7</td>\n",
       "</tr>\n",
       "<tr>\n",
       "  <th>Covariance Type:</th>     <td>nonrobust</td>    <th>  LLR p-value:       </th>  <td> 0.000</td> \n",
       "</tr>\n",
       "</table>\n",
       "<table class=\"simpletable\">\n",
       "<tr>\n",
       "                    <td></td>                       <th>coef</th>     <th>std err</th>      <th>z</th>      <th>P>|z|</th>  <th>[0.025</th>    <th>0.975]</th>  \n",
       "</tr>\n",
       "<tr>\n",
       "  <th>const</th>                                 <td>    0.8340</td> <td>      nan</td> <td>      nan</td> <td>   nan</td> <td>      nan</td> <td>      nan</td>\n",
       "</tr>\n",
       "<tr>\n",
       "  <th>tenure</th>                                <td>   -0.0606</td> <td>    0.006</td> <td>   -9.716</td> <td> 0.000</td> <td>   -0.073</td> <td>   -0.048</td>\n",
       "</tr>\n",
       "<tr>\n",
       "  <th>monthlycharges</th>                        <td>   -0.0403</td> <td>    0.032</td> <td>   -1.270</td> <td> 0.204</td> <td>   -0.103</td> <td>    0.022</td>\n",
       "</tr>\n",
       "<tr>\n",
       "  <th>totalcharges</th>                          <td>    0.0003</td> <td> 7.06e-05</td> <td>    4.657</td> <td> 0.000</td> <td>    0.000</td> <td>    0.000</td>\n",
       "</tr>\n",
       "<tr>\n",
       "  <th>gender_Male</th>                           <td>   -0.0218</td> <td>    0.065</td> <td>   -0.337</td> <td> 0.736</td> <td>   -0.149</td> <td>    0.105</td>\n",
       "</tr>\n",
       "<tr>\n",
       "  <th>seniorcitizen_Yes</th>                     <td>    0.2168</td> <td>    0.085</td> <td>    2.564</td> <td> 0.010</td> <td>    0.051</td> <td>    0.382</td>\n",
       "</tr>\n",
       "<tr>\n",
       "  <th>partner_Yes</th>                           <td>   -0.0004</td> <td>    0.078</td> <td>   -0.005</td> <td> 0.996</td> <td>   -0.153</td> <td>    0.152</td>\n",
       "</tr>\n",
       "<tr>\n",
       "  <th>dependents_Yes</th>                        <td>   -0.1485</td> <td>    0.090</td> <td>   -1.655</td> <td> 0.098</td> <td>   -0.324</td> <td>    0.027</td>\n",
       "</tr>\n",
       "<tr>\n",
       "  <th>phoneservice_Yes</th>                      <td>    0.5027</td> <td>      nan</td> <td>      nan</td> <td>   nan</td> <td>      nan</td> <td>      nan</td>\n",
       "</tr>\n",
       "<tr>\n",
       "  <th>multiplelines_No phone service</th>        <td>    0.3313</td> <td>      nan</td> <td>      nan</td> <td>   nan</td> <td>      nan</td> <td>      nan</td>\n",
       "</tr>\n",
       "<tr>\n",
       "  <th>multiplelines_Yes</th>                     <td>    0.4484</td> <td>    0.177</td> <td>    2.530</td> <td> 0.011</td> <td>    0.101</td> <td>    0.796</td>\n",
       "</tr>\n",
       "<tr>\n",
       "  <th>internetservice_Fiber optic</th>           <td>    1.7475</td> <td>    0.798</td> <td>    2.190</td> <td> 0.029</td> <td>    0.183</td> <td>    3.312</td>\n",
       "</tr>\n",
       "<tr>\n",
       "  <th>internetservice_No</th>                    <td>   -1.7863</td> <td>    0.807</td> <td>   -2.213</td> <td> 0.027</td> <td>   -3.369</td> <td>   -0.204</td>\n",
       "</tr>\n",
       "<tr>\n",
       "  <th>onlinesecurity_Yes</th>                    <td>   -0.2054</td> <td>    0.179</td> <td>   -1.150</td> <td> 0.250</td> <td>   -0.556</td> <td>    0.145</td>\n",
       "</tr>\n",
       "<tr>\n",
       "  <th>onlinebackup_Yes</th>                      <td>    0.0260</td> <td>    0.175</td> <td>    0.148</td> <td> 0.882</td> <td>   -0.318</td> <td>    0.370</td>\n",
       "</tr>\n",
       "<tr>\n",
       "  <th>deviceprotection_Yes</th>                  <td>    0.1474</td> <td>    0.176</td> <td>    0.836</td> <td> 0.403</td> <td>   -0.198</td> <td>    0.493</td>\n",
       "</tr>\n",
       "<tr>\n",
       "  <th>techsupport_Yes</th>                       <td>   -0.1805</td> <td>    0.181</td> <td>   -0.999</td> <td> 0.318</td> <td>   -0.534</td> <td>    0.173</td>\n",
       "</tr>\n",
       "<tr>\n",
       "  <th>streamingtv_Yes</th>                       <td>    0.5905</td> <td>    0.326</td> <td>    1.810</td> <td> 0.070</td> <td>   -0.049</td> <td>    1.230</td>\n",
       "</tr>\n",
       "<tr>\n",
       "  <th>streamingmovies_Yes</th>                   <td>    0.5993</td> <td>    0.327</td> <td>    1.834</td> <td> 0.067</td> <td>   -0.041</td> <td>    1.240</td>\n",
       "</tr>\n",
       "<tr>\n",
       "  <th>contract_One year</th>                     <td>   -0.6608</td> <td>    0.108</td> <td>   -6.142</td> <td> 0.000</td> <td>   -0.872</td> <td>   -0.450</td>\n",
       "</tr>\n",
       "<tr>\n",
       "  <th>contract_Two year</th>                     <td>   -1.3571</td> <td>    0.176</td> <td>   -7.691</td> <td> 0.000</td> <td>   -1.703</td> <td>   -1.011</td>\n",
       "</tr>\n",
       "<tr>\n",
       "  <th>paperlessbilling_Yes</th>                  <td>    0.3424</td> <td>    0.074</td> <td>    4.596</td> <td> 0.000</td> <td>    0.196</td> <td>    0.488</td>\n",
       "</tr>\n",
       "<tr>\n",
       "  <th>paymentmethod_Credit card (automatic)</th> <td>   -0.0878</td> <td>    0.114</td> <td>   -0.770</td> <td> 0.442</td> <td>   -0.311</td> <td>    0.136</td>\n",
       "</tr>\n",
       "<tr>\n",
       "  <th>paymentmethod_Electronic check</th>        <td>    0.3045</td> <td>    0.094</td> <td>    3.222</td> <td> 0.001</td> <td>    0.119</td> <td>    0.490</td>\n",
       "</tr>\n",
       "<tr>\n",
       "  <th>paymentmethod_Mailed check</th>            <td>   -0.0576</td> <td>    0.115</td> <td>   -0.501</td> <td> 0.616</td> <td>   -0.283</td> <td>    0.168</td>\n",
       "</tr>\n",
       "</table>"
      ],
      "text/plain": [
       "<class 'statsmodels.iolib.summary.Summary'>\n",
       "\"\"\"\n",
       "                           Logit Regression Results                           \n",
       "==============================================================================\n",
       "Dep. Variable:                  churn   No. Observations:                 7032\n",
       "Model:                          Logit   Df Residuals:                     7008\n",
       "Method:                           MLE   Df Model:                           23\n",
       "Date:                Mon, 01 Jun 2020   Pseudo R-squ.:                  0.2845\n",
       "Time:                        10:15:12   Log-Likelihood:                -2913.1\n",
       "converged:                       True   LL-Null:                       -4071.7\n",
       "Covariance Type:            nonrobust   LLR p-value:                     0.000\n",
       "=========================================================================================================\n",
       "                                            coef    std err          z      P>|z|      [0.025      0.975]\n",
       "---------------------------------------------------------------------------------------------------------\n",
       "const                                     0.8340        nan        nan        nan         nan         nan\n",
       "tenure                                   -0.0606      0.006     -9.716      0.000      -0.073      -0.048\n",
       "monthlycharges                           -0.0403      0.032     -1.270      0.204      -0.103       0.022\n",
       "totalcharges                              0.0003   7.06e-05      4.657      0.000       0.000       0.000\n",
       "gender_Male                              -0.0218      0.065     -0.337      0.736      -0.149       0.105\n",
       "seniorcitizen_Yes                         0.2168      0.085      2.564      0.010       0.051       0.382\n",
       "partner_Yes                              -0.0004      0.078     -0.005      0.996      -0.153       0.152\n",
       "dependents_Yes                           -0.1485      0.090     -1.655      0.098      -0.324       0.027\n",
       "phoneservice_Yes                          0.5027        nan        nan        nan         nan         nan\n",
       "multiplelines_No phone service            0.3313        nan        nan        nan         nan         nan\n",
       "multiplelines_Yes                         0.4484      0.177      2.530      0.011       0.101       0.796\n",
       "internetservice_Fiber optic               1.7475      0.798      2.190      0.029       0.183       3.312\n",
       "internetservice_No                       -1.7863      0.807     -2.213      0.027      -3.369      -0.204\n",
       "onlinesecurity_Yes                       -0.2054      0.179     -1.150      0.250      -0.556       0.145\n",
       "onlinebackup_Yes                          0.0260      0.175      0.148      0.882      -0.318       0.370\n",
       "deviceprotection_Yes                      0.1474      0.176      0.836      0.403      -0.198       0.493\n",
       "techsupport_Yes                          -0.1805      0.181     -0.999      0.318      -0.534       0.173\n",
       "streamingtv_Yes                           0.5905      0.326      1.810      0.070      -0.049       1.230\n",
       "streamingmovies_Yes                       0.5993      0.327      1.834      0.067      -0.041       1.240\n",
       "contract_One year                        -0.6608      0.108     -6.142      0.000      -0.872      -0.450\n",
       "contract_Two year                        -1.3571      0.176     -7.691      0.000      -1.703      -1.011\n",
       "paperlessbilling_Yes                      0.3424      0.074      4.596      0.000       0.196       0.488\n",
       "paymentmethod_Credit card (automatic)    -0.0878      0.114     -0.770      0.442      -0.311       0.136\n",
       "paymentmethod_Electronic check            0.3045      0.094      3.222      0.001       0.119       0.490\n",
       "paymentmethod_Mailed check               -0.0576      0.115     -0.501      0.616      -0.283       0.168\n",
       "=========================================================================================================\n",
       "\"\"\""
      ]
     },
     "execution_count": 32,
     "metadata": {},
     "output_type": "execute_result"
    }
   ],
   "source": [
    "# # Build a  logistic regression base model using statsmodels\n",
    "\n",
    "import statsmodels.api as sm\n",
    "# define y\n",
    "y=df['churn'].copy()\n",
    "\n",
    "# Define X\n",
    "\n",
    "X = df.drop(columns=['churn'], axis=1)\n",
    "\n",
    "\n",
    "# Create intercept term required for sm.Logit, see documentation for more information\n",
    "X = sm.add_constant(X)\n",
    "\n",
    "# Fit model\n",
    "logit_model = sm.Logit(y, X)\n",
    "\n",
    "# Get results of the fit\n",
    "result = logit_model.fit()\n",
    "result.summary()"
   ]
  },
  {
   "cell_type": "code",
   "execution_count": 33,
   "metadata": {
    "ExecuteTime": {
     "end_time": "2020-06-01T14:15:25.721085Z",
     "start_time": "2020-06-01T14:15:25.713204Z"
    }
   },
   "outputs": [
    {
     "data": {
      "text/plain": [
       "Index(['tenure', 'totalcharges', 'churn', 'seniorcitizen_Yes',\n",
       "       'phoneservice_Yes', 'multiplelines_No phone service',\n",
       "       'multiplelines_Yes', 'internetservice_Fiber optic',\n",
       "       'internetservice_No', 'contract_One year', 'contract_Two year',\n",
       "       'paperlessbilling_Yes', 'paymentmethod_Electronic check'],\n",
       "      dtype='object')"
      ]
     },
     "metadata": {},
     "output_type": "display_data"
    }
   ],
   "source": [
    "#dropping  manually columns with p-value >0.05 that were not significant based on their higher p-values.\n",
    "\n",
    "df.drop(['monthlycharges','gender_Male','partner_Yes','dependents_Yes','onlinesecurity_Yes','onlinebackup_Yes',\n",
    " 'deviceprotection_Yes','techsupport_Yes','streamingtv_Yes','streamingmovies_Yes','paymentmethod_Credit card (automatic)',\n",
    " 'paymentmethod_Mailed check'],axis=1, inplace=True)\n",
    "display(df.columns)\n",
    "X=df.drop(columns=['churn'], axis=1) ### redine X after dropping insignificant feature\n"
   ]
  },
  {
   "cell_type": "code",
   "execution_count": 34,
   "metadata": {
    "ExecuteTime": {
     "end_time": "2020-06-01T14:15:36.199498Z",
     "start_time": "2020-06-01T14:15:36.186997Z"
    }
   },
   "outputs": [],
   "source": [
    "#scale numeric features \n",
    "from sklearn.preprocessing import StandardScaler\n",
    "ss = StandardScaler()\n",
    "# Scale the train and test data\n",
    "X_train = ss.fit_transform(X_train)\n",
    "X_test = ss.transform(X_test)"
   ]
  },
  {
   "cell_type": "code",
   "execution_count": 36,
   "metadata": {
    "ExecuteTime": {
     "end_time": "2020-06-01T14:17:44.850252Z",
     "start_time": "2020-06-01T14:17:44.299727Z"
    },
    "scrolled": false
   },
   "outputs": [
    {
     "data": {
      "text/plain": [
       "LogisticRegression(C=1.0, class_weight=None, dual=False, fit_intercept=True,\n",
       "                   intercept_scaling=1, l1_ratio=None, max_iter=100,\n",
       "                   multi_class='auto', n_jobs=None, penalty='l2',\n",
       "                   random_state=None, solver='lbfgs', tol=0.0001, verbose=0,\n",
       "                   warm_start=False)"
      ]
     },
     "execution_count": 36,
     "metadata": {},
     "output_type": "execute_result"
    },
    {
     "name": "stdout",
     "output_type": "stream",
     "text": [
      "Model: LogisticRegression(C=1.0, class_weight=None, dual=False, fit_intercept=True,\n",
      "                   intercept_scaling=1, l1_ratio=None, max_iter=100,\n",
      "                   multi_class='auto', n_jobs=None, penalty='l2',\n",
      "                   random_state=None, solver='lbfgs', tol=0.0001, verbose=0,\n",
      "                   warm_start=False)\n",
      "------------------------------------------------------------\n"
     ]
    },
    {
     "data": {
      "image/png": "[encoded data removed]",
      "text/plain": [
       "<Figure size 432x288 with 2 Axes>"
      ]
     },
     "metadata": {
      "needs_background": "light"
     },
     "output_type": "display_data"
    },
    {
     "name": "stdout",
     "output_type": "stream",
     "text": [
      "test accuracy: 0.8002132954141487\n",
      "train accuracy: 0.8039819862526665\n",
      "------------------------------------------------------------\n",
      "------------------------------------------------------------\n",
      "Confusion Matrix:\n",
      " Predicted     0    1   All\n",
      "Actual                    \n",
      "0          1879  200  2079\n",
      "1           362  372   734\n",
      "All        2241  572  2813\n",
      "\n",
      "test report:\n",
      "              precision    recall  f1-score   support\n",
      "\n",
      "           0       0.84      0.90      0.87      2079\n",
      "           1       0.65      0.51      0.57       734\n",
      "\n",
      "    accuracy                           0.80      2813\n",
      "   macro avg       0.74      0.71      0.72      2813\n",
      "weighted avg       0.79      0.80      0.79      2813\n",
      "\n",
      "~~~~~~~~~~~~~~~~~~~~~~~~~~~~~~~~~~~~~~~~~~~~~~~~~~~~~~~~~~~~\n",
      "\n",
      "train report:\n",
      "              precision    recall  f1-score   support\n",
      "\n",
      "           0       0.84      0.90      0.87      3084\n",
      "           1       0.66      0.55      0.60      1135\n",
      "\n",
      "    accuracy                           0.80      4219\n",
      "   macro avg       0.75      0.72      0.74      4219\n",
      "weighted avg       0.80      0.80      0.80      4219\n",
      "\n",
      "------------------------------------------------------------\n",
      "tenure                           -0.058894\n",
      "totalcharges                      0.000212\n",
      "seniorcitizen_Yes                 0.295602\n",
      "phoneservice_Yes                 -0.420487\n",
      "multiplelines_No phone service    0.124554\n",
      "multiplelines_Yes                 0.359700\n",
      "internetservice_Fiber optic       1.098821\n",
      "internetservice_No               -0.718422\n",
      "contract_One year                -0.616618\n",
      "contract_Two year                -0.835260\n",
      "paperlessbilling_Yes              0.281796\n",
      "paymentmethod_Electronic check    0.278733\n",
      "dtype: float64\n"
     ]
    },
    {
     "data": {
      "text/plain": [
       "<Figure size 1080x432 with 0 Axes>"
      ]
     },
     "execution_count": 36,
     "metadata": {},
     "output_type": "execute_result"
    },
    {
     "data": {
      "text/plain": [
       "(array([0. , 0.2, 0.4, 0.6, 0.8, 1. ]), <a list of 6 Text xticklabel objects>)"
      ]
     },
     "execution_count": 36,
     "metadata": {},
     "output_type": "execute_result"
    },
    {
     "data": {
      "image/png": "[encoded data removed]",
      "text/plain": [
       "<Figure size 1080x432 with 1 Axes>"
      ]
     },
     "metadata": {
      "needs_background": "light"
     },
     "output_type": "display_data"
    }
   ],
   "source": [
    "## Define X, y and split data into training and testing\n",
    "from sklearn.model_selection import train_test_split\n",
    "\n",
    "# Split data into X and y\n",
    "y=df['churn'].copy()\n",
    "\n",
    "# Define X\n",
    "\n",
    "X = df.drop(columns=['churn'], axis=1)\n",
    "\n",
    "\n",
    "\n",
    "#importing train_test_split\n",
    "from sklearn.model_selection import train_test_split\n",
    "# Split the data into a training and a test set and set stratify=y to help with imbalance data\n",
    "X_train,X_test,y_train,y_test = train_test_split(X,y,test_size=0.4,\n",
    "                                                 random_state=42)\n",
    "\n",
    "\n",
    "\n",
    "## logistic regression with sickit learn before smote\n",
    "logreg = LogisticRegression()\n",
    "base_log = logreg.fit(X_train, y_train)\n",
    "base_log\n",
    "#predictions\n",
    "y_hat_train=base_log.predict(X_train)\n",
    "y_hat_test = base_log.predict(X_test)\n",
    "\n",
    "# model results\n",
    "\n",
    "metrics(base_log, y_train, y_test, y_hat_train, y_hat_test)\n",
    "# To get the  coffients of all the variables of logistic Regression\n",
    "base_log_cof = pd.Series(base_log.coef_[0], index=X.columns.values)\n",
    "print(base_log_cof)\n",
    "\n",
    "base_log_cof.sort_values(inplace=True)\n",
    "plt.figure(figsize=(15, 6))\n",
    "plt.xticks(rotation=90)\n",
    "features=plt.bar(base_log_cof.index,base_log_cof.values)"
   ]
  },
  {
   "cell_type": "markdown",
   "metadata": {},
   "source": [
    "##### Interpreting the Confusion Matrix"
   ]
  },
  {
   "cell_type": "markdown",
   "metadata": {},
   "source": [
    "Interpreting the the Confusion Matrix results on testing data: 347 out of  734 instances which belong to class 1\"churn\" have been classified as class 0\"not_churn\". In other words,\n",
    "We are classifying 47% of the churn cases as not churn. This is considered a big loss to Telco company. The higher higher recall and precision in non churn customers is not due to correct classification. The model has predicted the majority class for almost all the examples which are the Telco's customers who don't churn. And since about 75.0% of the examples actually belong to this class\"not_churn\", it leads to such high recall and precision  scores. To fix this issue, imbalance data must be addressed through 'smote'"
   ]
  },
  {
   "cell_type": "markdown",
   "metadata": {},
   "source": [
    "#### False Negative Calculation \n",
    "The number of churn customers who have been misclassified as non churn. Having high number of False Negative will cause a big loss to Telco Company.It is considered  a priority job  to a data scientist to come up with a model that predicts very low number of false negative results.\n"
   ]
  },
  {
   "cell_type": "code",
   "execution_count": null,
   "metadata": {
    "ExecuteTime": {
     "end_time": "2020-06-01T13:53:25.804712Z",
     "start_time": "2020-06-01T13:53:25.713Z"
    }
   },
   "outputs": [],
   "source": [
    "#FN percentage\n",
    "347/734* 100"
   ]
  },
  {
   "cell_type": "markdown",
   "metadata": {},
   "source": [
    "###### Basemodel \n",
    "Basemodel with logistic regression has an accuracy of 80.5% for training data and 80.3% for testing, The model was able to call more non churn to churn customers . Recall is more important here. The basemodel recall is 53% with false negative pecentage of 347/734 =47%. We have to decrease the FN % and increase Recall for a better model prediction. The  target is imbalanced and can be fixed through smote. I will try Hypertuning the param and and also diffirent algorithm to increase the model's performance with regards testing accuracy and recall. "
   ]
  },
  {
   "cell_type": "markdown",
   "metadata": {},
   "source": [
    "##### Imbalance Target"
   ]
  },
  {
   "cell_type": "code",
   "execution_count": null,
   "metadata": {
    "ExecuteTime": {
     "end_time": "2020-06-01T13:53:25.805798Z",
     "start_time": "2020-06-01T13:53:25.718Z"
    }
   },
   "outputs": [],
   "source": [
    "print(f\"Churn (Target) Percentage Dustribution \", \"\\n\",round(df['churn'].value_counts(normalize=True) * 100,2))"
   ]
  },
  {
   "cell_type": "markdown",
   "metadata": {},
   "source": [
    "\n",
    "The target variable, 'churn', is imbalanced - meaning the variable contains about 3times more “no-churn” instances than “yes-churn” instances. This can present a problem since the positive class we want to predict is the “churn” class (1.0). Because of this imbalanced data, we will make sure that both our training set and testing set maintain this ratio of yes:no churn. This is can be addressed by trying different strategies such as:\n",
    "* class_weight='balanced'\n",
    "* stratify='y'\n",
    "* smote \n",
    "\n",
    "I believe smote is the most powerful, because the other above tow methods is not available with every algorithm.\n",
    "\n",
    "The smote function was imported from the imblearn.over_sampling.\n",
    "\n"
   ]
  },
  {
   "cell_type": "markdown",
   "metadata": {},
   "source": [
    "##### Using SMOTE\n",
    "It has been found that balancing the data will do better classification models. We will try balancing our data using SMOTE."
   ]
  },
  {
   "cell_type": "code",
   "execution_count": null,
   "metadata": {
    "ExecuteTime": {
     "end_time": "2020-06-01T13:53:25.806983Z",
     "start_time": "2020-06-01T13:53:25.723Z"
    }
   },
   "outputs": [],
   "source": [
    "'''\n",
    "smote\n",
    "refre to install docs \n",
    "https://imbalanced-learn.readthedocs.io/en/stable/install.html\n",
    "'''\n",
    "from imblearn.over_sampling import SMOTE, ADASYN \n",
    "\n",
    "X_resampled, y_resampled = SMOTE().fit_sample(X, y) #adding more users/non-users\n",
    "print(pd.Series(y_resampled).value_counts())\n",
    "\n",
    "X_train, X_test, y_train, y_test = train_test_split(X_resampled, y_resampled, random_state=0)\n"
   ]
  },
  {
   "cell_type": "code",
   "execution_count": null,
   "metadata": {
    "ExecuteTime": {
     "end_time": "2020-06-01T13:53:25.808022Z",
     "start_time": "2020-06-01T13:53:25.727Z"
    }
   },
   "outputs": [],
   "source": [
    "#  Logistic Regression after SMOTE\n",
    "logreg_smote1 = LogisticRegression()\n",
    "logreg_smote1.fit(X_train, y_train)\n",
    "\n",
    "#predictions\n",
    "y_hat_train = logreg_smote1.predict(X_train)\n",
    "y_hat_test = logreg_smote1.predict(X_test)\n",
    "\n",
    "# model results\n",
    "metrics(logreg_smote1, y_train, y_test, y_hat_train, y_hat_test)\n",
    "# To get the  coffients of all the variables of logistic Regression\n",
    "logreg_smote1_cof = pd.Series(logreg_smote1.coef_[0], index=X.columns.values)\n",
    "print(logreg_smote1_cof)\n",
    "\n",
    "logreg_smote1_cof.sort_values(inplace=True)\n",
    "plt.figure(figsize=(15, 6))\n",
    "plt.xticks(rotation=90)\n",
    "plt.title((\"Most Important Features according Logistic Regression Model\"), fontsize = 20)\n",
    "features=plt.bar(logreg_smote1_cof.index,logreg_smote1_cof.values)"
   ]
  },
  {
   "cell_type": "code",
   "execution_count": null,
   "metadata": {
    "ExecuteTime": {
     "end_time": "2020-06-01T13:53:25.809229Z",
     "start_time": "2020-06-01T13:53:25.730Z"
    }
   },
   "outputs": [],
   "source": [
    "##Percentage of False Negative\n",
    "249/1305*100"
   ]
  },
  {
   "cell_type": "markdown",
   "metadata": {},
   "source": [
    "###### Smote improves the balance between  0 and one in Recall, Precision,and F1 in training and testing, and I also notice increase in recalling the one's which is custmoer churn from 53% before smote to 81% after smote and a decrease in number of False Negative percentage from 47% before smote to 19% after smote. However my model accuracy got down from  80.3% to 77.7%. These results are for my first basemodel of logistic regression with the default parameters. To get better model accuracy, and  better recall, I will start my journey of hypertuning with playing with different sets of logistic regression parameters."
   ]
  },
  {
   "cell_type": "code",
   "execution_count": null,
   "metadata": {
    "ExecuteTime": {
     "end_time": "2020-06-01T13:53:25.810386Z",
     "start_time": "2020-06-01T13:53:25.734Z"
    }
   },
   "outputs": [],
   "source": [
    "## after smote logistic regression with sickit learn\n",
    "logreg_1 = LogisticRegression(fit_intercept = False, C = 1e15, solver='liblinear')\n",
    "logreg_1.fit(X_train, y_train)\n",
    "\n",
    "#predictions\n",
    "y_hat_train=logreg_1.predict(X_train)\n",
    "y_hat_test = logreg_1.predict(X_test)\n",
    "# model results\n",
    "metrics(logreg_1, y_train, y_test, y_hat_train, y_hat_test)\n",
    "\n",
    "# To get the  coffients of all the variables of logistic Regression\n",
    "model_log_cof = pd.Series(logreg_1.coef_[0], index=X.columns.values)\n",
    "print(model_log_cof)\n",
    "\n",
    "\n",
    "\n",
    "#model_log_cof = pd.Series(model_log_cof.coef_[0], index=X.columns.values)\n",
    "model_log_cof.sort_values(inplace=True)\n",
    "plt.figure(figsize=(15, 6))\n",
    "plt.xticks(rotation=90)\n",
    "features=plt.bar(model_log_cof.index,model_log_cof.values)"
   ]
  },
  {
   "cell_type": "markdown",
   "metadata": {
    "ExecuteTime": {
     "end_time": "2020-05-28T15:17:38.581706Z",
     "start_time": "2020-05-28T15:17:33.423Z"
    }
   },
   "source": [
    "All metrics showed a little  accuracy improvement. Now, I will try hypertuning with different parameters in different models through Gridsearch "
   ]
  },
  {
   "cell_type": "markdown",
   "metadata": {},
   "source": [
    "##### Trying different  models with different parameters"
   ]
  },
  {
   "cell_type": "markdown",
   "metadata": {},
   "source": [
    "Since the Gridsearch is going to take too longtime to finish its search and bring up its decision with best model and best paramater, I'm going to spend this time in explaining these models and  parameters  with simple words to make it easier for anyone in the future will read my notebook.\n",
    "\n",
    "SVM Classifier is algorithm used to separate between features through increasing the separating space, which is called the decision boundary between my features. SVM is doing this job using different methods.These methods are called Kernels. Kernels have different forms such as linear, poly, RBF. The linear Kernel is like  a line separating between the features, so the model can separate or classify between feature one and feature 2 using this line. When we do model.predict(X_test), we are telling the model to predict the values of y(churn customer) using (X feature) that has its coffient which is feature weight.As much weight we have, as much the feature will be important. Since the Kernel is linear, the prediction equation(decision function of yes churn or no churn) will be in form of y= intercept+ weight1*X1(feature_name1)+ weight2*X2(feature_name2)+....Weightn*Xn.In other words y= X.W+ b. Those Xs are features that have been standardized  using standard scaler from sickit learn which means they are in same scale of number's range.  If decsion function>0,classification will be positive(yes churn) else will be negative (not churn).  "
   ]
  },
  {
   "cell_type": "markdown",
   "metadata": {},
   "source": [
    "##### Select the Best Model with the best parameters"
   ]
  },
  {
   "cell_type": "code",
   "execution_count": null,
   "metadata": {
    "ExecuteTime": {
     "end_time": "2020-06-01T13:53:25.811582Z",
     "start_time": "2020-06-01T13:53:25.741Z"
    }
   },
   "outputs": [],
   "source": [
    "from sklearn import svm\n",
    "from sklearn.ensemble import RandomForestClassifier\n",
    "from sklearn.linear_model import LogisticRegression\n",
    "\n",
    "model_params = {\n",
    "    'svm': {\n",
    "        'model': svm.SVC(gamma='auto'),\n",
    "        'params' : {\n",
    "            'C': [1,10,20],\n",
    "            'kernel': ['rbf','linear']\n",
    "        }  \n",
    "    },\n",
    "    'random_forest': {\n",
    "        'model': RandomForestClassifier(),\n",
    "        'params' : {\n",
    "            'n_estimators': [1,5,10]\n",
    "        }\n",
    "    },\n",
    "    'logistic_regression' : {\n",
    "        'model': LogisticRegression(solver='liblinear',multi_class='auto'),\n",
    "        'params': {\n",
    "            'C': [1,5,10]\n",
    "        }\n",
    "    }\n",
    "}"
   ]
  },
  {
   "cell_type": "markdown",
   "metadata": {},
   "source": [
    "######  HyperTune_one with Gridsearch_one"
   ]
  },
  {
   "cell_type": "code",
   "execution_count": null,
   "metadata": {
    "ExecuteTime": {
     "end_time": "2020-06-01T13:53:25.812723Z",
     "start_time": "2020-06-01T13:53:25.745Z"
    }
   },
   "outputs": [],
   "source": [
    "from sklearn.model_selection import GridSearchCV\n",
    "scores = []\n",
    "\n",
    "for model_name, mp in model_params.items():\n",
    "    clf =  GridSearchCV(mp['model'], mp['params'], cv=5, return_train_score=False, n_jobs=-1)\n",
    "    clf.fit(X_train, y_train)\n",
    "    scores.append({\n",
    "        'model': model_name,\n",
    "        'best_score': clf.best_score_,\n",
    "        'best_params': clf.best_params_\n",
    "    })\n",
    "    \n",
    "df = pd.DataFrame(scores,columns=['model','best_score','best_params'])\n",
    "df"
   ]
  },
  {
   "cell_type": "markdown",
   "metadata": {},
   "source": [
    "Gridsearch shows that Random forest is the best model with cv accuracy of 82.5%. Now I will check the performance of random forest with n=10 and check overfitting, and recall."
   ]
  },
  {
   "cell_type": "code",
   "execution_count": null,
   "metadata": {
    "ExecuteTime": {
     "end_time": "2020-06-01T13:53:25.813858Z",
     "start_time": "2020-06-01T13:53:25.749Z"
    }
   },
   "outputs": [],
   "source": [
    "# Instantiate and fit a RandomForestClassifier with n_estimators=100\n",
    "forest_1 = RandomForestClassifier(n_estimators=10)\n",
    "\n",
    "forest_1.fit(X_train, y_train)\n",
    "\n",
    "#predictions\n",
    "y_hat_train=forest_1.predict(X_train)\n",
    "y_hat_test = forest_1.predict(X_test)\n",
    "\n",
    "# model results\n",
    "\n",
    "metrics(forest_1, y_train, y_test, y_hat_train, y_hat_test)\n"
   ]
  },
  {
   "cell_type": "markdown",
   "metadata": {},
   "source": [
    "With applying n-estimator=10 by itself I ran into overfitting problem so, I will do another gridsearch with more parameters"
   ]
  },
  {
   "cell_type": "markdown",
   "metadata": {},
   "source": [
    "#### Hypertune_2"
   ]
  },
  {
   "cell_type": "markdown",
   "metadata": {},
   "source": [
    "Trying to follow the Gridsearch best model i.e.Random forest with the best suggested parameter of number of estimators=10,I found my model ran into overfitting issue where the training accuracy is 98.1% while the testing accuracy is 84.6%. I can fix the overfitting of my model through adding more parametetrs to Randomforest which will tune my model and overcome the overfitting issue. I will run a gridsearch again with the following param"
   ]
  },
  {
   "cell_type": "code",
   "execution_count": null,
   "metadata": {
    "ExecuteTime": {
     "end_time": "2020-06-01T13:53:25.815009Z",
     "start_time": "2020-06-01T13:53:25.753Z"
    }
   },
   "outputs": [],
   "source": [
    "rf_param = RandomForestClassifier()\n",
    "param_grid = {\n",
    "     'criterion':['gini','entropy'],\n",
    "    'max_depth':[2,3,4,5,20],\n",
    "    'min_samples_split':[5,20,50],\n",
    "    'min_samples_leaf':[15,20,30],\n",
    "    'n_estimators': [1,5,10]\n",
    "}\n",
    "gs = GridSearchCV(forest_1, param_grid, cv=3, n_jobs=-1)\n",
    "gs.fit(X_train, y_train)\n",
    "gs.best_params_"
   ]
  },
  {
   "cell_type": "markdown",
   "metadata": {},
   "source": [
    "The Gridsearh suggests {'criterion': 'gini','max_depth': 20,'min_samples_leaf': 15 'min_samples_split': 50,'n_estimators': 10} as best parameters. So I will plug them into Randomforest and check the metrics"
   ]
  },
  {
   "cell_type": "code",
   "execution_count": null,
   "metadata": {
    "ExecuteTime": {
     "end_time": "2020-06-01T13:53:25.816161Z",
     "start_time": "2020-06-01T13:53:25.758Z"
    },
    "scrolled": false
   },
   "outputs": [],
   "source": [
    "# Instantiate and fit a RandomForestClassifier with n_estimators=100\n",
    "forest_2 = RandomForestClassifier(n_estimators=10,\n",
    "                                criterion= 'gini',\n",
    "                                max_depth= 20,\n",
    "                                min_samples_leaf= 15,\n",
    "                                min_samples_split= 50)\n",
    "\n",
    "forest_2.fit(X_train, y_train)\n",
    "\n",
    "#predictions\n",
    "y_hat_train=forest_2.predict(X_train)\n",
    "y_hat_test = forest_2.predict(X_test)\n",
    "\n",
    "# model results\n",
    "\n",
    "metrics(forest_2, y_train, y_test, y_hat_train, y_hat_test)\n",
    "# To get the feature importance\n",
    "feature_important=forest_2.feature_importances_\n",
    "# Plot features importances\n",
    "imp = pd.Series(data=forest_2.feature_importances_, index=X.columns).sort_values(ascending=False)\n",
    "plt.style.use('dark_background')\n",
    "plt.figure(figsize=(10,12))\n",
    "plt.title(\"Feature importance of Random Forest model\")\n",
    "ax = sns.barplot(y=imp.index, x=imp.values, palette=\"RdBu\")\n"
   ]
  },
  {
   "cell_type": "markdown",
   "metadata": {},
   "source": [
    "###### Interpreting Confusion Matrix(TN,FP,FN,TP) with Percentages"
   ]
  },
  {
   "cell_type": "code",
   "execution_count": null,
   "metadata": {
    "ExecuteTime": {
     "end_time": "2020-06-01T13:53:25.817383Z",
     "start_time": "2020-06-01T13:53:25.761Z"
    }
   },
   "outputs": [],
   "source": [
    "# percentage of misclassified customers as False negatived \n",
    "print('percentage of misclassified customers as not churn (FN):',np.round(184/1305* 100,3))\n",
    "\n",
    "print('percentage of misclassified customers as churn (FP):',np.round(214 / 1277* 100))\n",
    "print('percentage of correct classified customers as not churn (TN):',np.round(1063/1277 *100))\n",
    "print('percentage of correct classified customers as yes churn (TP):',np.round(1121/ 1305 *100)\n"
   ]
  },
  {
   "cell_type": "markdown",
   "metadata": {},
   "source": [
    "###### Trying the suggested best parameters above, I got better model testing and training accuracy of 86%. The recall of churnned customer is 86% also. I have  precision, recall, and F1 balance between not churn and yes churn with percentage of  about 86%. The False negative percentage in this model is 14%. I think this is a good model and I will trust it to make my prediction of churn customers\n"
   ]
  },
  {
   "cell_type": "markdown",
   "metadata": {},
   "source": [
    "##### ROC Curve for Random Forest Classifier "
   ]
  },
  {
   "cell_type": "code",
   "execution_count": null,
   "metadata": {
    "ExecuteTime": {
     "end_time": "2020-06-01T13:53:25.818653Z",
     "start_time": "2020-06-01T13:53:25.766Z"
    }
   },
   "outputs": [],
   "source": [
    "from sklearn.metrics import roc_curve, auc\n",
    "\n",
    "y_score_test = forest.predict(X_test)\n",
    "test_fpr, test_tpr, test_thresholds = roc_curve(y_test, y_score_test)\n",
    "\n",
    "y_score_train = forest.predict(X_train)\n",
    "train_fpr, train_tpr, train_thresholds = roc_curve(y_train, y_score_train)\n",
    "\n",
    "# Train AUC\n",
    "print('Train AUC: {}'.format(auc(train_fpr, train_tpr)))\n",
    "print('Test AUC: {}'.format(auc(test_fpr, test_tpr)))\n",
    "\n",
    "# Seaborn's beautiful styling\n",
    "sns.set_style('darkgrid', {'axes.facecolor': '0.9'})\n",
    "\n",
    "plt.figure(figsize=(10,8))\n",
    "lw = 2\n",
    "plt.style.use('fivethirtyeight')\n",
    "\n",
    "plt.plot(train_fpr, train_tpr, color='blue',\n",
    "         lw=lw, label='Train ROC curve')\n",
    "plt.plot(test_fpr, test_tpr, color='darkorange',\n",
    "         lw=lw, label='Test ROC curve')\n",
    "\n",
    "plt.plot([0, 1], [0, 1], color='navy', lw=lw, linestyle='--')\n",
    "plt.xlim([0.0, 1.0])\n",
    "plt.ylim([0.0, 1.05])\n",
    "plt.yticks([i/20.0 for i in range(21)])\n",
    "plt.xticks([i/20.0 for i in range(21)])\n",
    "plt.xlabel('False Positive Rate')\n",
    "plt.ylabel('True Positive Rate')\n",
    "plt.title('Receiver operating characteristic (ROC) Curve')\n",
    "plt.legend(loc='lower right')\n",
    "plt.show()"
   ]
  },
  {
   "cell_type": "markdown",
   "metadata": {},
   "source": [
    "The ROC plot shows the true positive rate( the rate that my model predicts the number of customers churnned  to the true churnned  customers) against the false positive rate where my model predicts the number of customers are churnned but the truth they don't churn.The further  the curve is away from the middle line and closer to the top left corner,the better this model precision is.  AUC  is a metric of the model's accuracy and  closer to one is better and closer to 0.5 is bad. Because 0.5 means the model can't differentiate between positive and negative which means the model failed to  make a prediction of whether customer churn or not"
   ]
  },
  {
   "cell_type": "markdown",
   "metadata": {},
   "source": [
    "\n",
    "##### Random Forest Tuning through pipeline\n",
    "Random Forests is a form of  bagging class that is built on a large collection of trees which is  called number of  esimators, the Random forest decision(yes churn) is built on taking the average of these trees.\n",
    "Now, I will go further steps to do more gridsearch of randomfoest through pipline as an estimator to gridsearch, and random forest is going to be an estimator to pipeline to see if I can  get more metrics improvement,and also to avoid data leakage.\n"
   ]
  },
  {
   "cell_type": "code",
   "execution_count": null,
   "metadata": {
    "ExecuteTime": {
     "end_time": "2020-06-01T13:53:25.819981Z",
     "start_time": "2020-06-01T13:53:25.770Z"
    }
   },
   "outputs": [],
   "source": [
    "#instantiate the pipeline\n",
    "pipe = Pipeline([('classifier', RandomForestClassifier(random_state=123))])\n",
    "params={'criterion':['gini','entropy'],\n",
    "    'max_depth':[2,3,4,5,7,20],\n",
    "    'min_samples_split':[1,2,5,9,20,50],\n",
    "    'min_samples_leaf':[1,2,3,5,15,20],\n",
    "    'n_estimators':[10, 20, 50, 100, 150, 200]}\n",
    "clf = GridSearchCV(estimator= pipe, param_grid=grid, cv=5, scoring='roc_auc', n_jobs=-1 )\n",
    "clf.fit(X_train, y_train)\n",
    "y_hat_train = clf.predict(X_train)\n",
    "y_hat_test = clf.predict(X_test)\n",
    "print(clf.score(X_train, y_train))\n",
    "print(clf.score(X_test, y_test))\n",
    "clf.best_params_"
   ]
  },
  {
   "cell_type": "markdown",
   "metadata": {},
   "source": [
    "The accuracy score of Gridsearch is pretty high with 93.4% for training and 93.1% for testing. The gridsearch predicts the following parameter as the best parameters for randforest as follows:\n",
    "class_weight= 'balanced',criterion= 'entropy',max_depth= 7,min_samples_leaf= 2,min_samples_split= 10,n_estimators= 200. Now, I will plug them again into randomforest and check the metrics."
   ]
  },
  {
   "cell_type": "code",
   "execution_count": null,
   "metadata": {
    "ExecuteTime": {
     "end_time": "2020-06-01T13:53:25.821398Z",
     "start_time": "2020-06-01T13:53:25.774Z"
    }
   },
   "outputs": [],
   "source": [
    "# Instantiate and fit a RandomForestClassifier with n_estimators=100\n",
    "forest_3 = RandomForestClassifier(n_estimators=200,\n",
    "                                criterion= 'entropy',\n",
    "                                max_depth= 7,\n",
    "                                min_samples_leaf= 2,\n",
    "                                min_samples_split= 10,\n",
    "                                class_weight= 'balanced')\n",
    "\n",
    "forest_3.fit(X_train, y_train)\n",
    "\n",
    "#predictions\n",
    "y_hat_train=forest_3.predict(X_train)\n",
    "y_hat_test = forest_3.predict(X_test)\n",
    "\n",
    "# model results\n",
    "\n",
    "metrics(forest_3, y_train, y_test, y_hat_train, y_hat_test)\n",
    "# To get the feature importance\n",
    "feature_important=forest_3.feature_importances_\n",
    "# Plot features importances\n",
    "imp = pd.Series(data=forest_3.feature_importances_, index=X.columns).sort_values(ascending=False)\n",
    "plt.figure(figsize=(10,12))\n",
    "plt.title(\"Feature importance of Random Forest model\")\n",
    "ax = sns.barplot(y=imp.index, x=imp.values, palette=\"Blues_d\")\n"
   ]
  },
  {
   "cell_type": "code",
   "execution_count": null,
   "metadata": {
    "ExecuteTime": {
     "end_time": "2020-06-01T13:53:25.822759Z",
     "start_time": "2020-06-01T13:53:25.777Z"
    }
   },
   "outputs": [],
   "source": [
    "## False Negative percentage\n",
    "158/1305*100"
   ]
  },
  {
   "cell_type": "code",
   "execution_count": 24,
   "metadata": {
    "ExecuteTime": {
     "end_time": "2020-06-01T13:53:25.943471Z",
     "start_time": "2020-06-01T13:53:25.926265Z"
    }
   },
   "outputs": [
    {
     "ename": "NameError",
     "evalue": "name 'forest_3' is not defined",
     "output_type": "error",
     "traceback": [
      "\u001b[0;31m---------------------------------------------------------------------------\u001b[0m",
      "\u001b[0;31mNameError\u001b[0m                                 Traceback (most recent call last)",
      "\u001b[0;32m<ipython-input-24-88f43d6248ab>\u001b[0m in \u001b[0;36m<module>\u001b[0;34m\u001b[0m\n\u001b[1;32m      2\u001b[0m \u001b[0;32mfrom\u001b[0m \u001b[0msklearn\u001b[0m\u001b[0;34m.\u001b[0m\u001b[0mmetrics\u001b[0m \u001b[0;32mimport\u001b[0m \u001b[0mroc_curve\u001b[0m\u001b[0;34m,\u001b[0m \u001b[0mauc\u001b[0m\u001b[0;34m\u001b[0m\u001b[0;34m\u001b[0m\u001b[0m\n\u001b[1;32m      3\u001b[0m \u001b[0;34m\u001b[0m\u001b[0m\n\u001b[0;32m----> 4\u001b[0;31m \u001b[0my_score_test\u001b[0m \u001b[0;34m=\u001b[0m \u001b[0mforest_3\u001b[0m\u001b[0;34m.\u001b[0m\u001b[0mpredict\u001b[0m\u001b[0;34m(\u001b[0m\u001b[0mX_test\u001b[0m\u001b[0;34m)\u001b[0m\u001b[0;34m\u001b[0m\u001b[0;34m\u001b[0m\u001b[0m\n\u001b[0m\u001b[1;32m      5\u001b[0m \u001b[0mtest_fpr\u001b[0m\u001b[0;34m,\u001b[0m \u001b[0mtest_tpr\u001b[0m\u001b[0;34m,\u001b[0m \u001b[0mtest_thresholds\u001b[0m \u001b[0;34m=\u001b[0m \u001b[0mroc_curve\u001b[0m\u001b[0;34m(\u001b[0m\u001b[0my_test\u001b[0m\u001b[0;34m,\u001b[0m \u001b[0my_score_test\u001b[0m\u001b[0;34m)\u001b[0m\u001b[0;34m\u001b[0m\u001b[0;34m\u001b[0m\u001b[0m\n\u001b[1;32m      6\u001b[0m \u001b[0;34m\u001b[0m\u001b[0m\n",
      "\u001b[0;31mNameError\u001b[0m: name 'forest_3' is not defined"
     ]
    }
   ],
   "source": [
    "## Plotting ROC Curve\n",
    "from sklearn.metrics import roc_curve, auc\n",
    "\n",
    "y_score_test = forest_3.predict(X_test)\n",
    "test_fpr, test_tpr, test_thresholds = roc_curve(y_test, y_score_test)\n",
    "\n",
    "y_score_train = forest_3.predict(X_train)\n",
    "train_fpr, train_tpr, train_thresholds = roc_curve(y_train, y_score_train)\n",
    "\n",
    "# Train AUC\n",
    "print('Train AUC: {}'.format(auc(train_fpr, train_tpr)))\n",
    "print('Test AUC: {}'.format(auc(test_fpr, test_tpr)))\n",
    "\n",
    "# Seaborn's beautiful styling\n",
    "sns.set_style('darkgrid', {'axes.facecolor': '0.9'})\n",
    "\n",
    "plt.figure(figsize=(10,8))\n",
    "lw = 2\n",
    "\n",
    "plt.plot(train_fpr, train_tpr, color='blue',\n",
    "         lw=lw, label='Train ROC curve')\n",
    "plt.plot(test_fpr, test_tpr, color='darkorange',\n",
    "         lw=lw, label='Test ROC curve')\n",
    "\n",
    "plt.plot([0, 1], [0, 1], color='navy', lw=lw, linestyle='--')\n",
    "plt.xlim([0.0, 1.0])\n",
    "plt.ylim([0.0, 1.05])\n",
    "plt.yticks([i/20.0 for i in range(21)])\n",
    "plt.xticks([i/20.0 for i in range(21)])\n",
    "plt.xlabel('False Positive Rate')\n",
    "plt.ylabel('True Positive Rate')\n",
    "plt.title('Receiver operating characteristic (ROC) Curve')\n",
    "plt.legend(loc='lower right')\n",
    "plt.show()"
   ]
  },
  {
   "cell_type": "markdown",
   "metadata": {},
   "source": [
    "###### SVM classifier \n",
    "Since the Gridsearch suggested SVM as a good classifier with accuracy of 80%, I will try to hypertune it more so I might be able to improve the results."
   ]
  },
  {
   "cell_type": "markdown",
   "metadata": {},
   "source": [
    "#### Modeling with Ensemble Methods\n",
    "\n",
    " Ensemble Learning:\n",
    " \n",
    " ###### Bagging and Boosting\n",
    "Next, We will try modeling with Ensemble methods, and show the strength of using these powerful methods.\n",
    "I will look for feature importance and improve the accuracy of my ensembled models through tuning hyperparameters.\n"
   ]
  },
  {
   "cell_type": "markdown",
   "metadata": {
    "ExecuteTime": {
     "end_time": "2020-05-26T09:12:49.541699Z",
     "start_time": "2020-05-26T09:12:49.537818Z"
    }
   },
   "source": [
    "Ensemble models are combination of simple models working together to make a prediction.\n",
    "\n",
    "• It can be broken down into two tasks:\n",
    "1. Develop a population of base learners\n",
    "2. Combine them to form a composite predictor"
   ]
  },
  {
   "cell_type": "markdown",
   "metadata": {},
   "source": [
    "##### Conclusion\n",
    "\n",
    "Research in predicting customer churn has proved it is very important and it adds an income to Telecom companies.As we can see, some variables are negatively correlated with the predicted target (Churn), while some others behave positively. Negative correlation means that  churn decreases  when variable increases. \n",
    "\n",
    "tenure is the most important feature for prediction and it has most negative correlation, so when tenure increases, \n",
    "\n",
    "churn decreases, monthly charges is the second important feature, and as monthly charges increase, churn decrease\n",
    "\n",
    "then internetservice_Fiber optic is the third important feature but it has a positive correlation  so as  \n",
    "\n",
    "internetservice_Fiber optic increases,churn increases \n",
    "\n",
    "totalcharges is the forth important feature and it has positive effect. As  totalcharges increase, churn increases                           \n",
    "contract_Two year is the fifth important feature and it has negative effect, so as  contract_Two year increase, churn decreases                           \n",
    "\n",
    "As we have seen in our EDA, having a 2 year contract reduces chances of churn. 2 year contract along with tenure have the most negative relation with Churn as predicted by logistic regressions. Total charges, fibre optic internet services and seniority can lead to higher churn rates. This is interesting because although fibre optic services are faster, customers are likely to churn because of it. I don't understad why this is happening.\n",
    "\n",
    "Till the time let's have a look at other algorithms."
   ]
  },
  {
   "cell_type": "markdown",
   "metadata": {},
   "source": [
    "###### XGBoost"
   ]
  },
  {
   "cell_type": "code",
   "execution_count": null,
   "metadata": {
    "ExecuteTime": {
     "end_time": "2020-06-01T13:53:25.948028Z",
     "start_time": "2020-06-01T13:53:25.788Z"
    }
   },
   "outputs": [],
   "source": [
    "from xgboost import XGBClassifier\n",
    "import xgboost as xgb\n",
    "from sklearn.metrics import recall_score\n",
    "from sklearn.model_selection import GridSearchCV\n",
    "clf_xgb = XGBClassifier()\n",
    "param_grid = {\n",
    "    \"learning_rate\": [0.1,0.2,0.5,0.9],\n",
    "    'max_depth': [3, 9, 12],\n",
    "    'min_child_weight': [10, 18],\n",
    "    'subsample': [0.3, 0.9],\n",
    "    'n_estimators': [5, 30, 100, 150],\n",
    "    'nthread' : [-1],\n",
    "}\n",
    "grid_clf = GridSearchCV(clf_xgb, param_grid, scoring='recall', cv=5, n_jobs=1)\n",
    "grid_clf.fit(X_train, y_train)\n",
    "\n",
    "best_parameters = grid_clf.best_params_\n",
    "\n",
    "print(\"Grid Search found the following optimal parameters: \")\n",
    "for param_name in sorted(best_parameters.keys()):\n",
    "    print(\"%s: %r\" % (param_name, best_parameters[param_name]))\n",
    "\n",
    "y_hat_train = grid_clf.predict(X_train)\n",
    "y_hat_test= grid_clf.predict(X_test)\n",
    "metrics(grid_clf, y_train, y_test, y_hat_train, y_hat_test)\n",
    "train_accuracy=recall_score(y_train, y_hat_train)\n",
    "test_accuracy = recall_score(y_test, y_hat_test)\n",
    "print(\"\")\n",
    "print(\"Training recall: {:.4}%\".format(train_accuracy * 100))\n",
    "print(\"Test recall: {:.4}%\".format(test_accuracy * 100))"
   ]
  },
  {
   "cell_type": "markdown",
   "metadata": {},
   "source": [
    "##### Conclusion\n",
    "In conclusion, based on our EDA, We can see the more servises are added the less people churn. Gender is not a feature, phone service and multipleline arn't important.\n",
    "\n",
    "###### List of important features are :\n",
    "seniorcitizen,partner,dependents,internetservice,contract,paperlessbilling, paymentmethod,Totalcharges and Tenure. \n",
    "\n",
    "\n",
    "\n",
    "###### Important Questions are: \n",
    "Q1: What percentage of customers churn?\n",
    "\n",
    "Q2: What are common variables among churn customers?\n",
    "\n",
    "Q3: What is the predicted percentage of customer churn?\n",
    "\n",
    "Q4:  How to reduce customer churn?\n",
    "\n"
   ]
  },
  {
   "cell_type": "code",
   "execution_count": null,
   "metadata": {},
   "outputs": [],
   "source": []
  },
  {
   "cell_type": "code",
   "execution_count": null,
   "metadata": {},
   "outputs": [],
   "source": []
  }
 ],
 "metadata": {
  "kernelspec": {
   "display_name": "Python 3",
   "language": "python",
   "name": "python3"
  },
  "language_info": {
   "codemirror_mode": {
    "name": "ipython",
    "version": 3
   },
   "file_extension": ".py",
   "mimetype": "text/x-python",
   "name": "python",
   "nbconvert_exporter": "python",
   "pygments_lexer": "ipython3",
   "version": "3.7.6"
  },
  "toc": {
   "base_numbering": 1,
   "nav_menu": {},
   "number_sections": true,
   "sideBar": true,
   "skip_h1_title": false,
   "title_cell": "Table of Contents",
   "title_sidebar": "Contents",
   "toc_cell": true,
   "toc_position": {
    "height": "calc(100% - 180px)",
    "left": "10px",
    "top": "150px",
    "width": "165px"
   },
   "toc_section_display": true,
   "toc_window_display": true
  },
  "varInspector": {
   "cols": {
    "lenName": 16,
    "lenType": 16,
    "lenVar": 40
   },
   "kernels_config": {
    "python": {
     "delete_cmd_postfix": "",
     "delete_cmd_prefix": "del ",
     "library": "var_list.py",
     "varRefreshCmd": "print(var_dic_list())"
    },
    "r": {
     "delete_cmd_postfix": ") ",
     "delete_cmd_prefix": "rm(",
     "library": "var_list.r",
     "varRefreshCmd": "cat(var_dic_list()) "
    }
   },
   "types_to_exclude": [
    "module",
    "function",
    "builtin_function_or_method",
    "instance",
    "_Feature"
   ],
   "window_display": false
  }
 },
 "nbformat": 4,
 "nbformat_minor": 2
}
