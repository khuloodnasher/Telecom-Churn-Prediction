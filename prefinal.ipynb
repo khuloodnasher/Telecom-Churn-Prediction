{
 "cells": [
  {
   "cell_type": "markdown",
   "metadata": {
    "toc": true
   },
   "source": [
    "<h1>Table of Contents<span class=\"tocSkip\"></span></h1>\n",
    "<div class=\"toc\"><ul class=\"toc-item\"><li><span><a href=\"#Final-Project-Submission\" data-toc-modified-id=\"Final-Project-Submission-1\"><span class=\"toc-item-num\">1&nbsp;&nbsp;</span>Final Project Submission</a></span><ul class=\"toc-item\"><li><span><a href=\"#Introduction\" data-toc-modified-id=\"Introduction-1.1\"><span class=\"toc-item-num\">1.1&nbsp;&nbsp;</span>Introduction</a></span><ul class=\"toc-item\"><li><span><a href=\"#What-Is-Customer-Churn?\" data-toc-modified-id=\"What-Is-Customer-Churn?-1.1.1\"><span class=\"toc-item-num\">1.1.1&nbsp;&nbsp;</span>What Is Customer Churn?</a></span></li><li><span><a href=\"#Why-it-is-important-to-calculate-customer-churn?\" data-toc-modified-id=\"Why-it-is-important-to-calculate-customer-churn?-1.1.2\"><span class=\"toc-item-num\">1.1.2&nbsp;&nbsp;</span>Why it is important to calculate customer churn?</a></span></li><li><span><a href=\"#Important-Questions:\" data-toc-modified-id=\"Important-Questions:-1.1.3\"><span class=\"toc-item-num\">1.1.3&nbsp;&nbsp;</span>Important Questions:</a></span></li><li><span><a href=\"#About-Telco-data\" data-toc-modified-id=\"About-Telco-data-1.1.4\"><span class=\"toc-item-num\">1.1.4&nbsp;&nbsp;</span>About Telco data</a></span></li></ul></li><li><span><a href=\"#Resources\" data-toc-modified-id=\"Resources-1.2\"><span class=\"toc-item-num\">1.2&nbsp;&nbsp;</span>Resources</a></span></li><li><span><a href=\"#Obtain-Data\" data-toc-modified-id=\"Obtain-Data-1.3\"><span class=\"toc-item-num\">1.3&nbsp;&nbsp;</span>Obtain Data</a></span></li><li><span><a href=\"#Scrub-Data\" data-toc-modified-id=\"Scrub-Data-1.4\"><span class=\"toc-item-num\">1.4&nbsp;&nbsp;</span>Scrub Data</a></span><ul class=\"toc-item\"><li><ul class=\"toc-item\"><li><span><a href=\"#Check-dublicates\" data-toc-modified-id=\"Check-dublicates-1.4.0.1\"><span class=\"toc-item-num\">1.4.0.1&nbsp;&nbsp;</span>Check dublicates</a></span></li></ul></li></ul></li><li><span><a href=\"#Explore-Data\" data-toc-modified-id=\"Explore-Data-1.5\"><span class=\"toc-item-num\">1.5&nbsp;&nbsp;</span>Explore Data</a></span><ul class=\"toc-item\"><li><span><a href=\"#Explore-Target-Column\" data-toc-modified-id=\"Explore-Target-Column-1.5.1\"><span class=\"toc-item-num\">1.5.1&nbsp;&nbsp;</span>Explore Target Column</a></span><ul class=\"toc-item\"><li><span><a href=\"#Exploring-Categorical-Features\" data-toc-modified-id=\"Exploring-Categorical-Features-1.5.1.1\"><span class=\"toc-item-num\">1.5.1.1&nbsp;&nbsp;</span>Exploring Categorical Features</a></span></li></ul></li></ul></li><li><span><a href=\"#Exploring-Numeric-Features\" data-toc-modified-id=\"Exploring-Numeric-Features-1.6\"><span class=\"toc-item-num\">1.6&nbsp;&nbsp;</span>Exploring Numeric Features</a></span><ul class=\"toc-item\"><li><span><a href=\"#Checking-Outliers\" data-toc-modified-id=\"Checking-Outliers-1.6.1\"><span class=\"toc-item-num\">1.6.1&nbsp;&nbsp;</span>Checking Outliers</a></span><ul class=\"toc-item\"><li><span><a href=\"#tenure-outlier-check\" data-toc-modified-id=\"tenure-outlier-check-1.6.1.1\"><span class=\"toc-item-num\">1.6.1.1&nbsp;&nbsp;</span>tenure outlier check</a></span></li><li><span><a href=\"#monthlycharges-outlier-Removal\" data-toc-modified-id=\"monthlycharges-outlier-Removal-1.6.1.2\"><span class=\"toc-item-num\">1.6.1.2&nbsp;&nbsp;</span>monthlycharges outlier Removal</a></span></li><li><span><a href=\"#totalcharges-outlier's-check\" data-toc-modified-id=\"totalcharges-outlier's-check-1.6.1.3\"><span class=\"toc-item-num\">1.6.1.3&nbsp;&nbsp;</span>totalcharges outlier's check</a></span></li></ul></li></ul></li><li><span><a href=\"#Modeling-Data\" data-toc-modified-id=\"Modeling-Data-1.7\"><span class=\"toc-item-num\">1.7&nbsp;&nbsp;</span>Modeling Data</a></span><ul class=\"toc-item\"><li><span><a href=\"#Data-preprocessing\" data-toc-modified-id=\"Data-preprocessing-1.7.1\"><span class=\"toc-item-num\">1.7.1&nbsp;&nbsp;</span>Data preprocessing</a></span><ul class=\"toc-item\"><li><span><a href=\"#Encoding-features\" data-toc-modified-id=\"Encoding-features-1.7.1.1\"><span class=\"toc-item-num\">1.7.1.1&nbsp;&nbsp;</span>Encoding features</a></span></li></ul></li><li><span><a href=\"#Baseline-model\" data-toc-modified-id=\"Baseline-model-1.7.2\"><span class=\"toc-item-num\">1.7.2&nbsp;&nbsp;</span>Baseline model</a></span></li></ul></li><li><span><a href=\"#Evaluation-Metrics\" data-toc-modified-id=\"Evaluation-Metrics-1.8\"><span class=\"toc-item-num\">1.8&nbsp;&nbsp;</span>Evaluation Metrics</a></span><ul class=\"toc-item\"><li><span><a href=\"#Spliting-data-into-Training-and-Testing\" data-toc-modified-id=\"Spliting-data-into-Training-and-Testing-1.8.1\"><span class=\"toc-item-num\">1.8.1&nbsp;&nbsp;</span>Spliting data into Training and Testing</a></span><ul class=\"toc-item\"><li><span><a href=\"#Imbalance-Target\" data-toc-modified-id=\"Imbalance-Target-1.8.1.1\"><span class=\"toc-item-num\">1.8.1.1&nbsp;&nbsp;</span>Imbalance Target</a></span></li><li><span><a href=\"#Using-SMOTE\" data-toc-modified-id=\"Using-SMOTE-1.8.1.2\"><span class=\"toc-item-num\">1.8.1.2&nbsp;&nbsp;</span>Using SMOTE</a></span></li><li><span><a href=\"#Trying-different--models-and-different-parameters\" data-toc-modified-id=\"Trying-different--models-and-different-parameters-1.8.1.3\"><span class=\"toc-item-num\">1.8.1.3&nbsp;&nbsp;</span>Trying different  models and different parameters</a></span></li></ul></li><li><span><a href=\"#Select-Best-Model\" data-toc-modified-id=\"Select-Best-Model-1.8.2\"><span class=\"toc-item-num\">1.8.2&nbsp;&nbsp;</span>Select Best Model</a></span></li><li><span><a href=\"#Make-Predictions\" data-toc-modified-id=\"Make-Predictions-1.8.3\"><span class=\"toc-item-num\">1.8.3&nbsp;&nbsp;</span>Make Predictions</a></span></li><li><span><a href=\"#Evaluate-Predictions\" data-toc-modified-id=\"Evaluate-Predictions-1.8.4\"><span class=\"toc-item-num\">1.8.4&nbsp;&nbsp;</span>Evaluate Predictions</a></span></li><li><span><a href=\"#Confusion_Matrix-details\" data-toc-modified-id=\"Confusion_Matrix-details-1.8.5\"><span class=\"toc-item-num\">1.8.5&nbsp;&nbsp;</span>Confusion_Matrix details</a></span></li><li><span><a href=\"#Modeling-with-Ensemble-Methods\" data-toc-modified-id=\"Modeling-with-Ensemble-Methods-1.8.6\"><span class=\"toc-item-num\">1.8.6&nbsp;&nbsp;</span>Modeling with Ensemble Methods</a></span></li><li><span><a href=\"#Extra-Trees\" data-toc-modified-id=\"Extra-Trees-1.8.7\"><span class=\"toc-item-num\">1.8.7&nbsp;&nbsp;</span>Extra Trees</a></span></li><li><span><a href=\"#Out-of-Bag-Evaluation\" data-toc-modified-id=\"Out-of-Bag-Evaluation-1.8.8\"><span class=\"toc-item-num\">1.8.8&nbsp;&nbsp;</span>Out-of-Bag Evaluation</a></span></li><li><span><a href=\"#GradientBoostingClassifier\" data-toc-modified-id=\"GradientBoostingClassifier-1.8.9\"><span class=\"toc-item-num\">1.8.9&nbsp;&nbsp;</span>GradientBoostingClassifier</a></span></li><li><span><a href=\"#AdaBoost\" data-toc-modified-id=\"AdaBoost-1.8.10\"><span class=\"toc-item-num\">1.8.10&nbsp;&nbsp;</span>AdaBoost</a></span><ul class=\"toc-item\"><li><span><a href=\"#Hyperparameter-Tuning\" data-toc-modified-id=\"Hyperparameter-Tuning-1.8.10.1\"><span class=\"toc-item-num\">1.8.10.1&nbsp;&nbsp;</span>Hyperparameter Tuning</a></span></li><li><span><a href=\"#Using-RandomizedSearchCV-to-Save-Time\" data-toc-modified-id=\"Using-RandomizedSearchCV-to-Save-Time-1.8.10.2\"><span class=\"toc-item-num\">1.8.10.2&nbsp;&nbsp;</span>Using RandomizedSearchCV to Save Time</a></span></li></ul></li></ul></li></ul></li></ul></div>"
   ]
  },
  {
   "cell_type": "markdown",
   "metadata": {},
   "source": [
    "## Final Project Submission\n",
    "\n",
    "Please fill out: \n",
    "* Student name: Khulood Nasher\n",
    "* Student pace:  online full time\n",
    "* Scheduled project review date/time: \n",
    "* Instructor name: Amber Yandow \n",
    "\n"
   ]
  },
  {
   "cell_type": "markdown",
   "metadata": {},
   "source": [
    "### Introduction\n",
    "#### What Is Customer Churn?\n",
    "Customer churn  or  customer attrition is the loss of customers by a business  when customer stop using the service of the company.  We calculate churn rate by dividing the number of customers were lost during that time period by the number of customers were existed at the beginning of that time period.\n",
    "\n",
    "#### Why it is important to calculate customer churn?\n",
    "Because business is built on a number of customers using its service. Keeping its customers is less expensive than bringing new ones.\n",
    "\n",
    "#### Important Questions:\n",
    "Q1: Which customer has a high probability to churn, in other words to leave  telco company and look for another provider?\n",
    "\n",
    "Q2: What are the reasons people are switching or leaving out of the business?\n",
    "\n",
    "Q3 : what can be done to attain custom satisfaction and bring back  old customers and keep the current customers from leaving the business?\n",
    "\n",
    "To answer these questions, Telco retained a data scientist,who his/ her job will predict the customers who have high probability  to churn , and help to set recommendations to keep them.\n",
    "\n",
    "#### About Telco data\n",
    "Each row represents a customer, each column contains customer’s attributes described on the column Metadata.\n",
    "\n",
    "The raw data contains 7043 rows (customers) and 21 columns (features).\n",
    "\n",
    "The “Churn” column is our target.\n",
    "\n",
    "\n",
    "customerID: Customer ID, it is unique value and has  7043 inputs.\n",
    "\n",
    "gender: Whether the customer is a male or a female.\n",
    "\n",
    "\n",
    "SeniorCitizen: Whether the customer is a senior citizen or not (1, 0)\n",
    "\n",
    "\n",
    "Partner:Whether the customer has a partner or not (Yes, No)\n",
    "\n",
    "\n",
    "Dependents: Whether the customer has dependents or not (Yes, No)\n",
    "\n",
    "tenure: Number of months the customer has stayed with the company\n",
    "\n",
    "PhoneService:Whether the customer has a phone service or not (Yes, No)\n",
    "\n",
    "\n",
    "MultipleLines:Whether the customer has multiple lines or not (Yes, No, No phone service)\n",
    "\n",
    "\n",
    "InternetService:Customer’s internet service provider (DSL, Fiber optic, No)\n",
    "\n",
    "\n",
    "OnlineSecurity:Whether the customer has online security or not (Yes, No, No internet service)\n",
    "\n",
    "\n",
    "\n",
    "OnlineBackup:Whether the customer has online backup or not (Yes, No, No internet service)\n",
    "\n",
    "\n",
    "DeviceProtection: Whether the customer has device protection or not (Yes, No, No internet service)\n",
    "\n",
    "\n",
    "\n",
    "TechSupport: Whether the customer has tech support or not (Yes, No, No internet service)\n",
    "\n",
    "\n",
    "\n",
    "StreamingTV: Whether the customer has streaming TV or not (Yes, No, No internet service)\n",
    "\n",
    "\n",
    "\n",
    "StreamingMovies: Whether the customer has streaming movies or not (Yes, No, No internet service)\n",
    "\n",
    "\n",
    "Contract:The contract term of the customer (Month-to-month, One year, Two year)\n",
    "\n",
    "\n",
    "PaperlessBilling:Whether the customer has paperless billing or not (Yes, No)\n",
    "\n",
    "\n",
    "PaymentMethod:The customer’s payment method (Electronic check, Mailed check, Bank transfer (automatic), Credit card (automatic))\n",
    "\n",
    "\n",
    "MonthlyCharges: The amount charged to the customer monthly\n",
    "\n",
    "\n",
    "TotalCharges:The total amount charged to the customer\n",
    "\n",
    "\n",
    "Churn: Whether the customer churned or not (Yes or No)\n",
    "\n"
   ]
  },
  {
   "cell_type": "markdown",
   "metadata": {},
   "source": [
    "### Resources\n",
    "\n"
   ]
  },
  {
   "cell_type": "markdown",
   "metadata": {},
   "source": [
    "### Obtain Data"
   ]
  },
  {
   "cell_type": "code",
   "execution_count": 118,
   "metadata": {
    "ExecuteTime": {
     "end_time": "2020-05-31T03:04:52.260971Z",
     "start_time": "2020-05-31T03:04:52.254207Z"
    }
   },
   "outputs": [],
   "source": [
    "%matplotlib inline\n",
    "import numpy as np\n",
    "import pandas as pd\n",
    "import matplotlib.pyplot as plt\n",
    "import seaborn as sns\n",
    "import statsmodels as sm\n",
    "import sklearn.preprocessing as preprocessing\n",
    "from sklearn.linear_model import LogisticRegression\n",
    "from sklearn.model_selection import train_test_split\n",
    "from scipy import stats\n",
    "import warnings\n",
    "warnings.filterwarnings('ignore')\n",
    "\n",
    "import itertools\n",
    "from sklearn.metrics import accuracy_score, confusion_matrix, classification_report"
   ]
  },
  {
   "cell_type": "code",
   "execution_count": 119,
   "metadata": {
    "ExecuteTime": {
     "end_time": "2020-05-31T03:04:52.265908Z",
     "start_time": "2020-05-31T03:04:52.263177Z"
    }
   },
   "outputs": [],
   "source": [
    "## To display  all the interactive output without using the print function\n",
    "from IPython.core.interactiveshell import InteractiveShell\n",
    "InteractiveShell.ast_node_interactivity = \"all\""
   ]
  },
  {
   "cell_type": "code",
   "execution_count": 120,
   "metadata": {
    "ExecuteTime": {
     "end_time": "2020-05-31T03:04:52.328760Z",
     "start_time": "2020-05-31T03:04:52.269934Z"
    }
   },
   "outputs": [
    {
     "data": {
      "text/html": [
       "<div>\n",
       "<style scoped>\n",
       "    .dataframe tbody tr th:only-of-type {\n",
       "        vertical-align: middle;\n",
       "    }\n",
       "\n",
       "    .dataframe tbody tr th {\n",
       "        vertical-align: top;\n",
       "    }\n",
       "\n",
       "    .dataframe thead th {\n",
       "        text-align: right;\n",
       "    }\n",
       "</style>\n",
       "<table border=\"1\" class=\"dataframe\">\n",
       "  <thead>\n",
       "    <tr style=\"text-align: right;\">\n",
       "      <th></th>\n",
       "      <th>customerID</th>\n",
       "      <th>gender</th>\n",
       "      <th>SeniorCitizen</th>\n",
       "      <th>Partner</th>\n",
       "      <th>Dependents</th>\n",
       "      <th>tenure</th>\n",
       "      <th>PhoneService</th>\n",
       "      <th>MultipleLines</th>\n",
       "      <th>InternetService</th>\n",
       "      <th>OnlineSecurity</th>\n",
       "      <th>...</th>\n",
       "      <th>DeviceProtection</th>\n",
       "      <th>TechSupport</th>\n",
       "      <th>StreamingTV</th>\n",
       "      <th>StreamingMovies</th>\n",
       "      <th>Contract</th>\n",
       "      <th>PaperlessBilling</th>\n",
       "      <th>PaymentMethod</th>\n",
       "      <th>MonthlyCharges</th>\n",
       "      <th>TotalCharges</th>\n",
       "      <th>Churn</th>\n",
       "    </tr>\n",
       "  </thead>\n",
       "  <tbody>\n",
       "    <tr>\n",
       "      <td>0</td>\n",
       "      <td>7590-VHVEG</td>\n",
       "      <td>Female</td>\n",
       "      <td>0</td>\n",
       "      <td>Yes</td>\n",
       "      <td>No</td>\n",
       "      <td>1</td>\n",
       "      <td>No</td>\n",
       "      <td>No phone service</td>\n",
       "      <td>DSL</td>\n",
       "      <td>No</td>\n",
       "      <td>...</td>\n",
       "      <td>No</td>\n",
       "      <td>No</td>\n",
       "      <td>No</td>\n",
       "      <td>No</td>\n",
       "      <td>Month-to-month</td>\n",
       "      <td>Yes</td>\n",
       "      <td>Electronic check</td>\n",
       "      <td>29.85</td>\n",
       "      <td>29.85</td>\n",
       "      <td>No</td>\n",
       "    </tr>\n",
       "    <tr>\n",
       "      <td>1</td>\n",
       "      <td>5575-GNVDE</td>\n",
       "      <td>Male</td>\n",
       "      <td>0</td>\n",
       "      <td>No</td>\n",
       "      <td>No</td>\n",
       "      <td>34</td>\n",
       "      <td>Yes</td>\n",
       "      <td>No</td>\n",
       "      <td>DSL</td>\n",
       "      <td>Yes</td>\n",
       "      <td>...</td>\n",
       "      <td>Yes</td>\n",
       "      <td>No</td>\n",
       "      <td>No</td>\n",
       "      <td>No</td>\n",
       "      <td>One year</td>\n",
       "      <td>No</td>\n",
       "      <td>Mailed check</td>\n",
       "      <td>56.95</td>\n",
       "      <td>1889.5</td>\n",
       "      <td>No</td>\n",
       "    </tr>\n",
       "    <tr>\n",
       "      <td>2</td>\n",
       "      <td>3668-QPYBK</td>\n",
       "      <td>Male</td>\n",
       "      <td>0</td>\n",
       "      <td>No</td>\n",
       "      <td>No</td>\n",
       "      <td>2</td>\n",
       "      <td>Yes</td>\n",
       "      <td>No</td>\n",
       "      <td>DSL</td>\n",
       "      <td>Yes</td>\n",
       "      <td>...</td>\n",
       "      <td>No</td>\n",
       "      <td>No</td>\n",
       "      <td>No</td>\n",
       "      <td>No</td>\n",
       "      <td>Month-to-month</td>\n",
       "      <td>Yes</td>\n",
       "      <td>Mailed check</td>\n",
       "      <td>53.85</td>\n",
       "      <td>108.15</td>\n",
       "      <td>Yes</td>\n",
       "    </tr>\n",
       "    <tr>\n",
       "      <td>3</td>\n",
       "      <td>7795-CFOCW</td>\n",
       "      <td>Male</td>\n",
       "      <td>0</td>\n",
       "      <td>No</td>\n",
       "      <td>No</td>\n",
       "      <td>45</td>\n",
       "      <td>No</td>\n",
       "      <td>No phone service</td>\n",
       "      <td>DSL</td>\n",
       "      <td>Yes</td>\n",
       "      <td>...</td>\n",
       "      <td>Yes</td>\n",
       "      <td>Yes</td>\n",
       "      <td>No</td>\n",
       "      <td>No</td>\n",
       "      <td>One year</td>\n",
       "      <td>No</td>\n",
       "      <td>Bank transfer (automatic)</td>\n",
       "      <td>42.30</td>\n",
       "      <td>1840.75</td>\n",
       "      <td>No</td>\n",
       "    </tr>\n",
       "    <tr>\n",
       "      <td>4</td>\n",
       "      <td>9237-HQITU</td>\n",
       "      <td>Female</td>\n",
       "      <td>0</td>\n",
       "      <td>No</td>\n",
       "      <td>No</td>\n",
       "      <td>2</td>\n",
       "      <td>Yes</td>\n",
       "      <td>No</td>\n",
       "      <td>Fiber optic</td>\n",
       "      <td>No</td>\n",
       "      <td>...</td>\n",
       "      <td>No</td>\n",
       "      <td>No</td>\n",
       "      <td>No</td>\n",
       "      <td>No</td>\n",
       "      <td>Month-to-month</td>\n",
       "      <td>Yes</td>\n",
       "      <td>Electronic check</td>\n",
       "      <td>70.70</td>\n",
       "      <td>151.65</td>\n",
       "      <td>Yes</td>\n",
       "    </tr>\n",
       "  </tbody>\n",
       "</table>\n",
       "<p>5 rows × 21 columns</p>\n",
       "</div>"
      ],
      "text/plain": [
       "   customerID  gender  SeniorCitizen Partner Dependents  tenure PhoneService  \\\n",
       "0  7590-VHVEG  Female              0     Yes         No       1           No   \n",
       "1  5575-GNVDE    Male              0      No         No      34          Yes   \n",
       "2  3668-QPYBK    Male              0      No         No       2          Yes   \n",
       "3  7795-CFOCW    Male              0      No         No      45           No   \n",
       "4  9237-HQITU  Female              0      No         No       2          Yes   \n",
       "\n",
       "      MultipleLines InternetService OnlineSecurity  ... DeviceProtection  \\\n",
       "0  No phone service             DSL             No  ...               No   \n",
       "1                No             DSL            Yes  ...              Yes   \n",
       "2                No             DSL            Yes  ...               No   \n",
       "3  No phone service             DSL            Yes  ...              Yes   \n",
       "4                No     Fiber optic             No  ...               No   \n",
       "\n",
       "  TechSupport StreamingTV StreamingMovies        Contract PaperlessBilling  \\\n",
       "0          No          No              No  Month-to-month              Yes   \n",
       "1          No          No              No        One year               No   \n",
       "2          No          No              No  Month-to-month              Yes   \n",
       "3         Yes          No              No        One year               No   \n",
       "4          No          No              No  Month-to-month              Yes   \n",
       "\n",
       "               PaymentMethod MonthlyCharges  TotalCharges Churn  \n",
       "0           Electronic check          29.85         29.85    No  \n",
       "1               Mailed check          56.95        1889.5    No  \n",
       "2               Mailed check          53.85        108.15   Yes  \n",
       "3  Bank transfer (automatic)          42.30       1840.75    No  \n",
       "4           Electronic check          70.70        151.65   Yes  \n",
       "\n",
       "[5 rows x 21 columns]"
      ]
     },
     "execution_count": 120,
     "metadata": {},
     "output_type": "execute_result"
    }
   ],
   "source": [
    "df=pd.read_csv('WA_Fn-UseC_-Telco-Customer-Churn.csv')\n",
    "df.head()"
   ]
  },
  {
   "cell_type": "code",
   "execution_count": 121,
   "metadata": {
    "ExecuteTime": {
     "end_time": "2020-05-31T03:04:52.334568Z",
     "start_time": "2020-05-31T03:04:52.331315Z"
    }
   },
   "outputs": [
    {
     "name": "stdout",
     "output_type": "stream",
     "text": [
      "Dataset shape: (7043, 21)\n"
     ]
    }
   ],
   "source": [
    "print(\"Dataset shape:\", df.shape)"
   ]
  },
  {
   "cell_type": "code",
   "execution_count": 122,
   "metadata": {
    "ExecuteTime": {
     "end_time": "2020-05-31T03:04:52.342798Z",
     "start_time": "2020-05-31T03:04:52.337500Z"
    }
   },
   "outputs": [
    {
     "data": {
      "text/plain": [
       "['customerID',\n",
       " 'gender',\n",
       " 'SeniorCitizen',\n",
       " 'Partner',\n",
       " 'Dependents',\n",
       " 'tenure',\n",
       " 'PhoneService',\n",
       " 'MultipleLines',\n",
       " 'InternetService',\n",
       " 'OnlineSecurity',\n",
       " 'OnlineBackup',\n",
       " 'DeviceProtection',\n",
       " 'TechSupport',\n",
       " 'StreamingTV',\n",
       " 'StreamingMovies',\n",
       " 'Contract',\n",
       " 'PaperlessBilling',\n",
       " 'PaymentMethod',\n",
       " 'MonthlyCharges',\n",
       " 'TotalCharges',\n",
       " 'Churn']"
      ]
     },
     "execution_count": 122,
     "metadata": {},
     "output_type": "execute_result"
    }
   ],
   "source": [
    "list(df.columns.tolist())"
   ]
  },
  {
   "cell_type": "code",
   "execution_count": 123,
   "metadata": {
    "ExecuteTime": {
     "end_time": "2020-05-31T03:04:52.359479Z",
     "start_time": "2020-05-31T03:04:52.345574Z"
    }
   },
   "outputs": [
    {
     "name": "stdout",
     "output_type": "stream",
     "text": [
      "<class 'pandas.core.frame.DataFrame'>\n",
      "RangeIndex: 7043 entries, 0 to 7042\n",
      "Data columns (total 21 columns):\n",
      "customerID          7043 non-null object\n",
      "gender              7043 non-null object\n",
      "SeniorCitizen       7043 non-null int64\n",
      "Partner             7043 non-null object\n",
      "Dependents          7043 non-null object\n",
      "tenure              7043 non-null int64\n",
      "PhoneService        7043 non-null object\n",
      "MultipleLines       7043 non-null object\n",
      "InternetService     7043 non-null object\n",
      "OnlineSecurity      7043 non-null object\n",
      "OnlineBackup        7043 non-null object\n",
      "DeviceProtection    7043 non-null object\n",
      "TechSupport         7043 non-null object\n",
      "StreamingTV         7043 non-null object\n",
      "StreamingMovies     7043 non-null object\n",
      "Contract            7043 non-null object\n",
      "PaperlessBilling    7043 non-null object\n",
      "PaymentMethod       7043 non-null object\n",
      "MonthlyCharges      7043 non-null float64\n",
      "TotalCharges        7043 non-null object\n",
      "Churn               7043 non-null object\n",
      "dtypes: float64(1), int64(2), object(18)\n",
      "memory usage: 1.1+ MB\n"
     ]
    }
   ],
   "source": [
    "# Checking out columns' (names,types,any missing value)\n",
    "\n",
    "df.info()\n"
   ]
  },
  {
   "cell_type": "markdown",
   "metadata": {},
   "source": [
    "###### We have 21 columns. Three columns are numeric. One of them is float and the other two are integer. There are 18 object columns. The number of rows represents the number of customers of Telco and they are 7043 customers. There is no missing data"
   ]
  },
  {
   "cell_type": "markdown",
   "metadata": {},
   "source": [
    "### Scrub Data"
   ]
  },
  {
   "cell_type": "markdown",
   "metadata": {},
   "source": [
    " ##### Check dublicates\n",
    "check if we have any  duplication  "
   ]
  },
  {
   "cell_type": "code",
   "execution_count": 124,
   "metadata": {
    "ExecuteTime": {
     "end_time": "2020-05-31T03:04:52.380771Z",
     "start_time": "2020-05-31T03:04:52.361506Z"
    }
   },
   "outputs": [
    {
     "data": {
      "text/plain": [
       "False"
      ]
     },
     "execution_count": 124,
     "metadata": {},
     "output_type": "execute_result"
    }
   ],
   "source": [
    "df.duplicated().any()"
   ]
  },
  {
   "cell_type": "code",
   "execution_count": 125,
   "metadata": {
    "ExecuteTime": {
     "end_time": "2020-05-31T03:04:52.393006Z",
     "start_time": "2020-05-31T03:04:52.382779Z"
    }
   },
   "outputs": [
    {
     "data": {
      "text/plain": [
       "customerID          0\n",
       "gender              0\n",
       "SeniorCitizen       0\n",
       "Partner             0\n",
       "Dependents          0\n",
       "tenure              0\n",
       "PhoneService        0\n",
       "MultipleLines       0\n",
       "InternetService     0\n",
       "OnlineSecurity      0\n",
       "OnlineBackup        0\n",
       "DeviceProtection    0\n",
       "TechSupport         0\n",
       "StreamingTV         0\n",
       "StreamingMovies     0\n",
       "Contract            0\n",
       "PaperlessBilling    0\n",
       "PaymentMethod       0\n",
       "MonthlyCharges      0\n",
       "TotalCharges        0\n",
       "Churn               0\n",
       "dtype: int64"
      ]
     },
     "execution_count": 125,
     "metadata": {},
     "output_type": "execute_result"
    }
   ],
   "source": [
    "# checking missing values\n",
    "df.isna().sum()"
   ]
  },
  {
   "cell_type": "code",
   "execution_count": 126,
   "metadata": {
    "ExecuteTime": {
     "end_time": "2020-05-31T03:04:52.399881Z",
     "start_time": "2020-05-31T03:04:52.394923Z"
    }
   },
   "outputs": [
    {
     "data": {
      "text/plain": [
       "Index(['customerid', 'gender', 'seniorcitizen', 'partner', 'dependents',\n",
       "       'tenure', 'phoneservice', 'multiplelines', 'internetservice',\n",
       "       'onlinesecurity', 'onlinebackup', 'deviceprotection', 'techsupport',\n",
       "       'streamingtv', 'streamingmovies', 'contract', 'paperlessbilling',\n",
       "       'paymentmethod', 'monthlycharges', 'totalcharges', 'churn'],\n",
       "      dtype='object')"
      ]
     },
     "execution_count": 126,
     "metadata": {},
     "output_type": "execute_result"
    }
   ],
   "source": [
    "# lowercase column name\n",
    "df.columns = map(str.lower, df.columns)\n",
    "df.columns"
   ]
  },
  {
   "cell_type": "code",
   "execution_count": 127,
   "metadata": {
    "ExecuteTime": {
     "end_time": "2020-05-31T03:04:52.408474Z",
     "start_time": "2020-05-31T03:04:52.403407Z"
    }
   },
   "outputs": [],
   "source": [
    "# customerid not useful better to drop it\n",
    "df.drop(['customerid'], axis=1, inplace=True)"
   ]
  },
  {
   "cell_type": "code",
   "execution_count": 128,
   "metadata": {
    "ExecuteTime": {
     "end_time": "2020-05-31T03:04:52.431153Z",
     "start_time": "2020-05-31T03:04:52.411427Z"
    }
   },
   "outputs": [
    {
     "data": {
      "text/plain": [
       "array(['29.85', '1889.5', '108.15', ..., '346.45', '306.6', '6844.5'],\n",
       "      dtype=object)"
      ]
     },
     "execution_count": 128,
     "metadata": {},
     "output_type": "execute_result"
    },
    {
     "name": "stdout",
     "output_type": "stream",
     "text": [
      "<class 'pandas.core.frame.DataFrame'>\n",
      "RangeIndex: 7043 entries, 0 to 7042\n",
      "Data columns (total 20 columns):\n",
      "gender              7043 non-null object\n",
      "seniorcitizen       7043 non-null int64\n",
      "partner             7043 non-null object\n",
      "dependents          7043 non-null object\n",
      "tenure              7043 non-null int64\n",
      "phoneservice        7043 non-null object\n",
      "multiplelines       7043 non-null object\n",
      "internetservice     7043 non-null object\n",
      "onlinesecurity      7043 non-null object\n",
      "onlinebackup        7043 non-null object\n",
      "deviceprotection    7043 non-null object\n",
      "techsupport         7043 non-null object\n",
      "streamingtv         7043 non-null object\n",
      "streamingmovies     7043 non-null object\n",
      "contract            7043 non-null object\n",
      "paperlessbilling    7043 non-null object\n",
      "paymentmethod       7043 non-null object\n",
      "monthlycharges      7043 non-null float64\n",
      "totalcharges        7032 non-null object\n",
      "churn               7043 non-null object\n",
      "dtypes: float64(1), int64(2), object(17)\n",
      "memory usage: 1.1+ MB\n"
     ]
    }
   ],
   "source": [
    "df['totalcharges'].unique()\n",
    "#Replacing spaces with null values in total charges column\n",
    "df['totalcharges'] = df[\"totalcharges\"].replace(\" \",np.nan)\n",
    "df.info()"
   ]
  },
  {
   "cell_type": "code",
   "execution_count": 129,
   "metadata": {
    "ExecuteTime": {
     "end_time": "2020-05-31T03:04:52.443212Z",
     "start_time": "2020-05-31T03:04:52.432943Z"
    }
   },
   "outputs": [
    {
     "data": {
      "text/plain": [
       "gender               0\n",
       "seniorcitizen        0\n",
       "partner              0\n",
       "dependents           0\n",
       "tenure               0\n",
       "phoneservice         0\n",
       "multiplelines        0\n",
       "internetservice      0\n",
       "onlinesecurity       0\n",
       "onlinebackup         0\n",
       "deviceprotection     0\n",
       "techsupport          0\n",
       "streamingtv          0\n",
       "streamingmovies      0\n",
       "contract             0\n",
       "paperlessbilling     0\n",
       "paymentmethod        0\n",
       "monthlycharges       0\n",
       "totalcharges        11\n",
       "churn                0\n",
       "dtype: int64"
      ]
     },
     "execution_count": 129,
     "metadata": {},
     "output_type": "execute_result"
    }
   ],
   "source": [
    "df.isna().sum()"
   ]
  },
  {
   "cell_type": "code",
   "execution_count": 130,
   "metadata": {
    "ExecuteTime": {
     "end_time": "2020-05-31T03:04:52.450249Z",
     "start_time": "2020-05-31T03:04:52.445529Z"
    }
   },
   "outputs": [
    {
     "data": {
      "text/plain": [
       "11"
      ]
     },
     "execution_count": 130,
     "metadata": {},
     "output_type": "execute_result"
    }
   ],
   "source": [
    "df['totalcharges'].isna().sum()"
   ]
  },
  {
   "cell_type": "code",
   "execution_count": 131,
   "metadata": {
    "ExecuteTime": {
     "end_time": "2020-05-31T03:04:52.466774Z",
     "start_time": "2020-05-31T03:04:52.452507Z"
    }
   },
   "outputs": [
    {
     "name": "stdout",
     "output_type": "stream",
     "text": [
      "0.1561834445548772\n"
     ]
    }
   ],
   "source": [
    "print((df['totalcharges'].isna().sum()/len(df))*100) # count the percentage of missing data\n",
    "#Dropping null values from total charges column which contain .15% missing data \n",
    "df.dropna(inplace=True)"
   ]
  },
  {
   "cell_type": "code",
   "execution_count": 132,
   "metadata": {
    "ExecuteTime": {
     "end_time": "2020-05-31T03:04:52.480423Z",
     "start_time": "2020-05-31T03:04:52.469281Z"
    }
   },
   "outputs": [
    {
     "data": {
      "text/plain": [
       "gender              0\n",
       "seniorcitizen       0\n",
       "partner             0\n",
       "dependents          0\n",
       "tenure              0\n",
       "phoneservice        0\n",
       "multiplelines       0\n",
       "internetservice     0\n",
       "onlinesecurity      0\n",
       "onlinebackup        0\n",
       "deviceprotection    0\n",
       "techsupport         0\n",
       "streamingtv         0\n",
       "streamingmovies     0\n",
       "contract            0\n",
       "paperlessbilling    0\n",
       "paymentmethod       0\n",
       "monthlycharges      0\n",
       "totalcharges        0\n",
       "churn               0\n",
       "dtype: int64"
      ]
     },
     "execution_count": 132,
     "metadata": {},
     "output_type": "execute_result"
    }
   ],
   "source": [
    "# checking missing data\n",
    "df.isna().sum()"
   ]
  },
  {
   "cell_type": "code",
   "execution_count": 133,
   "metadata": {
    "ExecuteTime": {
     "end_time": "2020-05-31T03:04:52.489478Z",
     "start_time": "2020-05-31T03:04:52.482558Z"
    }
   },
   "outputs": [],
   "source": [
    "#convert to float type\n",
    "df[\"totalcharges\"] = df[\"totalcharges\"].astype(float)"
   ]
  },
  {
   "cell_type": "code",
   "execution_count": 134,
   "metadata": {
    "ExecuteTime": {
     "end_time": "2020-05-31T03:04:52.505674Z",
     "start_time": "2020-05-31T03:04:52.491257Z"
    }
   },
   "outputs": [
    {
     "name": "stdout",
     "output_type": "stream",
     "text": [
      "<class 'pandas.core.frame.DataFrame'>\n",
      "Int64Index: 7032 entries, 0 to 7042\n",
      "Data columns (total 20 columns):\n",
      "gender              7032 non-null object\n",
      "seniorcitizen       7032 non-null int64\n",
      "partner             7032 non-null object\n",
      "dependents          7032 non-null object\n",
      "tenure              7032 non-null int64\n",
      "phoneservice        7032 non-null object\n",
      "multiplelines       7032 non-null object\n",
      "internetservice     7032 non-null object\n",
      "onlinesecurity      7032 non-null object\n",
      "onlinebackup        7032 non-null object\n",
      "deviceprotection    7032 non-null object\n",
      "techsupport         7032 non-null object\n",
      "streamingtv         7032 non-null object\n",
      "streamingmovies     7032 non-null object\n",
      "contract            7032 non-null object\n",
      "paperlessbilling    7032 non-null object\n",
      "paymentmethod       7032 non-null object\n",
      "monthlycharges      7032 non-null float64\n",
      "totalcharges        7032 non-null float64\n",
      "churn               7032 non-null object\n",
      "dtypes: float64(2), int64(2), object(16)\n",
      "memory usage: 1.1+ MB\n"
     ]
    }
   ],
   "source": [
    "df.info()"
   ]
  },
  {
   "cell_type": "code",
   "execution_count": 135,
   "metadata": {
    "ExecuteTime": {
     "end_time": "2020-05-31T03:04:52.537095Z",
     "start_time": "2020-05-31T03:04:52.507542Z"
    }
   },
   "outputs": [
    {
     "data": {
      "text/plain": [
       "No                     3497\n",
       "Yes                    2015\n",
       "No internet service    1520\n",
       "Name: onlinesecurity, dtype: int64"
      ]
     },
     "execution_count": 135,
     "metadata": {},
     "output_type": "execute_result"
    },
    {
     "data": {
      "text/plain": [
       "No                     3087\n",
       "Yes                    2425\n",
       "No internet service    1520\n",
       "Name: onlinebackup, dtype: int64"
      ]
     },
     "execution_count": 135,
     "metadata": {},
     "output_type": "execute_result"
    },
    {
     "data": {
      "text/plain": [
       "No                     3094\n",
       "Yes                    2418\n",
       "No internet service    1520\n",
       "Name: deviceprotection, dtype: int64"
      ]
     },
     "execution_count": 135,
     "metadata": {},
     "output_type": "execute_result"
    },
    {
     "data": {
      "text/plain": [
       "No                     3472\n",
       "Yes                    2040\n",
       "No internet service    1520\n",
       "Name: techsupport, dtype: int64"
      ]
     },
     "execution_count": 135,
     "metadata": {},
     "output_type": "execute_result"
    },
    {
     "data": {
      "text/plain": [
       "No                     2809\n",
       "Yes                    2703\n",
       "No internet service    1520\n",
       "Name: streamingtv, dtype: int64"
      ]
     },
     "execution_count": 135,
     "metadata": {},
     "output_type": "execute_result"
    },
    {
     "data": {
      "text/plain": [
       "No                     2781\n",
       "Yes                    2731\n",
       "No internet service    1520\n",
       "Name: streamingmovies, dtype: int64"
      ]
     },
     "execution_count": 135,
     "metadata": {},
     "output_type": "execute_result"
    }
   ],
   "source": [
    "df['onlinesecurity'].value_counts()\n",
    "df['onlinebackup'].value_counts()\n",
    "df['deviceprotection'].value_counts()\n",
    "df['techsupport'].value_counts()\n",
    "df['streamingtv'].value_counts()\n",
    "df['streamingmovies'].value_counts()"
   ]
  },
  {
   "cell_type": "code",
   "execution_count": 136,
   "metadata": {
    "ExecuteTime": {
     "end_time": "2020-05-31T03:04:52.551107Z",
     "start_time": "2020-05-31T03:04:52.539221Z"
    }
   },
   "outputs": [],
   "source": [
    "#replace 'No internet service' to No for the following columns\n",
    "replace_cols = [ 'onlinesecurity', 'onlinebackup', 'deviceprotection',\n",
    "                'techsupport','streamingtv', 'streamingmovies']\n",
    "for i in replace_cols : \n",
    "    df[i]  = df[i].replace({'No internet service' : 'No'})"
   ]
  },
  {
   "cell_type": "code",
   "execution_count": 137,
   "metadata": {
    "ExecuteTime": {
     "end_time": "2020-05-31T03:04:52.578906Z",
     "start_time": "2020-05-31T03:04:52.552967Z"
    }
   },
   "outputs": [
    {
     "data": {
      "text/plain": [
       "array(['No', 'Yes'], dtype=object)"
      ]
     },
     "execution_count": 137,
     "metadata": {},
     "output_type": "execute_result"
    },
    {
     "data": {
      "text/plain": [
       "No     5017\n",
       "Yes    2015\n",
       "Name: onlinesecurity, dtype: int64"
      ]
     },
     "execution_count": 137,
     "metadata": {},
     "output_type": "execute_result"
    },
    {
     "data": {
      "text/plain": [
       "No     4607\n",
       "Yes    2425\n",
       "Name: onlinebackup, dtype: int64"
      ]
     },
     "execution_count": 137,
     "metadata": {},
     "output_type": "execute_result"
    },
    {
     "data": {
      "text/plain": [
       "No     4614\n",
       "Yes    2418\n",
       "Name: deviceprotection, dtype: int64"
      ]
     },
     "execution_count": 137,
     "metadata": {},
     "output_type": "execute_result"
    },
    {
     "data": {
      "text/plain": [
       "No     4992\n",
       "Yes    2040\n",
       "Name: techsupport, dtype: int64"
      ]
     },
     "execution_count": 137,
     "metadata": {},
     "output_type": "execute_result"
    },
    {
     "data": {
      "text/plain": [
       "No     4329\n",
       "Yes    2703\n",
       "Name: streamingtv, dtype: int64"
      ]
     },
     "execution_count": 137,
     "metadata": {},
     "output_type": "execute_result"
    },
    {
     "data": {
      "text/plain": [
       "No     4301\n",
       "Yes    2731\n",
       "Name: streamingmovies, dtype: int64"
      ]
     },
     "execution_count": 137,
     "metadata": {},
     "output_type": "execute_result"
    }
   ],
   "source": [
    "df['onlinesecurity'].unique()\n",
    "df['onlinesecurity'].value_counts()\n",
    "df['onlinebackup'].value_counts()\n",
    "df['deviceprotection'].value_counts()\n",
    "df['techsupport'].value_counts()\n",
    "df['streamingtv'].value_counts()\n",
    "df['streamingmovies'].value_counts()"
   ]
  },
  {
   "cell_type": "code",
   "execution_count": 138,
   "metadata": {
    "ExecuteTime": {
     "end_time": "2020-05-31T03:04:52.588856Z",
     "start_time": "2020-05-31T03:04:52.580383Z"
    }
   },
   "outputs": [
    {
     "data": {
      "text/plain": [
       "No     5890\n",
       "Yes    1142\n",
       "Name: seniorcitizen, dtype: int64"
      ]
     },
     "execution_count": 138,
     "metadata": {},
     "output_type": "execute_result"
    }
   ],
   "source": [
    "# replacing values\n",
    "df['seniorcitizen']=df['seniorcitizen'].replace({1:'Yes',0:\"No\"})\n",
    "df['seniorcitizen'].value_counts()"
   ]
  },
  {
   "cell_type": "markdown",
   "metadata": {},
   "source": [
    "### Explore Data"
   ]
  },
  {
   "cell_type": "markdown",
   "metadata": {},
   "source": [
    "#### Explore Target Column"
   ]
  },
  {
   "cell_type": "code",
   "execution_count": 139,
   "metadata": {
    "ExecuteTime": {
     "end_time": "2020-05-31T03:04:52.596758Z",
     "start_time": "2020-05-31T03:04:52.590237Z"
    }
   },
   "outputs": [
    {
     "data": {
      "text/plain": [
       "No     5163\n",
       "Yes    1869\n",
       "Name: churn, dtype: int64"
      ]
     },
     "execution_count": 139,
     "metadata": {},
     "output_type": "execute_result"
    }
   ],
   "source": [
    "\n",
    "df['churn'].value_counts()\n"
   ]
  },
  {
   "cell_type": "code",
   "execution_count": 140,
   "metadata": {
    "ExecuteTime": {
     "end_time": "2020-05-31T03:04:52.673870Z",
     "start_time": "2020-05-31T03:04:52.598266Z"
    }
   },
   "outputs": [
    {
     "data": {
      "text/plain": [
       "([<matplotlib.patches.Wedge at 0x1c3c717630>,\n",
       "  <matplotlib.patches.Wedge at 0x1c3c717f60>],\n",
       " [Text(-0.8895462594270231, -0.8054237718986147, 'not_churn'),\n",
       "  Text(0.8154174044747714, 0.7383051242403964, 'yes_churn')],\n",
       " [Text(-0.5189019846657634, -0.46983053360752525, '73.4%'),\n",
       "  Text(0.44477312971351163, 0.40271188594930707, '26.6%')])"
      ]
     },
     "execution_count": 140,
     "metadata": {},
     "output_type": "execute_result"
    },
    {
     "data": {
      "text/plain": [
       "(-1.1972171550642907,\n",
       " 1.1139691969661847,\n",
       " -1.1875476414217037,\n",
       " 1.1041689353057955)"
      ]
     },
     "execution_count": 140,
     "metadata": {},
     "output_type": "execute_result"
    },
    {
     "data": {
      "image/png": "[encoded data removed]",
      "text/plain": [
       "<Figure size 504x504 with 1 Axes>"
      ]
     },
     "metadata": {},
     "output_type": "display_data"
    }
   ],
   "source": [
    "import matplotlib.pyplot as plt\n",
    "fig = plt.gcf()\n",
    "fig.set_size_inches(7,7)\n",
    "plt.pie(df[\"churn\"].value_counts(),labels=('not_churn','yes_churn'),explode = [0.1,0],autopct ='%1.1f%%' ,\n",
    "        shadow = True,startangle = 90,labeldistance = 1.1)\n",
    "plt.axis('equal')\n",
    "\n",
    "plt.show()\n"
   ]
  },
  {
   "cell_type": "markdown",
   "metadata": {},
   "source": [
    "######  Exploring the target,'churn' column, we can see that we have imbalance target  because of  approximately of 73% of \"No\", and 27% of \"Yes\". This imbalance  will affect our prediction,and must be addressed when modeling through different techniques."
   ]
  },
  {
   "cell_type": "markdown",
   "metadata": {
    "ExecuteTime": {
     "end_time": "2020-05-24T03:02:02.941652Z",
     "start_time": "2020-05-24T03:02:02.939082Z"
    }
   },
   "source": [
    "##### Exploring Categorical Features"
   ]
  },
  {
   "cell_type": "code",
   "execution_count": 141,
   "metadata": {
    "ExecuteTime": {
     "end_time": "2020-05-31T03:04:52.680795Z",
     "start_time": "2020-05-31T03:04:52.675314Z"
    }
   },
   "outputs": [],
   "source": [
    "### function for plotting caterogical columns\n",
    "def plot_cat(df,feature, xlabel_rotation=0 ):\n",
    "    fig, ax = plt.subplots(1, 2, figsize=(14, 4))\n",
    "    \n",
    "    # title for first subplot\n",
    "    ax[0].set(xlabel = f\"{feature}\", ylabel=f\"Number of Customers\")\n",
    "    # title for second subplot\n",
    "    ax[1].set(xlabel = f\"{feature}\", ylabel=f\"Number of Customers\")\n",
    "    \n",
    "    # create subplots, parametr rot=0 - shows how we see labels for axes x\n",
    "    df[df.churn == \"No\"][feature].value_counts().plot(kind='bar', ax=ax[0], rot=xlabel_rotation).set_title('Non churn customers')\n",
    "    df[df.churn == \"Yes\"][feature].value_counts().plot(kind='bar', ax=ax[1], rot=xlabel_rotation).set_title('Churn Customers')\n",
    "    \n",
    "    # main title\n",
    "    # y - how far from plot we put title (if y is small number then title connect with plots, else y is big number then title run away from plot, plot go down the page\n",
    "    # size - font size for title\n",
    "    # weight - type of font\n",
    "    fig.suptitle(f'{feature} distribution in customer attrition', y=1.02, size=16, weight='bold')"
   ]
  },
  {
   "cell_type": "code",
   "execution_count": 142,
   "metadata": {
    "ExecuteTime": {
     "end_time": "2020-05-31T03:04:52.689465Z",
     "start_time": "2020-05-31T03:04:52.686706Z"
    }
   },
   "outputs": [],
   "source": [
    "# define features\n",
    "categorical_features=['gender', 'seniorcitizen', 'partner', 'dependents',\n",
    "       'phoneservice', 'multiplelines', 'internetservice', 'onlinesecurity',\n",
    "       'onlinebackup', 'deviceprotection', 'techsupport', 'streamingtv',\n",
    "       'streamingmovies', 'contract', 'paperlessbilling', 'paymentmethod']\n",
    "numerical_features=['tenure','monthlycharges', 'totalcharges']"
   ]
  },
  {
   "cell_type": "code",
   "execution_count": 143,
   "metadata": {
    "ExecuteTime": {
     "end_time": "2020-05-31T03:04:52.971109Z",
     "start_time": "2020-05-31T03:04:52.693493Z"
    }
   },
   "outputs": [
    {
     "data": {
      "image/png": "[encoded data removed]",
      "text/plain": [
       "<Figure size 1008x288 with 2 Axes>"
      ]
     },
     "metadata": {
      "needs_background": "light"
     },
     "output_type": "display_data"
    }
   ],
   "source": [
    "plot_cat(df,'gender')\n"
   ]
  },
  {
   "cell_type": "markdown",
   "metadata": {},
   "source": [
    " gender: it seems to be an equal distribution of males and females with respect to churn intention.\n",
    " ###### I can guess that gender is not important feature"
   ]
  },
  {
   "cell_type": "code",
   "execution_count": 144,
   "metadata": {
    "ExecuteTime": {
     "end_time": "2020-05-31T03:04:53.238895Z",
     "start_time": "2020-05-31T03:04:52.973009Z"
    }
   },
   "outputs": [
    {
     "data": {
      "image/png": "[encoded data removed]",
      "text/plain": [
       "<Figure size 1008x288 with 2 Axes>"
      ]
     },
     "metadata": {
      "needs_background": "light"
     },
     "output_type": "display_data"
    }
   ],
   "source": [
    "plot_cat(df,'seniorcitizen')"
   ]
  },
  {
   "cell_type": "markdown",
   "metadata": {},
   "source": [
    "######  seniorcitizen: There are much fewer senior citizens and there is a larger proportion of senior citizens churning. in churn plot shows more young people are churning.\n",
    "###### I think seniorcitizen is important feature"
   ]
  },
  {
   "cell_type": "code",
   "execution_count": 145,
   "metadata": {
    "ExecuteTime": {
     "end_time": "2020-05-31T03:04:53.538386Z",
     "start_time": "2020-05-31T03:04:53.241873Z"
    }
   },
   "outputs": [
    {
     "data": {
      "image/png": "[encoded data removed]",
      "text/plain": [
       "<Figure size 1008x288 with 2 Axes>"
      ]
     },
     "metadata": {
      "needs_background": "light"
     },
     "output_type": "display_data"
    }
   ],
   "source": [
    "# partner \n",
    "plot_cat(df,'partner')\n"
   ]
  },
  {
   "cell_type": "markdown",
   "metadata": {},
   "source": [
    "###### Partner: People with partners and without partners have almost same distribution of not churning. single people have more intention to churn.\n",
    "\n",
    "######  I think partner is also an important feature"
   ]
  },
  {
   "cell_type": "code",
   "execution_count": 146,
   "metadata": {
    "ExecuteTime": {
     "end_time": "2020-05-31T03:04:53.891372Z",
     "start_time": "2020-05-31T03:04:53.540320Z"
    }
   },
   "outputs": [
    {
     "data": {
      "image/png": "[encoded data removed]",
      "text/plain": [
       "<Figure size 1008x288 with 2 Axes>"
      ]
     },
     "metadata": {
      "needs_background": "light"
     },
     "output_type": "display_data"
    }
   ],
   "source": [
    "# dependents\n",
    "plot_cat(df,'dependents')\n"
   ]
  },
  {
   "cell_type": "markdown",
   "metadata": {},
   "source": [
    "###### Dependents: There are much fewer people with dependents, there is a larger proportion of people with no dependents churning.\n",
    "\n",
    "\n",
    " ###### Dependents looks like an important feature\n",
    "\n"
   ]
  },
  {
   "cell_type": "code",
   "execution_count": 147,
   "metadata": {
    "ExecuteTime": {
     "end_time": "2020-05-31T03:04:54.339967Z",
     "start_time": "2020-05-31T03:04:53.894886Z"
    }
   },
   "outputs": [
    {
     "data": {
      "image/png": "[encoded data removed]",
      "text/plain": [
       "<Figure size 1008x288 with 2 Axes>"
      ]
     },
     "metadata": {
      "needs_background": "light"
     },
     "output_type": "display_data"
    }
   ],
   "source": [
    "# phoneservice\n",
    "plot_cat(df,'phoneservice')"
   ]
  },
  {
   "cell_type": "markdown",
   "metadata": {},
   "source": [
    "  Phoneservice: There are many more people with a phone service, almost same intention of churn with people having phone service.\n",
    "  \n",
    "###### I can guess that Phoneservice is not important feature"
   ]
  },
  {
   "cell_type": "code",
   "execution_count": 148,
   "metadata": {
    "ExecuteTime": {
     "end_time": "2020-05-31T03:04:54.685635Z",
     "start_time": "2020-05-31T03:04:54.342142Z"
    }
   },
   "outputs": [
    {
     "data": {
      "image/png": "[encoded data removed]",
      "text/plain": [
       "<Figure size 1008x288 with 2 Axes>"
      ]
     },
     "metadata": {
      "needs_background": "light"
     },
     "output_type": "display_data"
    }
   ],
   "source": [
    "# multiplelines\n",
    "plot_cat(df,'multiplelines')\n"
   ]
  },
  {
   "cell_type": "markdown",
   "metadata": {},
   "source": [
    "multiplelines: The numbers of people who have and do not have multiple lines are almost same with respect to churn intention.\n",
    "\n",
    "######  I can guess multiplelines is not important feature"
   ]
  },
  {
   "cell_type": "code",
   "execution_count": 149,
   "metadata": {
    "ExecuteTime": {
     "end_time": "2020-05-31T03:04:55.137848Z",
     "start_time": "2020-05-31T03:04:54.687130Z"
    }
   },
   "outputs": [
    {
     "data": {
      "image/png": "[encoded data removed]",
      "text/plain": [
       "<Figure size 1008x288 with 2 Axes>"
      ]
     },
     "metadata": {
      "needs_background": "light"
     },
     "output_type": "display_data"
    }
   ],
   "source": [
    "# internetservice\n",
    "plot_cat(df,'internetservice')\n"
   ]
  },
  {
   "cell_type": "markdown",
   "metadata": {},
   "source": [
    "internetservice: There are many more people who has an internet service either with DSL or fiber but there is a large proportion of people with fiber optic internet service who churn.\n",
    "\n",
    "\n",
    "###### I can expect that internetservice is going to be an important prediction feature especially with Fiber Optic"
   ]
  },
  {
   "cell_type": "code",
   "execution_count": 150,
   "metadata": {
    "ExecuteTime": {
     "end_time": "2020-05-31T03:04:55.454167Z",
     "start_time": "2020-05-31T03:04:55.139956Z"
    }
   },
   "outputs": [
    {
     "data": {
      "image/png": "[encoded data removed]",
      "text/plain": [
       "<Figure size 1008x288 with 2 Axes>"
      ]
     },
     "metadata": {
      "needs_background": "light"
     },
     "output_type": "display_data"
    }
   ],
   "source": [
    "# plot_cat(df,'onlinesecurity')\n",
    "\n",
    "plot_cat(df,'onlinesecurity')\n"
   ]
  },
  {
   "cell_type": "code",
   "execution_count": null,
   "metadata": {},
   "outputs": [],
   "source": []
  },
  {
   "cell_type": "markdown",
   "metadata": {},
   "source": [
    "OnlineSecurity: there are more people with no online security and a larger proportion of the people has online security, has not churned.\n",
    "\n",
    "customers having online security tend to stay within company compared to customers without online security "
   ]
  },
  {
   "cell_type": "code",
   "execution_count": 151,
   "metadata": {
    "ExecuteTime": {
     "end_time": "2020-05-31T03:04:55.725906Z",
     "start_time": "2020-05-31T03:04:55.456485Z"
    }
   },
   "outputs": [
    {
     "data": {
      "image/png": "[encoded data removed]",
      "text/plain": [
       "<Figure size 1008x288 with 2 Axes>"
      ]
     },
     "metadata": {
      "needs_background": "light"
     },
     "output_type": "display_data"
    }
   ],
   "source": [
    "#onlinebackup\n",
    "plot_cat(df,'onlinebackup')\n"
   ]
  },
  {
   "cell_type": "markdown",
   "metadata": {},
   "source": [
    "OnlineBackup:  There are more people with no online backup and  those who has onlinebackup has less probability of churn\n",
    "\n",
    "customers having OnlineBackup tend to stay within company compared to customers without OnlineBackup"
   ]
  },
  {
   "cell_type": "code",
   "execution_count": 152,
   "metadata": {
    "ExecuteTime": {
     "end_time": "2020-05-31T03:04:55.983223Z",
     "start_time": "2020-05-31T03:04:55.727743Z"
    }
   },
   "outputs": [
    {
     "data": {
      "image/png": "[encoded data removed]",
      "text/plain": [
       "<Figure size 1008x288 with 2 Axes>"
      ]
     },
     "metadata": {
      "needs_background": "light"
     },
     "output_type": "display_data"
    }
   ],
   "source": [
    "#deviceprotection\n",
    "plot_cat(df,'deviceprotection')\n"
   ]
  },
  {
   "cell_type": "markdown",
   "metadata": {},
   "source": [
    "DeviceProtection:  There are more people with no device protection and and those who has DeviceProtection has less probability to churn.\n",
    "\n"
   ]
  },
  {
   "cell_type": "code",
   "execution_count": 153,
   "metadata": {
    "ExecuteTime": {
     "end_time": "2020-05-31T03:04:56.332406Z",
     "start_time": "2020-05-31T03:04:55.985075Z"
    }
   },
   "outputs": [
    {
     "data": {
      "image/png": "[encoded data removed]",
      "text/plain": [
       "<Figure size 1008x288 with 2 Axes>"
      ]
     },
     "metadata": {
      "needs_background": "light"
     },
     "output_type": "display_data"
    }
   ],
   "source": [
    "#techsupport\n",
    "plot_cat(df,'techsupport')\n"
   ]
  },
  {
   "cell_type": "markdown",
   "metadata": {},
   "source": [
    "TechSupport: there are more people with no tech support and and those who has tech support has less probability to churn."
   ]
  },
  {
   "cell_type": "code",
   "execution_count": 154,
   "metadata": {
    "ExecuteTime": {
     "end_time": "2020-05-31T03:04:56.645747Z",
     "start_time": "2020-05-31T03:04:56.334506Z"
    }
   },
   "outputs": [
    {
     "data": {
      "image/png": "[encoded data removed]",
      "text/plain": [
       "<Figure size 1008x288 with 2 Axes>"
      ]
     },
     "metadata": {
      "needs_background": "light"
     },
     "output_type": "display_data"
    }
   ],
   "source": [
    "# streamingtv\n",
    "plot_cat(df,'streamingtv')"
   ]
  },
  {
   "cell_type": "markdown",
   "metadata": {},
   "source": [
    "StreamingTV: it seems to be almost an equal distribution of people who did and did not have streaming tv with respect to churn intention."
   ]
  },
  {
   "cell_type": "code",
   "execution_count": 155,
   "metadata": {
    "ExecuteTime": {
     "end_time": "2020-05-31T03:04:56.968259Z",
     "start_time": "2020-05-31T03:04:56.648045Z"
    }
   },
   "outputs": [
    {
     "data": {
      "image/png": "[encoded data removed]",
      "text/plain": [
       "<Figure size 1008x288 with 2 Axes>"
      ]
     },
     "metadata": {
      "needs_background": "light"
     },
     "output_type": "display_data"
    }
   ],
   "source": [
    "# streamingmovies\n",
    "plot_cat(df,'streamingmovies')\n"
   ]
  },
  {
   "cell_type": "markdown",
   "metadata": {},
   "source": [
    "StreamingMovies: there are more people with no streamingmovies  and those who has streamingmovies has more probability to churn."
   ]
  },
  {
   "cell_type": "code",
   "execution_count": 156,
   "metadata": {
    "ExecuteTime": {
     "end_time": "2020-05-31T03:04:57.303282Z",
     "start_time": "2020-05-31T03:04:56.970090Z"
    }
   },
   "outputs": [
    {
     "data": {
      "image/png": "[encoded data removed]",
      "text/plain": [
       "<Figure size 1008x288 with 2 Axes>"
      ]
     },
     "metadata": {
      "needs_background": "light"
     },
     "output_type": "display_data"
    }
   ],
   "source": [
    "# contract\n",
    "plot_cat(df,'contract')"
   ]
  },
  {
   "cell_type": "markdown",
   "metadata": {},
   "source": [
    "Contract: There are many more people who are on a month-to-month contract and a large proportion of this group of people has churned.People with one year contract is less churn. People with two years contract are the least people may churn.\n",
    "\n",
    "###### I can tell 'contract'  is one of the most important feature"
   ]
  },
  {
   "cell_type": "code",
   "execution_count": 157,
   "metadata": {
    "ExecuteTime": {
     "end_time": "2020-05-31T03:04:57.602698Z",
     "start_time": "2020-05-31T03:04:57.304977Z"
    }
   },
   "outputs": [
    {
     "data": {
      "image/png": "[encoded data removed]",
      "text/plain": [
       "<Figure size 1008x288 with 2 Axes>"
      ]
     },
     "metadata": {
      "needs_background": "light"
     },
     "output_type": "display_data"
    }
   ],
   "source": [
    "# paperlessbilling\n",
    "plot_cat(df,'paperlessbilling')\n"
   ]
  },
  {
   "cell_type": "markdown",
   "metadata": {},
   "source": [
    "PaperlessBilling: The number of people with paperless billing has quite larger proportion in people who has churned"
   ]
  },
  {
   "cell_type": "code",
   "execution_count": 158,
   "metadata": {
    "ExecuteTime": {
     "end_time": "2020-05-31T03:04:57.918396Z",
     "start_time": "2020-05-31T03:04:57.604512Z"
    },
    "scrolled": true
   },
   "outputs": [
    {
     "data": {
      "image/png": "[encoded data removed]",
      "text/plain": [
       "<Figure size 1008x288 with 2 Axes>"
      ]
     },
     "metadata": {
      "needs_background": "light"
     },
     "output_type": "display_data"
    }
   ],
   "source": [
    "#paymentmethod\n",
    "plot_cat(df,'paymentmethod',45)\n"
   ]
  },
  {
   "cell_type": "markdown",
   "metadata": {},
   "source": [
    "PaymentMethod: There are more people adopting electronic check as a payment method and a large proportion of them has churned."
   ]
  },
  {
   "cell_type": "markdown",
   "metadata": {
    "ExecuteTime": {
     "end_time": "2020-05-24T19:56:41.960452Z",
     "start_time": "2020-05-24T19:56:41.955860Z"
    }
   },
   "source": [
    "In conclusion, based on our analyses,  We can see the more servises added the less people churn.\n",
    "Gender is not a feature, phone service and multipleline arn't service \n",
    "List of important features are :\n",
    "1-seniorcitizen\n",
    "2-"
   ]
  },
  {
   "cell_type": "markdown",
   "metadata": {},
   "source": [
    "### Exploring Numeric Features\n",
    "We have three numeric features ['tenure','monthlycharges', 'totalcharges'], we want to study their changes with respect to the target column i.e. 'churn' as follows:"
   ]
  },
  {
   "cell_type": "code",
   "execution_count": 159,
   "metadata": {
    "ExecuteTime": {
     "end_time": "2020-05-31T03:04:58.965579Z",
     "start_time": "2020-05-31T03:04:57.920068Z"
    }
   },
   "outputs": [
    {
     "data": {
      "text/plain": [
       "[Text(0, 0.5, 'Number of Customers of tenure'), Text(0.5, 0, 'tenure')]"
      ]
     },
     "execution_count": 159,
     "metadata": {},
     "output_type": "execute_result"
    },
    {
     "data": {
      "text/plain": [
       "Text(0.5, 1.0, 'tenure distribution \\n in customer attrition')"
      ]
     },
     "execution_count": 159,
     "metadata": {},
     "output_type": "execute_result"
    },
    {
     "data": {
      "text/plain": [
       "<matplotlib.axes._subplots.AxesSubplot at 0x1c394ee278>"
      ]
     },
     "execution_count": 159,
     "metadata": {},
     "output_type": "execute_result"
    },
    {
     "data": {
      "text/plain": [
       "<matplotlib.axes._subplots.AxesSubplot at 0x1c394ee278>"
      ]
     },
     "execution_count": 159,
     "metadata": {},
     "output_type": "execute_result"
    },
    {
     "data": {
      "text/plain": [
       "[Text(0, 0.5, 'Number of Customers of monthlycharges'),\n",
       " Text(0.5, 0, 'monthlycharges')]"
      ]
     },
     "execution_count": 159,
     "metadata": {},
     "output_type": "execute_result"
    },
    {
     "data": {
      "text/plain": [
       "Text(0.5, 1.0, 'monthlycharges distribution \\n in customer attrition')"
      ]
     },
     "execution_count": 159,
     "metadata": {},
     "output_type": "execute_result"
    },
    {
     "data": {
      "text/plain": [
       "<matplotlib.axes._subplots.AxesSubplot at 0x1c39535f28>"
      ]
     },
     "execution_count": 159,
     "metadata": {},
     "output_type": "execute_result"
    },
    {
     "data": {
      "text/plain": [
       "<matplotlib.axes._subplots.AxesSubplot at 0x1c39535f28>"
      ]
     },
     "execution_count": 159,
     "metadata": {},
     "output_type": "execute_result"
    },
    {
     "data": {
      "text/plain": [
       "[Text(0, 0.5, 'Number of Customers of totalcharges'),\n",
       " Text(0.5, 0, 'totalcharges')]"
      ]
     },
     "execution_count": 159,
     "metadata": {},
     "output_type": "execute_result"
    },
    {
     "data": {
      "text/plain": [
       "Text(0.5, 1.0, 'totalcharges distribution \\n in customer attrition')"
      ]
     },
     "execution_count": 159,
     "metadata": {},
     "output_type": "execute_result"
    },
    {
     "data": {
      "text/plain": [
       "<matplotlib.axes._subplots.AxesSubplot at 0x1c39567908>"
      ]
     },
     "execution_count": 159,
     "metadata": {},
     "output_type": "execute_result"
    },
    {
     "data": {
      "text/plain": [
       "<matplotlib.axes._subplots.AxesSubplot at 0x1c39567908>"
      ]
     },
     "execution_count": 159,
     "metadata": {},
     "output_type": "execute_result"
    },
    {
     "data": {
      "text/plain": [
       "<matplotlib.legend.Legend at 0x1c399b2ba8>"
      ]
     },
     "execution_count": 159,
     "metadata": {},
     "output_type": "execute_result"
    },
    {
     "data": {
      "image/png": "[encoded data removed]",
      "text/plain": [
       "<Figure size 1008x288 with 3 Axes>"
      ]
     },
     "metadata": {
      "needs_background": "light"
     },
     "output_type": "display_data"
    }
   ],
   "source": [
    "\n",
    "fig, ax = plt.subplots(1, len(numerical_features), figsize=(14, 4))\n",
    "fig.subplots_adjust(wspace=.5)\n",
    "\n",
    "for feature,i in zip(numerical_features,range(len(numerical_features))):\n",
    "    ax[i].set(xlabel = f\"{feature}\", ylabel=f\"Number of Customers of {feature}\")\n",
    "    ax[i].set_title(f'{feature} distribution \\n in customer attrition',size=16, weight='bold')\n",
    "    df[df.churn == \"No\"][feature].hist(bins=30, color=\"blue\", alpha=0.5, ax=ax[i])\n",
    "    df[df.churn == \"Yes\"][feature].hist(bins=30, color=\"red\", alpha=0.5, ax=ax[i])\n",
    "\n",
    "\n",
    "fig.legend([\"Not Churn\",\"Churn\"])"
   ]
  },
  {
   "cell_type": "markdown",
   "metadata": {},
   "source": [
    "* We can observe that the greater the totalcharges is, the less churn happened.\n",
    "###### Totalcharges looks very important feature with respect  to churn\n",
    "Totalcharges is skewed to right, taking logarithim will help in normalizing data.\n",
    "* monthly charges is fluctuating with respect to churn.\n",
    "\n",
    "* As customer's tenure increases, the churn mostly decreases.\n"
   ]
  },
  {
   "cell_type": "markdown",
   "metadata": {},
   "source": [
    "#### Checking Outliers\n",
    "To check  for outliers,  I only need to check on my numeric features, and there is no need to check in the categorical features. I will look at it through  a function using scipy library which considers the z-value(number of sigma) = 3 as threshold and returns True if z>3, which means these values are outliers, and return False if z<3, which means these values are not outliers.\n",
    "\n"
   ]
  },
  {
   "cell_type": "code",
   "execution_count": 160,
   "metadata": {
    "ExecuteTime": {
     "end_time": "2020-05-31T03:04:58.970647Z",
     "start_time": "2020-05-31T03:04:58.967459Z"
    }
   },
   "outputs": [],
   "source": [
    "def find_outliers(col):\n",
    "    \"\"\"Use scipy to calcualte absolute Z-scores \n",
    "    and return boolean series where True indicates it is an outlier\n",
    "    Args:\n",
    "        col (Series):column from my dataFrame\n",
    "    Returns:\n",
    "        idx_outliers (Series): series of  True/False for each row in col\n",
    "        \n",
    "    Ex:\n",
    "    >> idx_outs = find_outliers(df['tenure'])\n",
    "    >> df_clean = df.loc[idx_outs==False]\"\"\"\n",
    "    from scipy import stats\n",
    "    z = np.abs(stats.zscore(col))\n",
    "    idx_outliers = np.where(z>3,True,False)\n",
    "    return pd.Series(idx_outliers,index=col.index)"
   ]
  },
  {
   "cell_type": "markdown",
   "metadata": {},
   "source": [
    "##### tenure outlier check"
   ]
  },
  {
   "cell_type": "code",
   "execution_count": 161,
   "metadata": {
    "ExecuteTime": {
     "end_time": "2020-05-31T03:04:58.978385Z",
     "start_time": "2020-05-31T03:04:58.972417Z"
    }
   },
   "outputs": [
    {
     "data": {
      "text/plain": [
       "False    7032\n",
       "dtype: int64"
      ]
     },
     "execution_count": 161,
     "metadata": {},
     "output_type": "execute_result"
    }
   ],
   "source": [
    "\n",
    "#Checking outliers in tenure\n",
    "\n",
    "idx_outs = find_outliers(df['tenure']) \n",
    "idx_outs.value_counts()\n"
   ]
  },
  {
   "cell_type": "markdown",
   "metadata": {
    "ExecuteTime": {
     "end_time": "2020-05-24T05:51:20.628420Z",
     "start_time": "2020-05-24T05:51:20.624177Z"
    }
   },
   "source": [
    " outliers result is false, this means I don't have outliers in 'tenure'"
   ]
  },
  {
   "cell_type": "markdown",
   "metadata": {},
   "source": [
    "##### monthlycharges outlier Removal"
   ]
  },
  {
   "cell_type": "code",
   "execution_count": 162,
   "metadata": {
    "ExecuteTime": {
     "end_time": "2020-05-31T03:04:58.985842Z",
     "start_time": "2020-05-31T03:04:58.979916Z"
    }
   },
   "outputs": [
    {
     "data": {
      "text/plain": [
       "False    7032\n",
       "dtype: int64"
      ]
     },
     "execution_count": 162,
     "metadata": {},
     "output_type": "execute_result"
    }
   ],
   "source": [
    "#Checking outliers in monthlycharges\n",
    "\n",
    "idx_outs = find_outliers(df['monthlycharges']) \n",
    "idx_outs.value_counts()\n"
   ]
  },
  {
   "cell_type": "markdown",
   "metadata": {},
   "source": [
    " outliers result is false, this means I don't have outliers in 'monthlycharges'"
   ]
  },
  {
   "cell_type": "markdown",
   "metadata": {},
   "source": [
    "##### totalcharges outlier's check"
   ]
  },
  {
   "cell_type": "code",
   "execution_count": 163,
   "metadata": {
    "ExecuteTime": {
     "end_time": "2020-05-31T03:04:58.993562Z",
     "start_time": "2020-05-31T03:04:58.987388Z"
    }
   },
   "outputs": [
    {
     "data": {
      "text/plain": [
       "False    7032\n",
       "dtype: int64"
      ]
     },
     "execution_count": 163,
     "metadata": {},
     "output_type": "execute_result"
    }
   ],
   "source": [
    "#Checking outliers in totalcharges \n",
    "\n",
    "idx_outs = find_outliers(df['totalcharges']) \n",
    "idx_outs.value_counts()\n"
   ]
  },
  {
   "cell_type": "markdown",
   "metadata": {
    "ExecuteTime": {
     "end_time": "2020-05-24T06:04:45.944793Z",
     "start_time": "2020-05-24T06:04:45.940218Z"
    }
   },
   "source": [
    " outliers result is false, this means I don't have outliers in 'totalcharges'"
   ]
  },
  {
   "cell_type": "markdown",
   "metadata": {},
   "source": [
    "### Modeling Data"
   ]
  },
  {
   "cell_type": "markdown",
   "metadata": {},
   "source": [
    "#### Data preprocessing"
   ]
  },
  {
   "cell_type": "markdown",
   "metadata": {},
   "source": [
    " ##### Encoding features"
   ]
  },
  {
   "cell_type": "markdown",
   "metadata": {},
   "source": [
    "Since our target variable (churn) is unbalanced, I will try to build the baseline classification accuracy for X_train through DummyClassifier.\n",
    "\n",
    "I will use the most_frequent strategy of calculating the baseline accuracy.\n",
    "\n",
    "To prepare the dataset for modeling, we need to encode categorical features to numbers. This means encoding \"Yes\", \"No\" to 0 and 1 so that algorithm can work with the data. This process is called onehot encoding."
   ]
  },
  {
   "cell_type": "code",
   "execution_count": 164,
   "metadata": {
    "ExecuteTime": {
     "end_time": "2020-05-31T03:04:59.005808Z",
     "start_time": "2020-05-31T03:04:58.995079Z"
    }
   },
   "outputs": [],
   "source": [
    "df['churn'] = df['churn'].apply(lambda x: x.strip().replace(\"Yes\", \"1\").replace(\"No\", \"0\"))\n",
    "df['churn'] = df['churn'].astype('int')"
   ]
  },
  {
   "cell_type": "code",
   "execution_count": 165,
   "metadata": {
    "ExecuteTime": {
     "end_time": "2020-05-31T03:04:59.163119Z",
     "start_time": "2020-05-31T03:04:59.007409Z"
    }
   },
   "outputs": [],
   "source": [
    "#### onehot encoding all caterogical data\n",
    "df = pd.get_dummies(df, drop_first=True)"
   ]
  },
  {
   "cell_type": "code",
   "execution_count": 166,
   "metadata": {
    "ExecuteTime": {
     "end_time": "2020-05-31T03:04:59.196918Z",
     "start_time": "2020-05-31T03:04:59.165241Z"
    }
   },
   "outputs": [
    {
     "name": "stdout",
     "output_type": "stream",
     "text": [
      "<class 'pandas.core.frame.DataFrame'>\n",
      "Int64Index: 7032 entries, 0 to 7042\n",
      "Data columns (total 25 columns):\n",
      "tenure                                   7032 non-null int64\n",
      "monthlycharges                           7032 non-null float64\n",
      "totalcharges                             7032 non-null float64\n",
      "churn                                    7032 non-null int64\n",
      "gender_Male                              7032 non-null uint8\n",
      "seniorcitizen_Yes                        7032 non-null uint8\n",
      "partner_Yes                              7032 non-null uint8\n",
      "dependents_Yes                           7032 non-null uint8\n",
      "phoneservice_Yes                         7032 non-null uint8\n",
      "multiplelines_No phone service           7032 non-null uint8\n",
      "multiplelines_Yes                        7032 non-null uint8\n",
      "internetservice_Fiber optic              7032 non-null uint8\n",
      "internetservice_No                       7032 non-null uint8\n",
      "onlinesecurity_Yes                       7032 non-null uint8\n",
      "onlinebackup_Yes                         7032 non-null uint8\n",
      "deviceprotection_Yes                     7032 non-null uint8\n",
      "techsupport_Yes                          7032 non-null uint8\n",
      "streamingtv_Yes                          7032 non-null uint8\n",
      "streamingmovies_Yes                      7032 non-null uint8\n",
      "contract_One year                        7032 non-null uint8\n",
      "contract_Two year                        7032 non-null uint8\n",
      "paperlessbilling_Yes                     7032 non-null uint8\n",
      "paymentmethod_Credit card (automatic)    7032 non-null uint8\n",
      "paymentmethod_Electronic check           7032 non-null uint8\n",
      "paymentmethod_Mailed check               7032 non-null uint8\n",
      "dtypes: float64(2), int64(2), uint8(21)\n",
      "memory usage: 418.9 KB\n"
     ]
    },
    {
     "data": {
      "text/html": [
       "<div>\n",
       "<style scoped>\n",
       "    .dataframe tbody tr th:only-of-type {\n",
       "        vertical-align: middle;\n",
       "    }\n",
       "\n",
       "    .dataframe tbody tr th {\n",
       "        vertical-align: top;\n",
       "    }\n",
       "\n",
       "    .dataframe thead th {\n",
       "        text-align: right;\n",
       "    }\n",
       "</style>\n",
       "<table border=\"1\" class=\"dataframe\">\n",
       "  <thead>\n",
       "    <tr style=\"text-align: right;\">\n",
       "      <th></th>\n",
       "      <th>tenure</th>\n",
       "      <th>monthlycharges</th>\n",
       "      <th>totalcharges</th>\n",
       "      <th>churn</th>\n",
       "      <th>gender_Male</th>\n",
       "      <th>seniorcitizen_Yes</th>\n",
       "      <th>partner_Yes</th>\n",
       "      <th>dependents_Yes</th>\n",
       "      <th>phoneservice_Yes</th>\n",
       "      <th>multiplelines_No phone service</th>\n",
       "      <th>...</th>\n",
       "      <th>deviceprotection_Yes</th>\n",
       "      <th>techsupport_Yes</th>\n",
       "      <th>streamingtv_Yes</th>\n",
       "      <th>streamingmovies_Yes</th>\n",
       "      <th>contract_One year</th>\n",
       "      <th>contract_Two year</th>\n",
       "      <th>paperlessbilling_Yes</th>\n",
       "      <th>paymentmethod_Credit card (automatic)</th>\n",
       "      <th>paymentmethod_Electronic check</th>\n",
       "      <th>paymentmethod_Mailed check</th>\n",
       "    </tr>\n",
       "  </thead>\n",
       "  <tbody>\n",
       "    <tr>\n",
       "      <td>0</td>\n",
       "      <td>1</td>\n",
       "      <td>29.85</td>\n",
       "      <td>29.85</td>\n",
       "      <td>0</td>\n",
       "      <td>0</td>\n",
       "      <td>0</td>\n",
       "      <td>1</td>\n",
       "      <td>0</td>\n",
       "      <td>0</td>\n",
       "      <td>1</td>\n",
       "      <td>...</td>\n",
       "      <td>0</td>\n",
       "      <td>0</td>\n",
       "      <td>0</td>\n",
       "      <td>0</td>\n",
       "      <td>0</td>\n",
       "      <td>0</td>\n",
       "      <td>1</td>\n",
       "      <td>0</td>\n",
       "      <td>1</td>\n",
       "      <td>0</td>\n",
       "    </tr>\n",
       "    <tr>\n",
       "      <td>1</td>\n",
       "      <td>34</td>\n",
       "      <td>56.95</td>\n",
       "      <td>1889.50</td>\n",
       "      <td>0</td>\n",
       "      <td>1</td>\n",
       "      <td>0</td>\n",
       "      <td>0</td>\n",
       "      <td>0</td>\n",
       "      <td>1</td>\n",
       "      <td>0</td>\n",
       "      <td>...</td>\n",
       "      <td>1</td>\n",
       "      <td>0</td>\n",
       "      <td>0</td>\n",
       "      <td>0</td>\n",
       "      <td>1</td>\n",
       "      <td>0</td>\n",
       "      <td>0</td>\n",
       "      <td>0</td>\n",
       "      <td>0</td>\n",
       "      <td>1</td>\n",
       "    </tr>\n",
       "    <tr>\n",
       "      <td>2</td>\n",
       "      <td>2</td>\n",
       "      <td>53.85</td>\n",
       "      <td>108.15</td>\n",
       "      <td>1</td>\n",
       "      <td>1</td>\n",
       "      <td>0</td>\n",
       "      <td>0</td>\n",
       "      <td>0</td>\n",
       "      <td>1</td>\n",
       "      <td>0</td>\n",
       "      <td>...</td>\n",
       "      <td>0</td>\n",
       "      <td>0</td>\n",
       "      <td>0</td>\n",
       "      <td>0</td>\n",
       "      <td>0</td>\n",
       "      <td>0</td>\n",
       "      <td>1</td>\n",
       "      <td>0</td>\n",
       "      <td>0</td>\n",
       "      <td>1</td>\n",
       "    </tr>\n",
       "    <tr>\n",
       "      <td>3</td>\n",
       "      <td>45</td>\n",
       "      <td>42.30</td>\n",
       "      <td>1840.75</td>\n",
       "      <td>0</td>\n",
       "      <td>1</td>\n",
       "      <td>0</td>\n",
       "      <td>0</td>\n",
       "      <td>0</td>\n",
       "      <td>0</td>\n",
       "      <td>1</td>\n",
       "      <td>...</td>\n",
       "      <td>1</td>\n",
       "      <td>1</td>\n",
       "      <td>0</td>\n",
       "      <td>0</td>\n",
       "      <td>1</td>\n",
       "      <td>0</td>\n",
       "      <td>0</td>\n",
       "      <td>0</td>\n",
       "      <td>0</td>\n",
       "      <td>0</td>\n",
       "    </tr>\n",
       "    <tr>\n",
       "      <td>4</td>\n",
       "      <td>2</td>\n",
       "      <td>70.70</td>\n",
       "      <td>151.65</td>\n",
       "      <td>1</td>\n",
       "      <td>0</td>\n",
       "      <td>0</td>\n",
       "      <td>0</td>\n",
       "      <td>0</td>\n",
       "      <td>1</td>\n",
       "      <td>0</td>\n",
       "      <td>...</td>\n",
       "      <td>0</td>\n",
       "      <td>0</td>\n",
       "      <td>0</td>\n",
       "      <td>0</td>\n",
       "      <td>0</td>\n",
       "      <td>0</td>\n",
       "      <td>1</td>\n",
       "      <td>0</td>\n",
       "      <td>1</td>\n",
       "      <td>0</td>\n",
       "    </tr>\n",
       "  </tbody>\n",
       "</table>\n",
       "<p>5 rows × 25 columns</p>\n",
       "</div>"
      ],
      "text/plain": [
       "   tenure  monthlycharges  totalcharges  churn  gender_Male  \\\n",
       "0       1           29.85         29.85      0            0   \n",
       "1      34           56.95       1889.50      0            1   \n",
       "2       2           53.85        108.15      1            1   \n",
       "3      45           42.30       1840.75      0            1   \n",
       "4       2           70.70        151.65      1            0   \n",
       "\n",
       "   seniorcitizen_Yes  partner_Yes  dependents_Yes  phoneservice_Yes  \\\n",
       "0                  0            1               0                 0   \n",
       "1                  0            0               0                 1   \n",
       "2                  0            0               0                 1   \n",
       "3                  0            0               0                 0   \n",
       "4                  0            0               0                 1   \n",
       "\n",
       "   multiplelines_No phone service  ...  deviceprotection_Yes  techsupport_Yes  \\\n",
       "0                               1  ...                     0                0   \n",
       "1                               0  ...                     1                0   \n",
       "2                               0  ...                     0                0   \n",
       "3                               1  ...                     1                1   \n",
       "4                               0  ...                     0                0   \n",
       "\n",
       "   streamingtv_Yes  streamingmovies_Yes  contract_One year  contract_Two year  \\\n",
       "0                0                    0                  0                  0   \n",
       "1                0                    0                  1                  0   \n",
       "2                0                    0                  0                  0   \n",
       "3                0                    0                  1                  0   \n",
       "4                0                    0                  0                  0   \n",
       "\n",
       "   paperlessbilling_Yes  paymentmethod_Credit card (automatic)  \\\n",
       "0                     1                                      0   \n",
       "1                     0                                      0   \n",
       "2                     1                                      0   \n",
       "3                     0                                      0   \n",
       "4                     1                                      0   \n",
       "\n",
       "   paymentmethod_Electronic check  paymentmethod_Mailed check  \n",
       "0                               1                           0  \n",
       "1                               0                           1  \n",
       "2                               0                           1  \n",
       "3                               0                           0  \n",
       "4                               1                           0  \n",
       "\n",
       "[5 rows x 25 columns]"
      ]
     },
     "execution_count": 166,
     "metadata": {},
     "output_type": "execute_result"
    }
   ],
   "source": [
    "df.info()\n",
    "df.head()"
   ]
  },
  {
   "cell_type": "markdown",
   "metadata": {},
   "source": [
    "#### Baseline model"
   ]
  },
  {
   "cell_type": "markdown",
   "metadata": {},
   "source": [
    "I will build a logistic regression model using statsmodels and sickit learn as my baseline model and git rid of insignificant features based on their pvalue."
   ]
  },
  {
   "cell_type": "markdown",
   "metadata": {},
   "source": [
    "### Evaluation Metrics \n",
    "\n",
    "Important used metrics:\n",
    "    which evaluation metric is most essential for this project ?$$ \\text{Precision} = \\frac{\\text{Number of True Positives}}{\\text{Number of Predicted Positives}} = \\frac{\\text{TP}}{\\text{TP+FP}} $$\n",
    "\n",
    "$$ \\text{Recall} = \\frac{\\text{Number of True Positives}}{\\text{Number of Actual Total Positives}} = \\frac{\\text{TP}}{\\text{TP+FN}}$$\n",
    "$$ \\text{Accuracy} = \\frac{\\text{Number of True Positives + True Negatives}}{\\text{Total Observations}} = \\frac{\\text{TP + TN}}{\\text{TP+TN+FP+FN}}  $$\n"
   ]
  },
  {
   "cell_type": "markdown",
   "metadata": {},
   "source": [
    "###### churned customers are important. We need the model to predict as many churned customers as possible.\n",
    "\n",
    "###### Thus, we cannot afford a high FN and must be low\n",
    "\n",
    "###### Therefore, recall is important here and must be high\n",
    "\n",
    "###### Also, When a model's F1 score is high, we know that the model is doing well all around.\n",
    "\n"
   ]
  },
  {
   "cell_type": "code",
   "execution_count": 167,
   "metadata": {
    "ExecuteTime": {
     "end_time": "2020-05-31T03:04:59.209911Z",
     "start_time": "2020-05-31T03:04:59.199299Z"
    }
   },
   "outputs": [],
   "source": [
    "### define function for plotting confusion matrix\n",
    "def plot_confusion_matrix(y_true, y_preds):\n",
    "    # Print confusion matrix\n",
    "    cnf_matrix = confusion_matrix(y_true, y_preds)\n",
    "    # Create the basic matrix\n",
    "    plt.imshow(cnf_matrix,  cmap=plt.cm.Blues)\n",
    "    # Add title and axis labels\n",
    "    plt.title('Confusion Matrix')\n",
    "    plt.ylabel('True label')\n",
    "    plt.xlabel('Predicted label')\n",
    "    # Add appropriate axis scales\n",
    "    class_names = set(y) # Get class labels to add to matrix\n",
    "    tick_marks = np.arange(len(class_names))\n",
    "    plt.xticks(tick_marks, class_names, rotation=0)\n",
    "    plt.yticks(tick_marks, class_names)\n",
    "    # Add labels to each cell\n",
    "    thresh = cnf_matrix.max() / 2. # Used for text coloring below\n",
    "    # Here we iterate through the confusion matrix and append labels to our visualization\n",
    "    for i, j in itertools.product(range(cnf_matrix.shape[0]), range(cnf_matrix.shape[1])):\n",
    "            plt.text(j, i, cnf_matrix[i, j],\n",
    "                     horizontalalignment='center',\n",
    "                     color='white' if cnf_matrix[i, j] > thresh else 'black')\n",
    "    # Add a legend\n",
    "    plt.colorbar();\n",
    "    plt.show();\n",
    "def metrics(model_name, y_train, y_test, y_hat_train, y_hat_test):\n",
    "    '''Print out the evaluation metrics for a given models predictions'''\n",
    "    print(f'Model: {model_name}', )\n",
    "    print('-'*60)\n",
    "    plot_confusion_matrix(y_test,y_hat_test)\n",
    "    print(f'test accuracy: {accuracy_score(y_test, y_hat_test)}')\n",
    "    print(f'train accuracy: {accuracy_score(y_train, y_hat_train)}')\n",
    "    print('-'*60)\n",
    "    print('-'*60)\n",
    "    print('Confusion Matrix:\\n', pd.crosstab(y_test, y_hat_test, rownames=['Actual'], colnames=['Predicted'],margins = True))\n",
    "    print('\\ntest report:\\n' + classification_report(y_test, y_hat_test))\n",
    "    print('~'*60)\n",
    "    print('\\ntrain report:\\n' + classification_report(y_train, y_hat_train))\n",
    "    print('-'*60)"
   ]
  },
  {
   "cell_type": "code",
   "execution_count": 168,
   "metadata": {
    "ExecuteTime": {
     "end_time": "2020-05-31T03:04:59.277285Z",
     "start_time": "2020-05-31T03:04:59.211814Z"
    }
   },
   "outputs": [
    {
     "name": "stdout",
     "output_type": "stream",
     "text": [
      "Optimization terminated successfully.\n",
      "         Current function value: 0.414269\n",
      "         Iterations 8\n"
     ]
    },
    {
     "data": {
      "text/html": [
       "<table class=\"simpletable\">\n",
       "<caption>Logit Regression Results</caption>\n",
       "<tr>\n",
       "  <th>Dep. Variable:</th>         <td>churn</td>      <th>  No. Observations:  </th>  <td>  7032</td> \n",
       "</tr>\n",
       "<tr>\n",
       "  <th>Model:</th>                 <td>Logit</td>      <th>  Df Residuals:      </th>  <td>  7008</td> \n",
       "</tr>\n",
       "<tr>\n",
       "  <th>Method:</th>                 <td>MLE</td>       <th>  Df Model:          </th>  <td>    23</td> \n",
       "</tr>\n",
       "<tr>\n",
       "  <th>Date:</th>            <td>Sat, 30 May 2020</td> <th>  Pseudo R-squ.:     </th>  <td>0.2845</td> \n",
       "</tr>\n",
       "<tr>\n",
       "  <th>Time:</th>                <td>23:04:59</td>     <th>  Log-Likelihood:    </th> <td> -2913.1</td>\n",
       "</tr>\n",
       "<tr>\n",
       "  <th>converged:</th>             <td>True</td>       <th>  LL-Null:           </th> <td> -4071.7</td>\n",
       "</tr>\n",
       "<tr>\n",
       "  <th>Covariance Type:</th>     <td>nonrobust</td>    <th>  LLR p-value:       </th>  <td> 0.000</td> \n",
       "</tr>\n",
       "</table>\n",
       "<table class=\"simpletable\">\n",
       "<tr>\n",
       "                    <td></td>                       <th>coef</th>     <th>std err</th>      <th>z</th>      <th>P>|z|</th>  <th>[0.025</th>    <th>0.975]</th>  \n",
       "</tr>\n",
       "<tr>\n",
       "  <th>const</th>                                 <td>    0.8340</td> <td>      nan</td> <td>      nan</td> <td>   nan</td> <td>      nan</td> <td>      nan</td>\n",
       "</tr>\n",
       "<tr>\n",
       "  <th>tenure</th>                                <td>   -0.0606</td> <td>    0.006</td> <td>   -9.716</td> <td> 0.000</td> <td>   -0.073</td> <td>   -0.048</td>\n",
       "</tr>\n",
       "<tr>\n",
       "  <th>monthlycharges</th>                        <td>   -0.0403</td> <td>    0.032</td> <td>   -1.270</td> <td> 0.204</td> <td>   -0.103</td> <td>    0.022</td>\n",
       "</tr>\n",
       "<tr>\n",
       "  <th>totalcharges</th>                          <td>    0.0003</td> <td> 7.06e-05</td> <td>    4.657</td> <td> 0.000</td> <td>    0.000</td> <td>    0.000</td>\n",
       "</tr>\n",
       "<tr>\n",
       "  <th>gender_Male</th>                           <td>   -0.0218</td> <td>    0.065</td> <td>   -0.337</td> <td> 0.736</td> <td>   -0.149</td> <td>    0.105</td>\n",
       "</tr>\n",
       "<tr>\n",
       "  <th>seniorcitizen_Yes</th>                     <td>    0.2168</td> <td>    0.085</td> <td>    2.564</td> <td> 0.010</td> <td>    0.051</td> <td>    0.382</td>\n",
       "</tr>\n",
       "<tr>\n",
       "  <th>partner_Yes</th>                           <td>   -0.0004</td> <td>    0.078</td> <td>   -0.005</td> <td> 0.996</td> <td>   -0.153</td> <td>    0.152</td>\n",
       "</tr>\n",
       "<tr>\n",
       "  <th>dependents_Yes</th>                        <td>   -0.1485</td> <td>    0.090</td> <td>   -1.655</td> <td> 0.098</td> <td>   -0.324</td> <td>    0.027</td>\n",
       "</tr>\n",
       "<tr>\n",
       "  <th>phoneservice_Yes</th>                      <td>    0.5027</td> <td>      nan</td> <td>      nan</td> <td>   nan</td> <td>      nan</td> <td>      nan</td>\n",
       "</tr>\n",
       "<tr>\n",
       "  <th>multiplelines_No phone service</th>        <td>    0.3313</td> <td>      nan</td> <td>      nan</td> <td>   nan</td> <td>      nan</td> <td>      nan</td>\n",
       "</tr>\n",
       "<tr>\n",
       "  <th>multiplelines_Yes</th>                     <td>    0.4484</td> <td>    0.177</td> <td>    2.530</td> <td> 0.011</td> <td>    0.101</td> <td>    0.796</td>\n",
       "</tr>\n",
       "<tr>\n",
       "  <th>internetservice_Fiber optic</th>           <td>    1.7475</td> <td>    0.798</td> <td>    2.190</td> <td> 0.029</td> <td>    0.183</td> <td>    3.312</td>\n",
       "</tr>\n",
       "<tr>\n",
       "  <th>internetservice_No</th>                    <td>   -1.7863</td> <td>    0.807</td> <td>   -2.213</td> <td> 0.027</td> <td>   -3.369</td> <td>   -0.204</td>\n",
       "</tr>\n",
       "<tr>\n",
       "  <th>onlinesecurity_Yes</th>                    <td>   -0.2054</td> <td>    0.179</td> <td>   -1.150</td> <td> 0.250</td> <td>   -0.556</td> <td>    0.145</td>\n",
       "</tr>\n",
       "<tr>\n",
       "  <th>onlinebackup_Yes</th>                      <td>    0.0260</td> <td>    0.175</td> <td>    0.148</td> <td> 0.882</td> <td>   -0.318</td> <td>    0.370</td>\n",
       "</tr>\n",
       "<tr>\n",
       "  <th>deviceprotection_Yes</th>                  <td>    0.1474</td> <td>    0.176</td> <td>    0.836</td> <td> 0.403</td> <td>   -0.198</td> <td>    0.493</td>\n",
       "</tr>\n",
       "<tr>\n",
       "  <th>techsupport_Yes</th>                       <td>   -0.1805</td> <td>    0.181</td> <td>   -0.999</td> <td> 0.318</td> <td>   -0.534</td> <td>    0.173</td>\n",
       "</tr>\n",
       "<tr>\n",
       "  <th>streamingtv_Yes</th>                       <td>    0.5905</td> <td>    0.326</td> <td>    1.810</td> <td> 0.070</td> <td>   -0.049</td> <td>    1.230</td>\n",
       "</tr>\n",
       "<tr>\n",
       "  <th>streamingmovies_Yes</th>                   <td>    0.5993</td> <td>    0.327</td> <td>    1.834</td> <td> 0.067</td> <td>   -0.041</td> <td>    1.240</td>\n",
       "</tr>\n",
       "<tr>\n",
       "  <th>contract_One year</th>                     <td>   -0.6608</td> <td>    0.108</td> <td>   -6.142</td> <td> 0.000</td> <td>   -0.872</td> <td>   -0.450</td>\n",
       "</tr>\n",
       "<tr>\n",
       "  <th>contract_Two year</th>                     <td>   -1.3571</td> <td>    0.176</td> <td>   -7.691</td> <td> 0.000</td> <td>   -1.703</td> <td>   -1.011</td>\n",
       "</tr>\n",
       "<tr>\n",
       "  <th>paperlessbilling_Yes</th>                  <td>    0.3424</td> <td>    0.074</td> <td>    4.596</td> <td> 0.000</td> <td>    0.196</td> <td>    0.488</td>\n",
       "</tr>\n",
       "<tr>\n",
       "  <th>paymentmethod_Credit card (automatic)</th> <td>   -0.0878</td> <td>    0.114</td> <td>   -0.770</td> <td> 0.442</td> <td>   -0.311</td> <td>    0.136</td>\n",
       "</tr>\n",
       "<tr>\n",
       "  <th>paymentmethod_Electronic check</th>        <td>    0.3045</td> <td>    0.094</td> <td>    3.222</td> <td> 0.001</td> <td>    0.119</td> <td>    0.490</td>\n",
       "</tr>\n",
       "<tr>\n",
       "  <th>paymentmethod_Mailed check</th>            <td>   -0.0576</td> <td>    0.115</td> <td>   -0.501</td> <td> 0.616</td> <td>   -0.283</td> <td>    0.168</td>\n",
       "</tr>\n",
       "</table>"
      ],
      "text/plain": [
       "<class 'statsmodels.iolib.summary.Summary'>\n",
       "\"\"\"\n",
       "                           Logit Regression Results                           \n",
       "==============================================================================\n",
       "Dep. Variable:                  churn   No. Observations:                 7032\n",
       "Model:                          Logit   Df Residuals:                     7008\n",
       "Method:                           MLE   Df Model:                           23\n",
       "Date:                Sat, 30 May 2020   Pseudo R-squ.:                  0.2845\n",
       "Time:                        23:04:59   Log-Likelihood:                -2913.1\n",
       "converged:                       True   LL-Null:                       -4071.7\n",
       "Covariance Type:            nonrobust   LLR p-value:                     0.000\n",
       "=========================================================================================================\n",
       "                                            coef    std err          z      P>|z|      [0.025      0.975]\n",
       "---------------------------------------------------------------------------------------------------------\n",
       "const                                     0.8340        nan        nan        nan         nan         nan\n",
       "tenure                                   -0.0606      0.006     -9.716      0.000      -0.073      -0.048\n",
       "monthlycharges                           -0.0403      0.032     -1.270      0.204      -0.103       0.022\n",
       "totalcharges                              0.0003   7.06e-05      4.657      0.000       0.000       0.000\n",
       "gender_Male                              -0.0218      0.065     -0.337      0.736      -0.149       0.105\n",
       "seniorcitizen_Yes                         0.2168      0.085      2.564      0.010       0.051       0.382\n",
       "partner_Yes                              -0.0004      0.078     -0.005      0.996      -0.153       0.152\n",
       "dependents_Yes                           -0.1485      0.090     -1.655      0.098      -0.324       0.027\n",
       "phoneservice_Yes                          0.5027        nan        nan        nan         nan         nan\n",
       "multiplelines_No phone service            0.3313        nan        nan        nan         nan         nan\n",
       "multiplelines_Yes                         0.4484      0.177      2.530      0.011       0.101       0.796\n",
       "internetservice_Fiber optic               1.7475      0.798      2.190      0.029       0.183       3.312\n",
       "internetservice_No                       -1.7863      0.807     -2.213      0.027      -3.369      -0.204\n",
       "onlinesecurity_Yes                       -0.2054      0.179     -1.150      0.250      -0.556       0.145\n",
       "onlinebackup_Yes                          0.0260      0.175      0.148      0.882      -0.318       0.370\n",
       "deviceprotection_Yes                      0.1474      0.176      0.836      0.403      -0.198       0.493\n",
       "techsupport_Yes                          -0.1805      0.181     -0.999      0.318      -0.534       0.173\n",
       "streamingtv_Yes                           0.5905      0.326      1.810      0.070      -0.049       1.230\n",
       "streamingmovies_Yes                       0.5993      0.327      1.834      0.067      -0.041       1.240\n",
       "contract_One year                        -0.6608      0.108     -6.142      0.000      -0.872      -0.450\n",
       "contract_Two year                        -1.3571      0.176     -7.691      0.000      -1.703      -1.011\n",
       "paperlessbilling_Yes                      0.3424      0.074      4.596      0.000       0.196       0.488\n",
       "paymentmethod_Credit card (automatic)    -0.0878      0.114     -0.770      0.442      -0.311       0.136\n",
       "paymentmethod_Electronic check            0.3045      0.094      3.222      0.001       0.119       0.490\n",
       "paymentmethod_Mailed check               -0.0576      0.115     -0.501      0.616      -0.283       0.168\n",
       "=========================================================================================================\n",
       "\"\"\""
      ]
     },
     "execution_count": 168,
     "metadata": {},
     "output_type": "execute_result"
    }
   ],
   "source": [
    "# # Build a logistic regression model using statsmodels\n",
    "\n",
    "import statsmodels.api as sm\n",
    "# define y\n",
    "y=df['churn'].copy()\n",
    "\n",
    "# Define X\n",
    "\n",
    "X = df.drop(columns=['churn'], axis=1)\n",
    "\n",
    "\n",
    "# Create intercept term required for sm.Logit, see documentation for more information\n",
    "X = sm.add_constant(X)\n",
    "\n",
    "# Fit model\n",
    "logit_model = sm.Logit(y, X)\n",
    "\n",
    "# Get results of the fit\n",
    "result = logit_model.fit()\n",
    "result.summary()"
   ]
  },
  {
   "cell_type": "code",
   "execution_count": 169,
   "metadata": {
    "ExecuteTime": {
     "end_time": "2020-05-31T03:04:59.306031Z",
     "start_time": "2020-05-31T03:04:59.279165Z"
    }
   },
   "outputs": [
    {
     "data": {
      "text/plain": [
       "Index(['tenure', 'totalcharges', 'churn', 'seniorcitizen_Yes',\n",
       "       'phoneservice_Yes', 'multiplelines_No phone service',\n",
       "       'multiplelines_Yes', 'internetservice_Fiber optic',\n",
       "       'internetservice_No', 'contract_One year', 'contract_Two year',\n",
       "       'paperlessbilling_Yes', 'paymentmethod_Electronic check'],\n",
       "      dtype='object')"
      ]
     },
     "metadata": {},
     "output_type": "display_data"
    },
    {
     "data": {
      "text/html": [
       "<div>\n",
       "<style scoped>\n",
       "    .dataframe tbody tr th:only-of-type {\n",
       "        vertical-align: middle;\n",
       "    }\n",
       "\n",
       "    .dataframe tbody tr th {\n",
       "        vertical-align: top;\n",
       "    }\n",
       "\n",
       "    .dataframe thead th {\n",
       "        text-align: right;\n",
       "    }\n",
       "</style>\n",
       "<table border=\"1\" class=\"dataframe\">\n",
       "  <thead>\n",
       "    <tr style=\"text-align: right;\">\n",
       "      <th></th>\n",
       "      <th>tenure</th>\n",
       "      <th>totalcharges</th>\n",
       "      <th>seniorcitizen_Yes</th>\n",
       "      <th>phoneservice_Yes</th>\n",
       "      <th>multiplelines_No phone service</th>\n",
       "      <th>multiplelines_Yes</th>\n",
       "      <th>internetservice_Fiber optic</th>\n",
       "      <th>internetservice_No</th>\n",
       "      <th>contract_One year</th>\n",
       "      <th>contract_Two year</th>\n",
       "      <th>paperlessbilling_Yes</th>\n",
       "      <th>paymentmethod_Electronic check</th>\n",
       "    </tr>\n",
       "  </thead>\n",
       "  <tbody>\n",
       "    <tr>\n",
       "      <td>0</td>\n",
       "      <td>1</td>\n",
       "      <td>29.85</td>\n",
       "      <td>0</td>\n",
       "      <td>0</td>\n",
       "      <td>1</td>\n",
       "      <td>0</td>\n",
       "      <td>0</td>\n",
       "      <td>0</td>\n",
       "      <td>0</td>\n",
       "      <td>0</td>\n",
       "      <td>1</td>\n",
       "      <td>1</td>\n",
       "    </tr>\n",
       "    <tr>\n",
       "      <td>1</td>\n",
       "      <td>34</td>\n",
       "      <td>1889.50</td>\n",
       "      <td>0</td>\n",
       "      <td>1</td>\n",
       "      <td>0</td>\n",
       "      <td>0</td>\n",
       "      <td>0</td>\n",
       "      <td>0</td>\n",
       "      <td>1</td>\n",
       "      <td>0</td>\n",
       "      <td>0</td>\n",
       "      <td>0</td>\n",
       "    </tr>\n",
       "    <tr>\n",
       "      <td>2</td>\n",
       "      <td>2</td>\n",
       "      <td>108.15</td>\n",
       "      <td>0</td>\n",
       "      <td>1</td>\n",
       "      <td>0</td>\n",
       "      <td>0</td>\n",
       "      <td>0</td>\n",
       "      <td>0</td>\n",
       "      <td>0</td>\n",
       "      <td>0</td>\n",
       "      <td>1</td>\n",
       "      <td>0</td>\n",
       "    </tr>\n",
       "    <tr>\n",
       "      <td>3</td>\n",
       "      <td>45</td>\n",
       "      <td>1840.75</td>\n",
       "      <td>0</td>\n",
       "      <td>0</td>\n",
       "      <td>1</td>\n",
       "      <td>0</td>\n",
       "      <td>0</td>\n",
       "      <td>0</td>\n",
       "      <td>1</td>\n",
       "      <td>0</td>\n",
       "      <td>0</td>\n",
       "      <td>0</td>\n",
       "    </tr>\n",
       "    <tr>\n",
       "      <td>4</td>\n",
       "      <td>2</td>\n",
       "      <td>151.65</td>\n",
       "      <td>0</td>\n",
       "      <td>1</td>\n",
       "      <td>0</td>\n",
       "      <td>0</td>\n",
       "      <td>1</td>\n",
       "      <td>0</td>\n",
       "      <td>0</td>\n",
       "      <td>0</td>\n",
       "      <td>1</td>\n",
       "      <td>1</td>\n",
       "    </tr>\n",
       "    <tr>\n",
       "      <td>...</td>\n",
       "      <td>...</td>\n",
       "      <td>...</td>\n",
       "      <td>...</td>\n",
       "      <td>...</td>\n",
       "      <td>...</td>\n",
       "      <td>...</td>\n",
       "      <td>...</td>\n",
       "      <td>...</td>\n",
       "      <td>...</td>\n",
       "      <td>...</td>\n",
       "      <td>...</td>\n",
       "      <td>...</td>\n",
       "    </tr>\n",
       "    <tr>\n",
       "      <td>7038</td>\n",
       "      <td>24</td>\n",
       "      <td>1990.50</td>\n",
       "      <td>0</td>\n",
       "      <td>1</td>\n",
       "      <td>0</td>\n",
       "      <td>1</td>\n",
       "      <td>0</td>\n",
       "      <td>0</td>\n",
       "      <td>1</td>\n",
       "      <td>0</td>\n",
       "      <td>1</td>\n",
       "      <td>0</td>\n",
       "    </tr>\n",
       "    <tr>\n",
       "      <td>7039</td>\n",
       "      <td>72</td>\n",
       "      <td>7362.90</td>\n",
       "      <td>0</td>\n",
       "      <td>1</td>\n",
       "      <td>0</td>\n",
       "      <td>1</td>\n",
       "      <td>1</td>\n",
       "      <td>0</td>\n",
       "      <td>1</td>\n",
       "      <td>0</td>\n",
       "      <td>1</td>\n",
       "      <td>0</td>\n",
       "    </tr>\n",
       "    <tr>\n",
       "      <td>7040</td>\n",
       "      <td>11</td>\n",
       "      <td>346.45</td>\n",
       "      <td>0</td>\n",
       "      <td>0</td>\n",
       "      <td>1</td>\n",
       "      <td>0</td>\n",
       "      <td>0</td>\n",
       "      <td>0</td>\n",
       "      <td>0</td>\n",
       "      <td>0</td>\n",
       "      <td>1</td>\n",
       "      <td>1</td>\n",
       "    </tr>\n",
       "    <tr>\n",
       "      <td>7041</td>\n",
       "      <td>4</td>\n",
       "      <td>306.60</td>\n",
       "      <td>1</td>\n",
       "      <td>1</td>\n",
       "      <td>0</td>\n",
       "      <td>1</td>\n",
       "      <td>1</td>\n",
       "      <td>0</td>\n",
       "      <td>0</td>\n",
       "      <td>0</td>\n",
       "      <td>1</td>\n",
       "      <td>0</td>\n",
       "    </tr>\n",
       "    <tr>\n",
       "      <td>7042</td>\n",
       "      <td>66</td>\n",
       "      <td>6844.50</td>\n",
       "      <td>0</td>\n",
       "      <td>1</td>\n",
       "      <td>0</td>\n",
       "      <td>0</td>\n",
       "      <td>1</td>\n",
       "      <td>0</td>\n",
       "      <td>0</td>\n",
       "      <td>1</td>\n",
       "      <td>1</td>\n",
       "      <td>0</td>\n",
       "    </tr>\n",
       "  </tbody>\n",
       "</table>\n",
       "<p>7032 rows × 12 columns</p>\n",
       "</div>"
      ],
      "text/plain": [
       "      tenure  totalcharges  seniorcitizen_Yes  phoneservice_Yes  \\\n",
       "0          1         29.85                  0                 0   \n",
       "1         34       1889.50                  0                 1   \n",
       "2          2        108.15                  0                 1   \n",
       "3         45       1840.75                  0                 0   \n",
       "4          2        151.65                  0                 1   \n",
       "...      ...           ...                ...               ...   \n",
       "7038      24       1990.50                  0                 1   \n",
       "7039      72       7362.90                  0                 1   \n",
       "7040      11        346.45                  0                 0   \n",
       "7041       4        306.60                  1                 1   \n",
       "7042      66       6844.50                  0                 1   \n",
       "\n",
       "      multiplelines_No phone service  multiplelines_Yes  \\\n",
       "0                                  1                  0   \n",
       "1                                  0                  0   \n",
       "2                                  0                  0   \n",
       "3                                  1                  0   \n",
       "4                                  0                  0   \n",
       "...                              ...                ...   \n",
       "7038                               0                  1   \n",
       "7039                               0                  1   \n",
       "7040                               1                  0   \n",
       "7041                               0                  1   \n",
       "7042                               0                  0   \n",
       "\n",
       "      internetservice_Fiber optic  internetservice_No  contract_One year  \\\n",
       "0                               0                   0                  0   \n",
       "1                               0                   0                  1   \n",
       "2                               0                   0                  0   \n",
       "3                               0                   0                  1   \n",
       "4                               1                   0                  0   \n",
       "...                           ...                 ...                ...   \n",
       "7038                            0                   0                  1   \n",
       "7039                            1                   0                  1   \n",
       "7040                            0                   0                  0   \n",
       "7041                            1                   0                  0   \n",
       "7042                            1                   0                  0   \n",
       "\n",
       "      contract_Two year  paperlessbilling_Yes  paymentmethod_Electronic check  \n",
       "0                     0                     1                               1  \n",
       "1                     0                     0                               0  \n",
       "2                     0                     1                               0  \n",
       "3                     0                     0                               0  \n",
       "4                     0                     1                               1  \n",
       "...                 ...                   ...                             ...  \n",
       "7038                  0                     1                               0  \n",
       "7039                  0                     1                               0  \n",
       "7040                  0                     1                               1  \n",
       "7041                  0                     1                               0  \n",
       "7042                  1                     1                               0  \n",
       "\n",
       "[7032 rows x 12 columns]"
      ]
     },
     "execution_count": 169,
     "metadata": {},
     "output_type": "execute_result"
    },
    {
     "name": "stdout",
     "output_type": "stream",
     "text": [
      "<class 'pandas.core.frame.DataFrame'>\n",
      "Int64Index: 7032 entries, 0 to 7042\n",
      "Data columns (total 13 columns):\n",
      "tenure                            7032 non-null int64\n",
      "totalcharges                      7032 non-null float64\n",
      "churn                             7032 non-null int64\n",
      "seniorcitizen_Yes                 7032 non-null uint8\n",
      "phoneservice_Yes                  7032 non-null uint8\n",
      "multiplelines_No phone service    7032 non-null uint8\n",
      "multiplelines_Yes                 7032 non-null uint8\n",
      "internetservice_Fiber optic       7032 non-null uint8\n",
      "internetservice_No                7032 non-null uint8\n",
      "contract_One year                 7032 non-null uint8\n",
      "contract_Two year                 7032 non-null uint8\n",
      "paperlessbilling_Yes              7032 non-null uint8\n",
      "paymentmethod_Electronic check    7032 non-null uint8\n",
      "dtypes: float64(1), int64(2), uint8(10)\n",
      "memory usage: 288.4 KB\n"
     ]
    }
   ],
   "source": [
    "#dropping  manually columns with p-value >0.05 that were not significant based on their higher p-values.\n",
    "\n",
    "df.drop(['monthlycharges','gender_Male','partner_Yes','dependents_Yes','onlinesecurity_Yes','onlinebackup_Yes',\n",
    " 'deviceprotection_Yes','techsupport_Yes','streamingtv_Yes','streamingmovies_Yes','paymentmethod_Credit card (automatic)',\n",
    " 'paymentmethod_Mailed check'],axis=1, inplace=True)\n",
    "display(df.columns)\n",
    "X=df.drop(columns=['churn'], axis=1) ### redine X after dropping insignificant feature\n",
    "X\n",
    "df.info()"
   ]
  },
  {
   "cell_type": "markdown",
   "metadata": {},
   "source": [
    "#### Spliting data into Training and Testing"
   ]
  },
  {
   "cell_type": "code",
   "execution_count": 170,
   "metadata": {
    "ExecuteTime": {
     "end_time": "2020-05-31T03:04:59.325435Z",
     "start_time": "2020-05-31T03:04:59.307909Z"
    }
   },
   "outputs": [
    {
     "data": {
      "text/html": [
       "<div>\n",
       "<style scoped>\n",
       "    .dataframe tbody tr th:only-of-type {\n",
       "        vertical-align: middle;\n",
       "    }\n",
       "\n",
       "    .dataframe tbody tr th {\n",
       "        vertical-align: top;\n",
       "    }\n",
       "\n",
       "    .dataframe thead th {\n",
       "        text-align: right;\n",
       "    }\n",
       "</style>\n",
       "<table border=\"1\" class=\"dataframe\">\n",
       "  <thead>\n",
       "    <tr style=\"text-align: right;\">\n",
       "      <th></th>\n",
       "      <th>tenure</th>\n",
       "      <th>totalcharges</th>\n",
       "      <th>churn</th>\n",
       "      <th>seniorcitizen_Yes</th>\n",
       "      <th>phoneservice_Yes</th>\n",
       "      <th>multiplelines_No phone service</th>\n",
       "      <th>multiplelines_Yes</th>\n",
       "      <th>internetservice_Fiber optic</th>\n",
       "      <th>internetservice_No</th>\n",
       "      <th>contract_One year</th>\n",
       "      <th>contract_Two year</th>\n",
       "      <th>paperlessbilling_Yes</th>\n",
       "      <th>paymentmethod_Electronic check</th>\n",
       "    </tr>\n",
       "  </thead>\n",
       "  <tbody>\n",
       "    <tr>\n",
       "      <td>0</td>\n",
       "      <td>1</td>\n",
       "      <td>29.85</td>\n",
       "      <td>0</td>\n",
       "      <td>0</td>\n",
       "      <td>0</td>\n",
       "      <td>1</td>\n",
       "      <td>0</td>\n",
       "      <td>0</td>\n",
       "      <td>0</td>\n",
       "      <td>0</td>\n",
       "      <td>0</td>\n",
       "      <td>1</td>\n",
       "      <td>1</td>\n",
       "    </tr>\n",
       "    <tr>\n",
       "      <td>1</td>\n",
       "      <td>34</td>\n",
       "      <td>1889.50</td>\n",
       "      <td>0</td>\n",
       "      <td>0</td>\n",
       "      <td>1</td>\n",
       "      <td>0</td>\n",
       "      <td>0</td>\n",
       "      <td>0</td>\n",
       "      <td>0</td>\n",
       "      <td>1</td>\n",
       "      <td>0</td>\n",
       "      <td>0</td>\n",
       "      <td>0</td>\n",
       "    </tr>\n",
       "    <tr>\n",
       "      <td>2</td>\n",
       "      <td>2</td>\n",
       "      <td>108.15</td>\n",
       "      <td>1</td>\n",
       "      <td>0</td>\n",
       "      <td>1</td>\n",
       "      <td>0</td>\n",
       "      <td>0</td>\n",
       "      <td>0</td>\n",
       "      <td>0</td>\n",
       "      <td>0</td>\n",
       "      <td>0</td>\n",
       "      <td>1</td>\n",
       "      <td>0</td>\n",
       "    </tr>\n",
       "    <tr>\n",
       "      <td>3</td>\n",
       "      <td>45</td>\n",
       "      <td>1840.75</td>\n",
       "      <td>0</td>\n",
       "      <td>0</td>\n",
       "      <td>0</td>\n",
       "      <td>1</td>\n",
       "      <td>0</td>\n",
       "      <td>0</td>\n",
       "      <td>0</td>\n",
       "      <td>1</td>\n",
       "      <td>0</td>\n",
       "      <td>0</td>\n",
       "      <td>0</td>\n",
       "    </tr>\n",
       "    <tr>\n",
       "      <td>4</td>\n",
       "      <td>2</td>\n",
       "      <td>151.65</td>\n",
       "      <td>1</td>\n",
       "      <td>0</td>\n",
       "      <td>1</td>\n",
       "      <td>0</td>\n",
       "      <td>0</td>\n",
       "      <td>1</td>\n",
       "      <td>0</td>\n",
       "      <td>0</td>\n",
       "      <td>0</td>\n",
       "      <td>1</td>\n",
       "      <td>1</td>\n",
       "    </tr>\n",
       "  </tbody>\n",
       "</table>\n",
       "</div>"
      ],
      "text/plain": [
       "   tenure  totalcharges  churn  seniorcitizen_Yes  phoneservice_Yes  \\\n",
       "0       1         29.85      0                  0                 0   \n",
       "1      34       1889.50      0                  0                 1   \n",
       "2       2        108.15      1                  0                 1   \n",
       "3      45       1840.75      0                  0                 0   \n",
       "4       2        151.65      1                  0                 1   \n",
       "\n",
       "   multiplelines_No phone service  multiplelines_Yes  \\\n",
       "0                               1                  0   \n",
       "1                               0                  0   \n",
       "2                               0                  0   \n",
       "3                               1                  0   \n",
       "4                               0                  0   \n",
       "\n",
       "   internetservice_Fiber optic  internetservice_No  contract_One year  \\\n",
       "0                            0                   0                  0   \n",
       "1                            0                   0                  1   \n",
       "2                            0                   0                  0   \n",
       "3                            0                   0                  1   \n",
       "4                            1                   0                  0   \n",
       "\n",
       "   contract_Two year  paperlessbilling_Yes  paymentmethod_Electronic check  \n",
       "0                  0                     1                               1  \n",
       "1                  0                     0                               0  \n",
       "2                  0                     1                               0  \n",
       "3                  0                     0                               0  \n",
       "4                  0                     1                               1  "
      ]
     },
     "execution_count": 170,
     "metadata": {},
     "output_type": "execute_result"
    }
   ],
   "source": [
    "## Define X, y and split data into training and testing\n",
    "from sklearn.model_selection import train_test_split\n",
    "\n",
    "# Split data into X and y\n",
    "y=df['churn'].copy()\n",
    "\n",
    "# Define X\n",
    "\n",
    "X = df.drop(columns=['churn'], axis=1)\n",
    "\n",
    "\n",
    "\n",
    "#importing train_test_split\n",
    "from sklearn.model_selection import train_test_split\n",
    "# Split the data into a training and a test set and set stratify=y to help with imbalance data\n",
    "X_train,X_test,y_train,y_test = train_test_split(X,y,test_size=0.4,\n",
    "                                                 random_state=42)\n",
    "\n",
    "df.head()"
   ]
  },
  {
   "cell_type": "code",
   "execution_count": 171,
   "metadata": {
    "ExecuteTime": {
     "end_time": "2020-05-31T03:04:59.338253Z",
     "start_time": "2020-05-31T03:04:59.327285Z"
    }
   },
   "outputs": [],
   "source": [
    "#scale numeric features \n",
    "from sklearn.preprocessing import StandardScaler\n",
    "ss = StandardScaler()\n",
    "# Scale the train and test data\n",
    "X_train = ss.fit_transform(X_train)\n",
    "X_test = ss.transform(X_test)"
   ]
  },
  {
   "cell_type": "code",
   "execution_count": 172,
   "metadata": {
    "ExecuteTime": {
     "end_time": "2020-05-31T03:04:59.838437Z",
     "start_time": "2020-05-31T03:04:59.340092Z"
    },
    "scrolled": false
   },
   "outputs": [
    {
     "data": {
      "text/plain": [
       "LogisticRegression()"
      ]
     },
     "execution_count": 172,
     "metadata": {},
     "output_type": "execute_result"
    },
    {
     "name": "stdout",
     "output_type": "stream",
     "text": [
      "Model: LogisticRegression()\n",
      "------------------------------------------------------------\n"
     ]
    },
    {
     "data": {
      "image/png": "[encoded data removed]",
      "text/plain": [
       "<Figure size 432x288 with 2 Axes>"
      ]
     },
     "metadata": {
      "needs_background": "light"
     },
     "output_type": "display_data"
    },
    {
     "name": "stdout",
     "output_type": "stream",
     "text": [
      "test accuracy: 0.8030572342694632\n",
      "train accuracy: 0.8051671012088173\n",
      "------------------------------------------------------------\n",
      "------------------------------------------------------------\n",
      "Confusion Matrix:\n",
      " Predicted     0    1   All\n",
      "Actual                    \n",
      "0          1872  207  2079\n",
      "1           347  387   734\n",
      "All        2219  594  2813\n",
      "\n",
      "test report:\n",
      "              precision    recall  f1-score   support\n",
      "\n",
      "           0       0.84      0.90      0.87      2079\n",
      "           1       0.65      0.53      0.58       734\n",
      "\n",
      "    accuracy                           0.80      2813\n",
      "   macro avg       0.75      0.71      0.73      2813\n",
      "weighted avg       0.79      0.80      0.80      2813\n",
      "\n",
      "~~~~~~~~~~~~~~~~~~~~~~~~~~~~~~~~~~~~~~~~~~~~~~~~~~~~~~~~~~~~\n",
      "\n",
      "train report:\n",
      "              precision    recall  f1-score   support\n",
      "\n",
      "           0       0.85      0.89      0.87      3084\n",
      "           1       0.66      0.56      0.61      1135\n",
      "\n",
      "    accuracy                           0.81      4219\n",
      "   macro avg       0.75      0.73      0.74      4219\n",
      "weighted avg       0.80      0.81      0.80      4219\n",
      "\n",
      "------------------------------------------------------------\n",
      "tenure                           -1.475800\n",
      "totalcharges                      0.661234\n",
      "seniorcitizen_Yes                 0.085418\n",
      "phoneservice_Yes                 -0.106032\n",
      "multiplelines_No phone service    0.106032\n",
      "multiplelines_Yes                 0.136538\n",
      "internetservice_Fiber optic       0.498133\n",
      "internetservice_No               -0.218388\n",
      "contract_One year                -0.350764\n",
      "contract_Two year                -0.653489\n",
      "paperlessbilling_Yes              0.130083\n",
      "paymentmethod_Electronic check    0.161769\n",
      "dtype: float64\n"
     ]
    },
    {
     "data": {
      "text/plain": [
       "<Figure size 1080x432 with 0 Axes>"
      ]
     },
     "execution_count": 172,
     "metadata": {},
     "output_type": "execute_result"
    },
    {
     "data": {
      "text/plain": [
       "(array([0. , 0.2, 0.4, 0.6, 0.8, 1. ]), <a list of 6 Text xticklabel objects>)"
      ]
     },
     "execution_count": 172,
     "metadata": {},
     "output_type": "execute_result"
    },
    {
     "data": {
      "image/png": "[encoded data removed]",
      "text/plain": [
       "<Figure size 1080x432 with 1 Axes>"
      ]
     },
     "metadata": {
      "needs_background": "light"
     },
     "output_type": "display_data"
    }
   ],
   "source": [
    "## logistic regression with sickit learn before smote\n",
    "logreg = LogisticRegression()\n",
    "base_log = logreg.fit(X_train, y_train)\n",
    "base_log\n",
    "#predictions\n",
    "y_hat_train=base_log.predict(X_train)\n",
    "y_hat_test = base_log.predict(X_test)\n",
    "\n",
    "# model results\n",
    "\n",
    "metrics(base_log, y_train, y_test, y_hat_train, y_hat_test)\n",
    "# To get the  coffients of all the variables of logistic Regression\n",
    "base_log_cof = pd.Series(base_log.coef_[0], index=X.columns.values)\n",
    "print(base_log_cof)\n",
    "\n",
    "base_log_cof.sort_values(inplace=True)\n",
    "plt.figure(figsize=(15, 6))\n",
    "plt.xticks(rotation=90)\n",
    "features=plt.bar(base_log_cof.index,base_log_cof.values)"
   ]
  },
  {
   "cell_type": "code",
   "execution_count": 173,
   "metadata": {
    "ExecuteTime": {
     "end_time": "2020-05-31T03:04:59.842543Z",
     "start_time": "2020-05-31T03:04:59.839830Z"
    }
   },
   "outputs": [
    {
     "data": {
      "text/plain": [
       "0.47275204359673023"
      ]
     },
     "execution_count": 173,
     "metadata": {},
     "output_type": "execute_result"
    }
   ],
   "source": [
    "#FN percentage\n",
    "347/734"
   ]
  },
  {
   "cell_type": "markdown",
   "metadata": {},
   "source": [
    "###### Basemodel \n",
    "Basemodel with logistic regression has an accuracy of 80.5% for training data and 80.3% for testing, The model was able to call more non churn to churn customers . Recall is more important here. The basemodel recall is 53% with false negative pecentage of 347/734 =47%. We have to decrease the FN % and increase Recall for a better model prediction. The  target is imbalanced and can be fixed through smote. I will try Hypertuning the param and and also diffirent algorithm to increase the model's performance with regards testing accuracy and recall. "
   ]
  },
  {
   "cell_type": "markdown",
   "metadata": {},
   "source": [
    "##### Imbalance Target"
   ]
  },
  {
   "cell_type": "code",
   "execution_count": 174,
   "metadata": {
    "ExecuteTime": {
     "end_time": "2020-05-31T03:04:59.849865Z",
     "start_time": "2020-05-31T03:04:59.844666Z"
    }
   },
   "outputs": [
    {
     "name": "stdout",
     "output_type": "stream",
     "text": [
      "Churn (Target) Percentage Dustribution  \n",
      " 0    73.42\n",
      "1    26.58\n",
      "Name: churn, dtype: float64\n"
     ]
    }
   ],
   "source": [
    "print(f\"Churn (Target) Percentage Dustribution \", \"\\n\",round(df['churn'].value_counts(normalize=True) * 100,2))"
   ]
  },
  {
   "cell_type": "markdown",
   "metadata": {},
   "source": [
    "\n",
    "The target variable, 'churn', is imbalanced - meaning the variable contains about 3times more “no-churn” instances than “yes-churn” instances. This can present a problem since the positive class we want to predict is the “churn” class (1.0). Because of this imbalanced data, we will make sure that both our training set and testing set maintain this ratio of yes:no churn. This is can be addressed by trying different strategies such as:\n",
    "* class_weight='balanced'\n",
    "* stratify='y'\n",
    "* smote \n",
    "\n",
    "I believe smote is the most powerful, because the other above tow methods is not available with every algorithm.\n",
    "\n",
    "The smote function was imported from the imblearn.over_sampling.\n",
    "\n"
   ]
  },
  {
   "cell_type": "markdown",
   "metadata": {},
   "source": [
    "##### Using SMOTE\n",
    "It has been found that balancing the data will do better classification models. We will try balancing our data using SMOTE."
   ]
  },
  {
   "cell_type": "code",
   "execution_count": 175,
   "metadata": {
    "ExecuteTime": {
     "end_time": "2020-05-31T03:04:59.887557Z",
     "start_time": "2020-05-31T03:04:59.851460Z"
    }
   },
   "outputs": [
    {
     "data": {
      "text/plain": [
       "'\\nsmote\\nrefre to install docs \\nhttps://imbalanced-learn.readthedocs.io/en/stable/install.html\\n'"
      ]
     },
     "execution_count": 175,
     "metadata": {},
     "output_type": "execute_result"
    },
    {
     "name": "stdout",
     "output_type": "stream",
     "text": [
      "1    5163\n",
      "0    5163\n",
      "dtype: int64\n"
     ]
    }
   ],
   "source": [
    "'''\n",
    "smote\n",
    "refre to install docs \n",
    "https://imbalanced-learn.readthedocs.io/en/stable/install.html\n",
    "'''\n",
    "from imblearn.over_sampling import SMOTE, ADASYN \n",
    "\n",
    "X_resampled, y_resampled = SMOTE().fit_sample(X, y) #adding more users/non-users\n",
    "print(pd.Series(y_resampled).value_counts())\n",
    "\n",
    "X_train, X_test, y_train, y_test = train_test_split(X_resampled, y_resampled, random_state=0)\n"
   ]
  },
  {
   "cell_type": "code",
   "execution_count": 176,
   "metadata": {
    "ExecuteTime": {
     "end_time": "2020-05-31T03:05:00.187180Z",
     "start_time": "2020-05-31T03:04:59.889094Z"
    }
   },
   "outputs": [
    {
     "data": {
      "text/plain": [
       "LogisticRegression()"
      ]
     },
     "execution_count": 176,
     "metadata": {},
     "output_type": "execute_result"
    },
    {
     "name": "stdout",
     "output_type": "stream",
     "text": [
      "Model: LogisticRegression()\n",
      "------------------------------------------------------------\n"
     ]
    },
    {
     "data": {
      "image/png": "[encoded data removed]",
      "text/plain": [
       "<Figure size 432x288 with 2 Axes>"
      ]
     },
     "metadata": {
      "needs_background": "light"
     },
     "output_type": "display_data"
    },
    {
     "name": "stdout",
     "output_type": "stream",
     "text": [
      "test accuracy: 0.7846630518977536\n",
      "train accuracy: 0.7636880165289256\n",
      "------------------------------------------------------------\n",
      "------------------------------------------------------------\n",
      "Confusion Matrix:\n",
      " Predicted     0     1   All\n",
      "Actual                     \n",
      "0           960   317  1277\n",
      "1           239  1066  1305\n",
      "All        1199  1383  2582\n",
      "\n",
      "test report:\n",
      "              precision    recall  f1-score   support\n",
      "\n",
      "           0       0.80      0.75      0.78      1277\n",
      "           1       0.77      0.82      0.79      1305\n",
      "\n",
      "    accuracy                           0.78      2582\n",
      "   macro avg       0.79      0.78      0.78      2582\n",
      "weighted avg       0.79      0.78      0.78      2582\n",
      "\n",
      "~~~~~~~~~~~~~~~~~~~~~~~~~~~~~~~~~~~~~~~~~~~~~~~~~~~~~~~~~~~~\n",
      "\n",
      "train report:\n",
      "              precision    recall  f1-score   support\n",
      "\n",
      "           0       0.78      0.74      0.76      3886\n",
      "           1       0.75      0.79      0.77      3858\n",
      "\n",
      "    accuracy                           0.76      7744\n",
      "   macro avg       0.76      0.76      0.76      7744\n",
      "weighted avg       0.76      0.76      0.76      7744\n",
      "\n",
      "------------------------------------------------------------\n"
     ]
    }
   ],
   "source": [
    "#  Logistic Regression after SMOTE\n",
    "logreg_smote1 = LogisticRegression()\n",
    "logreg_smote1.fit(X_train, y_train)\n",
    "\n",
    "#predictions\n",
    "y_hat_train = logreg_smote1.predict(X_train)\n",
    "y_hat_test = logreg_smote1.predict(X_test)\n",
    "\n",
    "# model results\n",
    "metrics(logreg_smote1, y_train, y_test, y_hat_train, y_hat_test)"
   ]
  },
  {
   "cell_type": "code",
   "execution_count": 177,
   "metadata": {
    "ExecuteTime": {
     "end_time": "2020-05-31T03:05:00.506100Z",
     "start_time": "2020-05-31T03:05:00.189115Z"
    }
   },
   "outputs": [
    {
     "data": {
      "text/plain": [
       "LogisticRegression()"
      ]
     },
     "execution_count": 177,
     "metadata": {},
     "output_type": "execute_result"
    },
    {
     "name": "stdout",
     "output_type": "stream",
     "text": [
      "Model: LogisticRegression()\n",
      "------------------------------------------------------------\n"
     ]
    },
    {
     "data": {
      "image/png": "[encoded data removed]",
      "text/plain": [
       "<Figure size 432x288 with 2 Axes>"
      ]
     },
     "metadata": {
      "needs_background": "light"
     },
     "output_type": "display_data"
    },
    {
     "name": "stdout",
     "output_type": "stream",
     "text": [
      "test accuracy: 0.7846630518977536\n",
      "train accuracy: 0.7636880165289256\n",
      "------------------------------------------------------------\n",
      "------------------------------------------------------------\n",
      "Confusion Matrix:\n",
      " Predicted     0     1   All\n",
      "Actual                     \n",
      "0           960   317  1277\n",
      "1           239  1066  1305\n",
      "All        1199  1383  2582\n",
      "\n",
      "test report:\n",
      "              precision    recall  f1-score   support\n",
      "\n",
      "           0       0.80      0.75      0.78      1277\n",
      "           1       0.77      0.82      0.79      1305\n",
      "\n",
      "    accuracy                           0.78      2582\n",
      "   macro avg       0.79      0.78      0.78      2582\n",
      "weighted avg       0.79      0.78      0.78      2582\n",
      "\n",
      "~~~~~~~~~~~~~~~~~~~~~~~~~~~~~~~~~~~~~~~~~~~~~~~~~~~~~~~~~~~~\n",
      "\n",
      "train report:\n",
      "              precision    recall  f1-score   support\n",
      "\n",
      "           0       0.78      0.74      0.76      3886\n",
      "           1       0.75      0.79      0.77      3858\n",
      "\n",
      "    accuracy                           0.76      7744\n",
      "   macro avg       0.76      0.76      0.76      7744\n",
      "weighted avg       0.76      0.76      0.76      7744\n",
      "\n",
      "------------------------------------------------------------\n"
     ]
    }
   ],
   "source": [
    "# after SMOTE\n",
    "logreg_smote2 = LogisticRegression()\n",
    "logreg_smote2.fit(X_train, y_train)\n",
    "\n",
    "#predictions\n",
    "y_hat_train = logreg_smote2.predict(X_train)\n",
    "y_hat_test = logreg_smote2.predict(X_test)\n",
    "\n",
    "# model results\n",
    "metrics(logreg_smote2, y_train, y_test, y_hat_train, y_hat_test)"
   ]
  },
  {
   "cell_type": "code",
   "execution_count": 178,
   "metadata": {
    "ExecuteTime": {
     "end_time": "2020-05-31T03:05:00.511546Z",
     "start_time": "2020-05-31T03:05:00.507524Z"
    }
   },
   "outputs": [
    {
     "data": {
      "text/plain": [
       "19.080459770114942"
      ]
     },
     "execution_count": 178,
     "metadata": {},
     "output_type": "execute_result"
    }
   ],
   "source": [
    "##Percentage of False Negative\n",
    "249/1305*100"
   ]
  },
  {
   "cell_type": "markdown",
   "metadata": {},
   "source": [
    "###### Smote improves the balance between  0 and one in Recall, Precision,and F1 in training and testing, and I also notice increase in recalling the one's which is custmoer churn from 53% before smote to 81% after smote and a decrease in number of False Negative percentage from 47% before smote to 19% after smote. However my model accuracy got down from  80.3% to 77.7%. These results are for my first basemodel of logistic regression with the default parameters. To get better model accuracy, and  better recall, I will start my journey of hypertuning with playing with different sets of logistic regression parameters."
   ]
  },
  {
   "cell_type": "code",
   "execution_count": 179,
   "metadata": {
    "ExecuteTime": {
     "end_time": "2020-05-31T03:05:01.025165Z",
     "start_time": "2020-05-31T03:05:00.513277Z"
    }
   },
   "outputs": [
    {
     "data": {
      "text/plain": [
       "LogisticRegression(C=1000000000000000.0, fit_intercept=False,\n",
       "                   solver='liblinear')"
      ]
     },
     "execution_count": 179,
     "metadata": {},
     "output_type": "execute_result"
    },
    {
     "name": "stdout",
     "output_type": "stream",
     "text": [
      "Model: LogisticRegression()\n",
      "------------------------------------------------------------\n"
     ]
    },
    {
     "data": {
      "image/png": "[encoded data removed]",
      "text/plain": [
       "<Figure size 432x288 with 2 Axes>"
      ]
     },
     "metadata": {
      "needs_background": "light"
     },
     "output_type": "display_data"
    },
    {
     "name": "stdout",
     "output_type": "stream",
     "text": [
      "test accuracy: 0.7858249419054996\n",
      "train accuracy: 0.7667871900826446\n",
      "------------------------------------------------------------\n",
      "------------------------------------------------------------\n",
      "Confusion Matrix:\n",
      " Predicted     0     1   All\n",
      "Actual                     \n",
      "0           955   322  1277\n",
      "1           231  1074  1305\n",
      "All        1186  1396  2582\n",
      "\n",
      "test report:\n",
      "              precision    recall  f1-score   support\n",
      "\n",
      "           0       0.81      0.75      0.78      1277\n",
      "           1       0.77      0.82      0.80      1305\n",
      "\n",
      "    accuracy                           0.79      2582\n",
      "   macro avg       0.79      0.79      0.79      2582\n",
      "weighted avg       0.79      0.79      0.79      2582\n",
      "\n",
      "~~~~~~~~~~~~~~~~~~~~~~~~~~~~~~~~~~~~~~~~~~~~~~~~~~~~~~~~~~~~\n",
      "\n",
      "train report:\n",
      "              precision    recall  f1-score   support\n",
      "\n",
      "           0       0.79      0.73      0.76      3886\n",
      "           1       0.75      0.80      0.77      3858\n",
      "\n",
      "    accuracy                           0.77      7744\n",
      "   macro avg       0.77      0.77      0.77      7744\n",
      "weighted avg       0.77      0.77      0.77      7744\n",
      "\n",
      "------------------------------------------------------------\n",
      "tenure                           -0.060852\n",
      "totalcharges                      0.000302\n",
      "seniorcitizen_Yes                 0.286542\n",
      "phoneservice_Yes                 -0.043940\n",
      "multiplelines_No phone service    0.692126\n",
      "multiplelines_Yes                 0.434132\n",
      "internetservice_Fiber optic       1.052690\n",
      "internetservice_No               -0.484489\n",
      "contract_One year                -0.755853\n",
      "contract_Two year                -1.375016\n",
      "paperlessbilling_Yes              0.402028\n",
      "paymentmethod_Electronic check    0.519431\n",
      "dtype: float64\n"
     ]
    },
    {
     "data": {
      "text/plain": [
       "<Figure size 1080x432 with 0 Axes>"
      ]
     },
     "execution_count": 179,
     "metadata": {},
     "output_type": "execute_result"
    },
    {
     "data": {
      "text/plain": [
       "(array([0. , 0.2, 0.4, 0.6, 0.8, 1. ]), <a list of 6 Text xticklabel objects>)"
      ]
     },
     "execution_count": 179,
     "metadata": {},
     "output_type": "execute_result"
    },
    {
     "data": {
      "image/png": "[encoded data removed]",
      "text/plain": [
       "<Figure size 1080x432 with 1 Axes>"
      ]
     },
     "metadata": {
      "needs_background": "light"
     },
     "output_type": "display_data"
    }
   ],
   "source": [
    "## after smote logistic regression with sickit learn\n",
    "logreg_1 = LogisticRegression(fit_intercept = False, C = 1e15, solver='liblinear')\n",
    "logreg_1.fit(X_train, y_train)\n",
    "\n",
    "#predictions\n",
    "y_hat_train=logreg_1.predict(X_train)\n",
    "y_hat_test = logreg_1.predict(X_test)\n",
    "# model results\n",
    "metrics(logreg_smote2, y_train, y_test, y_hat_train, y_hat_test)\n",
    "\n",
    "# To get the  coffients of all the variables of logistic Regression\n",
    "model_log_cof = pd.Series(logreg_1.coef_[0], index=X.columns.values)\n",
    "print(model_log_cof)\n",
    "\n",
    "\n",
    "\n",
    "#model_log_cof = pd.Series(model_log_cof.coef_[0], index=X.columns.values)\n",
    "model_log_cof.sort_values(inplace=True)\n",
    "plt.figure(figsize=(15, 6))\n",
    "plt.xticks(rotation=90)\n",
    "features=plt.bar(model_log_cof.index,model_log_cof.values)"
   ]
  },
  {
   "cell_type": "markdown",
   "metadata": {
    "ExecuteTime": {
     "end_time": "2020-05-28T15:17:38.581706Z",
     "start_time": "2020-05-28T15:17:33.423Z"
    }
   },
   "source": [
    "Recall for churn increased but model accuracy decreased, I need to try more models and hypertune"
   ]
  },
  {
   "cell_type": "markdown",
   "metadata": {},
   "source": [
    "##### Trying different  models and different parameters"
   ]
  },
  {
   "cell_type": "markdown",
   "metadata": {},
   "source": [
    "Since the Gridsearch is going to take too longtime to finish its search and bring up its decision with best model and best paramater, I'm going to spend this time in explaining these models and  parameters  with simple words to make it easier for anyone in the future will read my notebook.\n",
    "\n",
    "SVM Classifier is algorithm used to separate between features through increasing the separating space, which is called the decision boundary between my features. SVM is doing this job using different methods.These methods are called Kernels. Kernels have different forms such as linear, poly, RBF. The linear Kernel is like  a line separating between the features, so the model can separate or classify between feature one and feature 2 using this line. When we do model.predict(X_test), we are telling the model to predict the values of y(churn customer) using (X feature) that has its coffient which is feature weight.As much weight we have, as much the feature will be important. Since the Kernel is linear, the prediction equation(decision function of yes churn or no churn) will be in form of y= intercept+ weight1*X1(feature_name1)+ weight2*X2(feature_name2)+....Weightn*Xn.In other words y= X.W+ b. Those Xs are features that have been standardized  using standard scaler from sickit learn which means they are in same scale of number's range.  If decsion function>0,classification will be positive(yes churn) else will be negative (not churn).  "
   ]
  },
  {
   "cell_type": "code",
   "execution_count": 180,
   "metadata": {
    "ExecuteTime": {
     "end_time": "2020-05-31T03:05:01.032186Z",
     "start_time": "2020-05-31T03:05:01.027026Z"
    }
   },
   "outputs": [],
   "source": [
    "from sklearn import svm\n",
    "from sklearn.ensemble import RandomForestClassifier\n",
    "from sklearn.linear_model import LogisticRegression\n",
    "\n",
    "model_params = {\n",
    "    'svm': {\n",
    "        'model': svm.SVC(gamma='auto'),\n",
    "        'params' : {\n",
    "            'C': [1,10,20],\n",
    "            'kernel': ['rbf','linear']\n",
    "        }  \n",
    "    },\n",
    "    'random_forest': {\n",
    "        'model': RandomForestClassifier(),\n",
    "        'params' : {\n",
    "            'n_estimators': [1,5,10]\n",
    "        }\n",
    "    },\n",
    "    'logistic_regression' : {\n",
    "        'model': LogisticRegression(solver='liblinear',multi_class='auto'),\n",
    "        'params': {\n",
    "            'C': [1,5,10]\n",
    "        }\n",
    "    }\n",
    "}"
   ]
  },
  {
   "cell_type": "code",
   "execution_count": 181,
   "metadata": {
    "ExecuteTime": {
     "end_time": "2020-05-31T03:34:41.717007Z",
     "start_time": "2020-05-31T03:05:01.034121Z"
    }
   },
   "outputs": [
    {
     "data": {
      "text/plain": [
       "GridSearchCV(cv=5, estimator=SVC(gamma='auto'), n_jobs=-1,\n",
       "             param_grid={'C': [1, 10, 20], 'kernel': ['rbf', 'linear']})"
      ]
     },
     "execution_count": 181,
     "metadata": {},
     "output_type": "execute_result"
    },
    {
     "data": {
      "text/plain": [
       "GridSearchCV(cv=5, estimator=RandomForestClassifier(), n_jobs=-1,\n",
       "             param_grid={'n_estimators': [1, 5, 10]})"
      ]
     },
     "execution_count": 181,
     "metadata": {},
     "output_type": "execute_result"
    },
    {
     "data": {
      "text/plain": [
       "GridSearchCV(cv=5, estimator=LogisticRegression(solver='liblinear'), n_jobs=-1,\n",
       "             param_grid={'C': [1, 5, 10]})"
      ]
     },
     "execution_count": 181,
     "metadata": {},
     "output_type": "execute_result"
    },
    {
     "data": {
      "text/html": [
       "<div>\n",
       "<style scoped>\n",
       "    .dataframe tbody tr th:only-of-type {\n",
       "        vertical-align: middle;\n",
       "    }\n",
       "\n",
       "    .dataframe tbody tr th {\n",
       "        vertical-align: top;\n",
       "    }\n",
       "\n",
       "    .dataframe thead th {\n",
       "        text-align: right;\n",
       "    }\n",
       "</style>\n",
       "<table border=\"1\" class=\"dataframe\">\n",
       "  <thead>\n",
       "    <tr style=\"text-align: right;\">\n",
       "      <th></th>\n",
       "      <th>model</th>\n",
       "      <th>best_score</th>\n",
       "      <th>best_params</th>\n",
       "    </tr>\n",
       "  </thead>\n",
       "  <tbody>\n",
       "    <tr>\n",
       "      <td>0</td>\n",
       "      <td>svm</td>\n",
       "      <td>0.798552</td>\n",
       "      <td>{'C': 20, 'kernel': 'rbf'}</td>\n",
       "    </tr>\n",
       "    <tr>\n",
       "      <td>1</td>\n",
       "      <td>random_forest</td>\n",
       "      <td>0.826833</td>\n",
       "      <td>{'n_estimators': 10}</td>\n",
       "    </tr>\n",
       "    <tr>\n",
       "      <td>2</td>\n",
       "      <td>logistic_regression</td>\n",
       "      <td>0.764591</td>\n",
       "      <td>{'C': 5}</td>\n",
       "    </tr>\n",
       "  </tbody>\n",
       "</table>\n",
       "</div>"
      ],
      "text/plain": [
       "                 model  best_score                 best_params\n",
       "0                  svm    0.798552  {'C': 20, 'kernel': 'rbf'}\n",
       "1        random_forest    0.826833        {'n_estimators': 10}\n",
       "2  logistic_regression    0.764591                    {'C': 5}"
      ]
     },
     "execution_count": 181,
     "metadata": {},
     "output_type": "execute_result"
    }
   ],
   "source": [
    "from sklearn.model_selection import GridSearchCV\n",
    "scores = []\n",
    "\n",
    "for model_name, mp in model_params.items():\n",
    "    clf =  GridSearchCV(mp['model'], mp['params'], cv=5, return_train_score=False, n_jobs=-1)\n",
    "    clf.fit(X_train, y_train)\n",
    "    scores.append({\n",
    "        'model': model_name,\n",
    "        'best_score': clf.best_score_,\n",
    "        'best_params': clf.best_params_\n",
    "    })\n",
    "    \n",
    "df = pd.DataFrame(scores,columns=['model','best_score','best_params'])\n",
    "df"
   ]
  },
  {
   "cell_type": "markdown",
   "metadata": {},
   "source": [
    "Gridsearch shows that Random forest is the best model with cv accuracy of 83%. Now I will check the performance of random forest with n=10 and see how is the overfitting, recall is going on, and i will also try to check more parameters if it can improve my model."
   ]
  },
  {
   "cell_type": "code",
   "execution_count": 182,
   "metadata": {
    "ExecuteTime": {
     "end_time": "2020-05-31T03:34:41.999609Z",
     "start_time": "2020-05-31T03:34:41.719368Z"
    }
   },
   "outputs": [
    {
     "data": {
      "text/plain": [
       "RandomForestClassifier(n_estimators=10)"
      ]
     },
     "execution_count": 182,
     "metadata": {},
     "output_type": "execute_result"
    },
    {
     "name": "stdout",
     "output_type": "stream",
     "text": [
      "Model: RandomForestClassifier(n_estimators=10)\n",
      "------------------------------------------------------------\n"
     ]
    },
    {
     "data": {
      "image/png": "[encoded data removed]",
      "text/plain": [
       "<Figure size 432x288 with 2 Axes>"
      ]
     },
     "metadata": {
      "needs_background": "light"
     },
     "output_type": "display_data"
    },
    {
     "name": "stdout",
     "output_type": "stream",
     "text": [
      "test accuracy: 0.8435321456235476\n",
      "train accuracy: 0.9816632231404959\n",
      "------------------------------------------------------------\n",
      "------------------------------------------------------------\n",
      "Confusion Matrix:\n",
      " Predicted     0     1   All\n",
      "Actual                     \n",
      "0          1129   148  1277\n",
      "1           256  1049  1305\n",
      "All        1385  1197  2582\n",
      "\n",
      "test report:\n",
      "              precision    recall  f1-score   support\n",
      "\n",
      "           0       0.82      0.88      0.85      1277\n",
      "           1       0.88      0.80      0.84      1305\n",
      "\n",
      "    accuracy                           0.84      2582\n",
      "   macro avg       0.85      0.84      0.84      2582\n",
      "weighted avg       0.85      0.84      0.84      2582\n",
      "\n",
      "~~~~~~~~~~~~~~~~~~~~~~~~~~~~~~~~~~~~~~~~~~~~~~~~~~~~~~~~~~~~\n",
      "\n",
      "train report:\n",
      "              precision    recall  f1-score   support\n",
      "\n",
      "           0       0.97      0.99      0.98      3886\n",
      "           1       0.99      0.97      0.98      3858\n",
      "\n",
      "    accuracy                           0.98      7744\n",
      "   macro avg       0.98      0.98      0.98      7744\n",
      "weighted avg       0.98      0.98      0.98      7744\n",
      "\n",
      "------------------------------------------------------------\n"
     ]
    }
   ],
   "source": [
    "# Instantiate and fit a RandomForestClassifier with n_estimators=100\n",
    "forest = RandomForestClassifier(n_estimators=10)\n",
    "\n",
    "forest.fit(X_train, y_train)\n",
    "\n",
    "#predictions\n",
    "y_hat_train=forest.predict(X_train)\n",
    "y_hat_test = forest.predict(X_test)\n",
    "\n",
    "# model results\n",
    "\n",
    "metrics(forest, y_train, y_test, y_hat_train, y_hat_test)\n",
    "# To get the feature importance\n",
    "feature_important=forest.feature_importances_\n",
    "\n",
    "#feature_important.sort_values(inplace=True)\n",
    "#plt.figure(figsize=(15, 6))\n",
    "#plt.xticks(rotation=90)\n",
    "\n",
    "#features=plt.bar(feature_important.index,feature_important.values)\n",
    "\n",
    "#forest.feature_importances_\n",
    "#plot_feature_importances(forest)\n",
    "# no overfitting when number of estimator"
   ]
  },
  {
   "cell_type": "markdown",
   "metadata": {},
   "source": [
    "With applying n-estimator=10 by itself I ran into overfitting problem so, I will do another gridsearch with more parameters"
   ]
  },
  {
   "cell_type": "code",
   "execution_count": 183,
   "metadata": {
    "ExecuteTime": {
     "end_time": "2020-05-31T03:34:44.994786Z",
     "start_time": "2020-05-31T03:34:42.002156Z"
    }
   },
   "outputs": [
    {
     "data": {
      "text/plain": [
       "GridSearchCV(cv=3, estimator=RandomForestClassifier(n_estimators=10), n_jobs=-1,\n",
       "             param_grid={'criterion': ['gini', 'entropy'],\n",
       "                         'max_depth': [2, 3, 4, 5, 20],\n",
       "                         'min_samples_leaf': [15, 20, 30],\n",
       "                         'min_samples_split': [5, 20, 50],\n",
       "                         'n_estimators': [1, 5, 10]})"
      ]
     },
     "execution_count": 183,
     "metadata": {},
     "output_type": "execute_result"
    },
    {
     "data": {
      "text/plain": [
       "{'criterion': 'entropy',\n",
       " 'max_depth': 20,\n",
       " 'min_samples_leaf': 15,\n",
       " 'min_samples_split': 50,\n",
       " 'n_estimators': 10}"
      ]
     },
     "execution_count": 183,
     "metadata": {},
     "output_type": "execute_result"
    }
   ],
   "source": [
    "rf_param = RandomForestClassifier()\n",
    "param_grid = {\n",
    "     'criterion':['gini','entropy'],\n",
    "    'max_depth':[2,3,4,5,20],\n",
    "    'min_samples_split':[5,20,50],\n",
    "    'min_samples_leaf':[15,20,30],\n",
    "    'n_estimators': [1,5,10]\n",
    "}\n",
    "gs = GridSearchCV(forest, param_grid, cv=3, n_jobs=-1)\n",
    "gs.fit(X_train, y_train)\n",
    "gs.best_params_"
   ]
  },
  {
   "cell_type": "code",
   "execution_count": 184,
   "metadata": {
    "ExecuteTime": {
     "end_time": "2020-05-31T03:34:45.260752Z",
     "start_time": "2020-05-31T03:34:44.997016Z"
    }
   },
   "outputs": [
    {
     "data": {
      "text/plain": [
       "RandomForestClassifier(criterion='entropy', max_depth=20, min_samples_leaf=15,\n",
       "                       min_samples_split=50, n_estimators=10)"
      ]
     },
     "execution_count": 184,
     "metadata": {},
     "output_type": "execute_result"
    },
    {
     "name": "stdout",
     "output_type": "stream",
     "text": [
      "Model: RandomForestClassifier(criterion='entropy', max_depth=20, min_samples_leaf=15,\n",
      "                       min_samples_split=50, n_estimators=10)\n",
      "------------------------------------------------------------\n"
     ]
    },
    {
     "data": {
      "image/png": "[encoded data removed]",
      "text/plain": [
       "<Figure size 432x288 with 2 Axes>"
      ]
     },
     "metadata": {
      "needs_background": "light"
     },
     "output_type": "display_data"
    },
    {
     "name": "stdout",
     "output_type": "stream",
     "text": [
      "test accuracy: 0.8555383423702556\n",
      "train accuracy: 0.8512396694214877\n",
      "------------------------------------------------------------\n",
      "------------------------------------------------------------\n",
      "Confusion Matrix:\n",
      " Predicted     0     1   All\n",
      "Actual                     \n",
      "0          1074   203  1277\n",
      "1           170  1135  1305\n",
      "All        1244  1338  2582\n",
      "\n",
      "test report:\n",
      "              precision    recall  f1-score   support\n",
      "\n",
      "           0       0.86      0.84      0.85      1277\n",
      "           1       0.85      0.87      0.86      1305\n",
      "\n",
      "    accuracy                           0.86      2582\n",
      "   macro avg       0.86      0.86      0.86      2582\n",
      "weighted avg       0.86      0.86      0.86      2582\n",
      "\n",
      "~~~~~~~~~~~~~~~~~~~~~~~~~~~~~~~~~~~~~~~~~~~~~~~~~~~~~~~~~~~~\n",
      "\n",
      "train report:\n",
      "              precision    recall  f1-score   support\n",
      "\n",
      "           0       0.86      0.84      0.85      3886\n",
      "           1       0.84      0.87      0.85      3858\n",
      "\n",
      "    accuracy                           0.85      7744\n",
      "   macro avg       0.85      0.85      0.85      7744\n",
      "weighted avg       0.85      0.85      0.85      7744\n",
      "\n",
      "------------------------------------------------------------\n"
     ]
    }
   ],
   "source": [
    "# Instantiate and fit a RandomForestClassifier with n_estimators=100\n",
    "forest = RandomForestClassifier(n_estimators=10,\n",
    "                                criterion= 'entropy',\n",
    "                                max_depth= 20,\n",
    "                                min_samples_leaf= 15,\n",
    "                                min_samples_split= 50)\n",
    "\n",
    "forest.fit(X_train, y_train)\n",
    "\n",
    "#predictions\n",
    "y_hat_train=forest.predict(X_train)\n",
    "y_hat_test = forest.predict(X_test)\n",
    "\n",
    "# model results\n",
    "\n",
    "metrics(forest, y_train, y_test, y_hat_train, y_hat_test)\n",
    "# To get the feature importance\n",
    "feature_important=forest.feature_importances_"
   ]
  },
  {
   "cell_type": "code",
   "execution_count": 185,
   "metadata": {
    "ExecuteTime": {
     "end_time": "2020-05-31T03:34:45.266259Z",
     "start_time": "2020-05-31T03:34:45.263002Z"
    }
   },
   "outputs": [
    {
     "data": {
      "text/plain": [
       "14.17624521072797"
      ]
     },
     "execution_count": 185,
     "metadata": {},
     "output_type": "execute_result"
    }
   ],
   "source": [
    "# percentage of False negative\n",
    "185/1305*100"
   ]
  },
  {
   "cell_type": "markdown",
   "metadata": {},
   "source": [
    "###### Trying the suggested best parameters above, I got better model testing and training accuracy of 85%. The recall of churnned customer is 86%. I have  precision, recall, and F1 balance between not churn and yes churn with percentage of 85%. The False negative percentage in this model is 14%. I think this is a good model and I will trust it to make my prediction of churn customers\n"
   ]
  },
  {
   "cell_type": "code",
   "execution_count": 186,
   "metadata": {
    "ExecuteTime": {
     "end_time": "2020-05-31T03:34:45.277378Z",
     "start_time": "2020-05-31T03:34:45.267912Z"
    }
   },
   "outputs": [
    {
     "data": {
      "text/plain": [
       "0.8553827367183022"
      ]
     },
     "execution_count": 186,
     "metadata": {},
     "output_type": "execute_result"
    }
   ],
   "source": [
    "from sklearn.metrics import roc_auc_score\n",
    "y_pred=forest.predict(X_test)\n",
    "roc_auc_score(y_test,y_hat_test)"
   ]
  },
  {
   "cell_type": "code",
   "execution_count": 187,
   "metadata": {
    "ExecuteTime": {
     "end_time": "2020-05-31T03:34:45.620753Z",
     "start_time": "2020-05-31T03:34:45.294003Z"
    }
   },
   "outputs": [
    {
     "name": "stdout",
     "output_type": "stream",
     "text": [
      "Train AUC: 0.8512946876066388\n",
      "Test AUC: 0.8553827367183022\n"
     ]
    },
    {
     "data": {
      "text/plain": [
       "<Figure size 720x576 with 0 Axes>"
      ]
     },
     "execution_count": 187,
     "metadata": {},
     "output_type": "execute_result"
    },
    {
     "data": {
      "text/plain": [
       "[<matplotlib.lines.Line2D at 0x1c389a20f0>]"
      ]
     },
     "execution_count": 187,
     "metadata": {},
     "output_type": "execute_result"
    },
    {
     "data": {
      "text/plain": [
       "[<matplotlib.lines.Line2D at 0x1c38531898>]"
      ]
     },
     "execution_count": 187,
     "metadata": {},
     "output_type": "execute_result"
    },
    {
     "data": {
      "text/plain": [
       "[<matplotlib.lines.Line2D at 0x1c39397550>]"
      ]
     },
     "execution_count": 187,
     "metadata": {},
     "output_type": "execute_result"
    },
    {
     "data": {
      "text/plain": [
       "(0.0, 1.0)"
      ]
     },
     "execution_count": 187,
     "metadata": {},
     "output_type": "execute_result"
    },
    {
     "data": {
      "text/plain": [
       "(0.0, 1.05)"
      ]
     },
     "execution_count": 187,
     "metadata": {},
     "output_type": "execute_result"
    },
    {
     "data": {
      "text/plain": [
       "([<matplotlib.axis.YTick at 0x1c3821bdd8>,\n",
       "  <matplotlib.axis.YTick at 0x1c38507ef0>,\n",
       "  <matplotlib.axis.YTick at 0x1c38885860>,\n",
       "  <matplotlib.axis.YTick at 0x1c3cbc8cf8>,\n",
       "  <matplotlib.axis.YTick at 0x1c37d80ac8>,\n",
       "  <matplotlib.axis.YTick at 0x1c3c700438>,\n",
       "  <matplotlib.axis.YTick at 0x1c3c700470>,\n",
       "  <matplotlib.axis.YTick at 0x1c39389898>,\n",
       "  <matplotlib.axis.YTick at 0x1c392f2208>,\n",
       "  <matplotlib.axis.YTick at 0x1c392f2048>,\n",
       "  <matplotlib.axis.YTick at 0x1c392f9400>,\n",
       "  <matplotlib.axis.YTick at 0x1c370368d0>,\n",
       "  <matplotlib.axis.YTick at 0x1c392f28d0>,\n",
       "  <matplotlib.axis.YTick at 0x1c392f99b0>,\n",
       "  <matplotlib.axis.YTick at 0x1c37d80390>,\n",
       "  <matplotlib.axis.YTick at 0x1c37033978>,\n",
       "  <matplotlib.axis.YTick at 0x1c39c42a58>,\n",
       "  <matplotlib.axis.YTick at 0x1c39c30208>,\n",
       "  <matplotlib.axis.YTick at 0x1c39c306a0>,\n",
       "  <matplotlib.axis.YTick at 0x1c39c30b70>,\n",
       "  <matplotlib.axis.YTick at 0x1c39c304e0>],\n",
       " <a list of 21 Text yticklabel objects>)"
      ]
     },
     "execution_count": 187,
     "metadata": {},
     "output_type": "execute_result"
    },
    {
     "data": {
      "text/plain": [
       "([<matplotlib.axis.XTick at 0x1c38507278>,\n",
       "  <matplotlib.axis.XTick at 0x1c388859e8>,\n",
       "  <matplotlib.axis.XTick at 0x1c38885c88>,\n",
       "  <matplotlib.axis.XTick at 0x1c39c30cc0>,\n",
       "  <matplotlib.axis.XTick at 0x1c3c700eb8>,\n",
       "  <matplotlib.axis.XTick at 0x1c39c282b0>,\n",
       "  <matplotlib.axis.XTick at 0x1c39c28c18>,\n",
       "  <matplotlib.axis.XTick at 0x1c39c287f0>,\n",
       "  <matplotlib.axis.XTick at 0x1c39c165f8>,\n",
       "  <matplotlib.axis.XTick at 0x1c39c16ac8>,\n",
       "  <matplotlib.axis.XTick at 0x1c39c16f98>,\n",
       "  <matplotlib.axis.XTick at 0x1c3860e438>,\n",
       "  <matplotlib.axis.XTick at 0x1c39c16828>,\n",
       "  <matplotlib.axis.XTick at 0x1c37033cc0>,\n",
       "  <matplotlib.axis.XTick at 0x1c39c28978>,\n",
       "  <matplotlib.axis.XTick at 0x1c3860e198>,\n",
       "  <matplotlib.axis.XTick at 0x1c3860e908>,\n",
       "  <matplotlib.axis.XTick at 0x1c386065c0>,\n",
       "  <matplotlib.axis.XTick at 0x1c38606a90>,\n",
       "  <matplotlib.axis.XTick at 0x1c38606f60>,\n",
       "  <matplotlib.axis.XTick at 0x1c38618470>],\n",
       " <a list of 21 Text xticklabel objects>)"
      ]
     },
     "execution_count": 187,
     "metadata": {},
     "output_type": "execute_result"
    },
    {
     "data": {
      "text/plain": [
       "Text(0.5, 0, 'False Positive Rate')"
      ]
     },
     "execution_count": 187,
     "metadata": {},
     "output_type": "execute_result"
    },
    {
     "data": {
      "text/plain": [
       "Text(0, 0.5, 'True Positive Rate')"
      ]
     },
     "execution_count": 187,
     "metadata": {},
     "output_type": "execute_result"
    },
    {
     "data": {
      "text/plain": [
       "Text(0.5, 1.0, 'Receiver operating characteristic (ROC) Curve')"
      ]
     },
     "execution_count": 187,
     "metadata": {},
     "output_type": "execute_result"
    },
    {
     "data": {
      "text/plain": [
       "<matplotlib.legend.Legend at 0x1c39c302b0>"
      ]
     },
     "execution_count": 187,
     "metadata": {},
     "output_type": "execute_result"
    },
    {
     "data": {
      "image/png": "[encoded data removed]",
      "text/plain": [
       "<Figure size 720x576 with 1 Axes>"
      ]
     },
     "metadata": {},
     "output_type": "display_data"
    }
   ],
   "source": [
    "from sklearn.metrics import roc_curve, auc\n",
    "\n",
    "y_score_test = forest.predict(X_test)\n",
    "test_fpr, test_tpr, test_thresholds = roc_curve(y_test, y_score_test)\n",
    "\n",
    "y_score_train = forest.predict(X_train)\n",
    "train_fpr, train_tpr, train_thresholds = roc_curve(y_train, y_score_train)\n",
    "\n",
    "# Train AUC\n",
    "print('Train AUC: {}'.format(auc(train_fpr, train_tpr)))\n",
    "print('Test AUC: {}'.format(auc(test_fpr, test_tpr)))\n",
    "\n",
    "# Seaborn's beautiful styling\n",
    "sns.set_style('darkgrid', {'axes.facecolor': '0.9'})\n",
    "\n",
    "plt.figure(figsize=(10,8))\n",
    "lw = 2\n",
    "\n",
    "plt.plot(train_fpr, train_tpr, color='blue',\n",
    "         lw=lw, label='Train ROC curve')\n",
    "plt.plot(test_fpr, test_tpr, color='darkorange',\n",
    "         lw=lw, label='Test ROC curve')\n",
    "\n",
    "plt.plot([0, 1], [0, 1], color='navy', lw=lw, linestyle='--')\n",
    "plt.xlim([0.0, 1.0])\n",
    "plt.ylim([0.0, 1.05])\n",
    "plt.yticks([i/20.0 for i in range(21)])\n",
    "plt.xticks([i/20.0 for i in range(21)])\n",
    "plt.xlabel('False Positive Rate')\n",
    "plt.ylabel('True Positive Rate')\n",
    "plt.title('Receiver operating characteristic (ROC) Curve')\n",
    "plt.legend(loc='lower right')\n",
    "plt.show()"
   ]
  },
  {
   "cell_type": "markdown",
   "metadata": {},
   "source": [
    "80% accuracy score of baseline model is not bad, but going forward we want to improve our model accuracy, evaluate it, and predict the most important features.I will try some parameters such as fit_intercept=False, C=1e12, solver='liblinear' to see if this will improve my model's accuracy"
   ]
  },
  {
   "cell_type": "code",
   "execution_count": 199,
   "metadata": {
    "ExecuteTime": {
     "end_time": "2020-05-31T07:26:16.412562Z",
     "start_time": "2020-05-31T07:26:14.591082Z"
    }
   },
   "outputs": [
    {
     "ename": "ValueError",
     "evalue": "Invalid parameter criterion for estimator Pipeline(steps=[('forest', RandomForestClassifier(random_state=42))]). Check the list of available parameters with `estimator.get_params().keys()`.",
     "output_type": "error",
     "traceback": [
      "\u001b[0;31m---------------------------------------------------------------------------\u001b[0m",
      "\u001b[0;31m_RemoteTraceback\u001b[0m                          Traceback (most recent call last)",
      "\u001b[0;31m_RemoteTraceback\u001b[0m: \n\"\"\"\nTraceback (most recent call last):\n  File \"/Users/khuloodnasher/opt/anaconda3/envs/learn-env/lib/python3.6/site-packages/joblib/externals/loky/process_executor.py\", line 418, in _process_worker\n    r = call_item()\n  File \"/Users/khuloodnasher/opt/anaconda3/envs/learn-env/lib/python3.6/site-packages/joblib/externals/loky/process_executor.py\", line 272, in __call__\n    return self.fn(*self.args, **self.kwargs)\n  File \"/Users/khuloodnasher/opt/anaconda3/envs/learn-env/lib/python3.6/site-packages/joblib/_parallel_backends.py\", line 567, in __call__\n    return self.func(*args, **kwargs)\n  File \"/Users/khuloodnasher/opt/anaconda3/envs/learn-env/lib/python3.6/site-packages/joblib/parallel.py\", line 225, in __call__\n    for func, args, kwargs in self.items]\n  File \"/Users/khuloodnasher/opt/anaconda3/envs/learn-env/lib/python3.6/site-packages/joblib/parallel.py\", line 225, in <listcomp>\n    for func, args, kwargs in self.items]\n  File \"/Users/khuloodnasher/opt/anaconda3/envs/learn-env/lib/python3.6/site-packages/sklearn/model_selection/_validation.py\", line 520, in _fit_and_score\n    estimator = estimator.set_params(**cloned_parameters)\n  File \"/Users/khuloodnasher/opt/anaconda3/envs/learn-env/lib/python3.6/site-packages/sklearn/pipeline.py\", line 141, in set_params\n    self._set_params('steps', **kwargs)\n  File \"/Users/khuloodnasher/opt/anaconda3/envs/learn-env/lib/python3.6/site-packages/sklearn/utils/metaestimators.py\", line 53, in _set_params\n    super().set_params(**params)\n  File \"/Users/khuloodnasher/opt/anaconda3/envs/learn-env/lib/python3.6/site-packages/sklearn/base.py\", line 252, in set_params\n    (key, self))\nValueError: Invalid parameter criterion for estimator Pipeline(steps=[('forest', RandomForestClassifier(random_state=42))]). Check the list of available parameters with `estimator.get_params().keys()`.\n\"\"\"",
      "\nThe above exception was the direct cause of the following exception:\n",
      "\u001b[0;31mValueError\u001b[0m                                Traceback (most recent call last)",
      "\u001b[0;32m<ipython-input-199-fc8ca47c2e8f>\u001b[0m in \u001b[0;36m<module>\u001b[0;34m\u001b[0m\n\u001b[1;32m      6\u001b[0m \u001b[0mpipeline\u001b[0m \u001b[0;34m=\u001b[0m \u001b[0mPipeline\u001b[0m\u001b[0;34m(\u001b[0m\u001b[0;34m[\u001b[0m\u001b[0;34m(\u001b[0m\u001b[0;34m'forest'\u001b[0m\u001b[0;34m,\u001b[0m \u001b[0mRandomForestClassifier\u001b[0m\u001b[0;34m(\u001b[0m\u001b[0mrandom_state\u001b[0m\u001b[0;34m=\u001b[0m\u001b[0;36m42\u001b[0m\u001b[0;34m)\u001b[0m\u001b[0;34m)\u001b[0m\u001b[0;34m]\u001b[0m\u001b[0;34m)\u001b[0m\u001b[0;34m\u001b[0m\u001b[0;34m\u001b[0m\u001b[0m\n\u001b[1;32m      7\u001b[0m \u001b[0mgrid\u001b[0m \u001b[0;34m=\u001b[0m \u001b[0mGridSearchCV\u001b[0m\u001b[0;34m(\u001b[0m\u001b[0mpipeline\u001b[0m\u001b[0;34m,\u001b[0m \u001b[0mcv\u001b[0m\u001b[0;34m=\u001b[0m\u001b[0;36m5\u001b[0m\u001b[0;34m,\u001b[0m \u001b[0mn_jobs\u001b[0m\u001b[0;34m=\u001b[0m\u001b[0;34m-\u001b[0m\u001b[0;36m1\u001b[0m\u001b[0;34m,\u001b[0m \u001b[0mparam_grid\u001b[0m\u001b[0;34m=\u001b[0m\u001b[0mparams\u001b[0m \u001b[0;34m,\u001b[0m\u001b[0mscoring\u001b[0m\u001b[0;34m=\u001b[0m\u001b[0;34m'roc_auc'\u001b[0m\u001b[0;34m)\u001b[0m\u001b[0;34m\u001b[0m\u001b[0;34m\u001b[0m\u001b[0m\n\u001b[0;32m----> 8\u001b[0;31m \u001b[0mgrid\u001b[0m\u001b[0;34m.\u001b[0m\u001b[0mfit\u001b[0m\u001b[0;34m(\u001b[0m\u001b[0mX_train\u001b[0m\u001b[0;34m,\u001b[0m \u001b[0my_train\u001b[0m\u001b[0;34m)\u001b[0m\u001b[0;34m\u001b[0m\u001b[0;34m\u001b[0m\u001b[0m\n\u001b[0m\u001b[1;32m      9\u001b[0m \u001b[0mgrid\u001b[0m\u001b[0;34m.\u001b[0m\u001b[0mscore\u001b[0m\u001b[0;34m(\u001b[0m\u001b[0mX_test\u001b[0m\u001b[0;34m,\u001b[0m \u001b[0my_test\u001b[0m\u001b[0;34m)\u001b[0m\u001b[0;34m\u001b[0m\u001b[0;34m\u001b[0m\u001b[0m\n",
      "\u001b[0;32m~/opt/anaconda3/envs/learn-env/lib/python3.6/site-packages/sklearn/utils/validation.py\u001b[0m in \u001b[0;36minner_f\u001b[0;34m(*args, **kwargs)\u001b[0m\n\u001b[1;32m     71\u001b[0m                           FutureWarning)\n\u001b[1;32m     72\u001b[0m         \u001b[0mkwargs\u001b[0m\u001b[0;34m.\u001b[0m\u001b[0mupdate\u001b[0m\u001b[0;34m(\u001b[0m\u001b[0;34m{\u001b[0m\u001b[0mk\u001b[0m\u001b[0;34m:\u001b[0m \u001b[0marg\u001b[0m \u001b[0;32mfor\u001b[0m \u001b[0mk\u001b[0m\u001b[0;34m,\u001b[0m \u001b[0marg\u001b[0m \u001b[0;32min\u001b[0m \u001b[0mzip\u001b[0m\u001b[0;34m(\u001b[0m\u001b[0msig\u001b[0m\u001b[0;34m.\u001b[0m\u001b[0mparameters\u001b[0m\u001b[0;34m,\u001b[0m \u001b[0margs\u001b[0m\u001b[0;34m)\u001b[0m\u001b[0;34m}\u001b[0m\u001b[0;34m)\u001b[0m\u001b[0;34m\u001b[0m\u001b[0;34m\u001b[0m\u001b[0m\n\u001b[0;32m---> 73\u001b[0;31m         \u001b[0;32mreturn\u001b[0m \u001b[0mf\u001b[0m\u001b[0;34m(\u001b[0m\u001b[0;34m**\u001b[0m\u001b[0mkwargs\u001b[0m\u001b[0;34m)\u001b[0m\u001b[0;34m\u001b[0m\u001b[0;34m\u001b[0m\u001b[0m\n\u001b[0m\u001b[1;32m     74\u001b[0m     \u001b[0;32mreturn\u001b[0m \u001b[0minner_f\u001b[0m\u001b[0;34m\u001b[0m\u001b[0;34m\u001b[0m\u001b[0m\n\u001b[1;32m     75\u001b[0m \u001b[0;34m\u001b[0m\u001b[0m\n",
      "\u001b[0;32m~/opt/anaconda3/envs/learn-env/lib/python3.6/site-packages/sklearn/model_selection/_search.py\u001b[0m in \u001b[0;36mfit\u001b[0;34m(self, X, y, groups, **fit_params)\u001b[0m\n\u001b[1;32m    734\u001b[0m                 \u001b[0;32mreturn\u001b[0m \u001b[0mresults\u001b[0m\u001b[0;34m\u001b[0m\u001b[0;34m\u001b[0m\u001b[0m\n\u001b[1;32m    735\u001b[0m \u001b[0;34m\u001b[0m\u001b[0m\n\u001b[0;32m--> 736\u001b[0;31m             \u001b[0mself\u001b[0m\u001b[0;34m.\u001b[0m\u001b[0m_run_search\u001b[0m\u001b[0;34m(\u001b[0m\u001b[0mevaluate_candidates\u001b[0m\u001b[0;34m)\u001b[0m\u001b[0;34m\u001b[0m\u001b[0;34m\u001b[0m\u001b[0m\n\u001b[0m\u001b[1;32m    737\u001b[0m \u001b[0;34m\u001b[0m\u001b[0m\n\u001b[1;32m    738\u001b[0m         \u001b[0;31m# For multi-metric evaluation, store the best_index_, best_params_ and\u001b[0m\u001b[0;34m\u001b[0m\u001b[0;34m\u001b[0m\u001b[0;34m\u001b[0m\u001b[0m\n",
      "\u001b[0;32m~/opt/anaconda3/envs/learn-env/lib/python3.6/site-packages/sklearn/model_selection/_search.py\u001b[0m in \u001b[0;36m_run_search\u001b[0;34m(self, evaluate_candidates)\u001b[0m\n\u001b[1;32m   1186\u001b[0m     \u001b[0;32mdef\u001b[0m \u001b[0m_run_search\u001b[0m\u001b[0;34m(\u001b[0m\u001b[0mself\u001b[0m\u001b[0;34m,\u001b[0m \u001b[0mevaluate_candidates\u001b[0m\u001b[0;34m)\u001b[0m\u001b[0;34m:\u001b[0m\u001b[0;34m\u001b[0m\u001b[0;34m\u001b[0m\u001b[0m\n\u001b[1;32m   1187\u001b[0m         \u001b[0;34m\"\"\"Search all candidates in param_grid\"\"\"\u001b[0m\u001b[0;34m\u001b[0m\u001b[0;34m\u001b[0m\u001b[0m\n\u001b[0;32m-> 1188\u001b[0;31m         \u001b[0mevaluate_candidates\u001b[0m\u001b[0;34m(\u001b[0m\u001b[0mParameterGrid\u001b[0m\u001b[0;34m(\u001b[0m\u001b[0mself\u001b[0m\u001b[0;34m.\u001b[0m\u001b[0mparam_grid\u001b[0m\u001b[0;34m)\u001b[0m\u001b[0;34m)\u001b[0m\u001b[0;34m\u001b[0m\u001b[0;34m\u001b[0m\u001b[0m\n\u001b[0m\u001b[1;32m   1189\u001b[0m \u001b[0;34m\u001b[0m\u001b[0m\n\u001b[1;32m   1190\u001b[0m \u001b[0;34m\u001b[0m\u001b[0m\n",
      "\u001b[0;32m~/opt/anaconda3/envs/learn-env/lib/python3.6/site-packages/sklearn/model_selection/_search.py\u001b[0m in \u001b[0;36mevaluate_candidates\u001b[0;34m(candidate_params)\u001b[0m\n\u001b[1;32m    713\u001b[0m                                \u001b[0;32mfor\u001b[0m \u001b[0mparameters\u001b[0m\u001b[0;34m,\u001b[0m \u001b[0;34m(\u001b[0m\u001b[0mtrain\u001b[0m\u001b[0;34m,\u001b[0m \u001b[0mtest\u001b[0m\u001b[0;34m)\u001b[0m\u001b[0;34m\u001b[0m\u001b[0;34m\u001b[0m\u001b[0m\n\u001b[1;32m    714\u001b[0m                                in product(candidate_params,\n\u001b[0;32m--> 715\u001b[0;31m                                           cv.split(X, y, groups)))\n\u001b[0m\u001b[1;32m    716\u001b[0m \u001b[0;34m\u001b[0m\u001b[0m\n\u001b[1;32m    717\u001b[0m                 \u001b[0;32mif\u001b[0m \u001b[0mlen\u001b[0m\u001b[0;34m(\u001b[0m\u001b[0mout\u001b[0m\u001b[0;34m)\u001b[0m \u001b[0;34m<\u001b[0m \u001b[0;36m1\u001b[0m\u001b[0;34m:\u001b[0m\u001b[0;34m\u001b[0m\u001b[0;34m\u001b[0m\u001b[0m\n",
      "\u001b[0;32m~/opt/anaconda3/envs/learn-env/lib/python3.6/site-packages/joblib/parallel.py\u001b[0m in \u001b[0;36m__call__\u001b[0;34m(self, iterable)\u001b[0m\n\u001b[1;32m    932\u001b[0m \u001b[0;34m\u001b[0m\u001b[0m\n\u001b[1;32m    933\u001b[0m             \u001b[0;32mwith\u001b[0m \u001b[0mself\u001b[0m\u001b[0;34m.\u001b[0m\u001b[0m_backend\u001b[0m\u001b[0;34m.\u001b[0m\u001b[0mretrieval_context\u001b[0m\u001b[0;34m(\u001b[0m\u001b[0;34m)\u001b[0m\u001b[0;34m:\u001b[0m\u001b[0;34m\u001b[0m\u001b[0;34m\u001b[0m\u001b[0m\n\u001b[0;32m--> 934\u001b[0;31m                 \u001b[0mself\u001b[0m\u001b[0;34m.\u001b[0m\u001b[0mretrieve\u001b[0m\u001b[0;34m(\u001b[0m\u001b[0;34m)\u001b[0m\u001b[0;34m\u001b[0m\u001b[0;34m\u001b[0m\u001b[0m\n\u001b[0m\u001b[1;32m    935\u001b[0m             \u001b[0;31m# Make sure that we get a last message telling us we are done\u001b[0m\u001b[0;34m\u001b[0m\u001b[0;34m\u001b[0m\u001b[0;34m\u001b[0m\u001b[0m\n\u001b[1;32m    936\u001b[0m             \u001b[0melapsed_time\u001b[0m \u001b[0;34m=\u001b[0m \u001b[0mtime\u001b[0m\u001b[0;34m.\u001b[0m\u001b[0mtime\u001b[0m\u001b[0;34m(\u001b[0m\u001b[0;34m)\u001b[0m \u001b[0;34m-\u001b[0m \u001b[0mself\u001b[0m\u001b[0;34m.\u001b[0m\u001b[0m_start_time\u001b[0m\u001b[0;34m\u001b[0m\u001b[0;34m\u001b[0m\u001b[0m\n",
      "\u001b[0;32m~/opt/anaconda3/envs/learn-env/lib/python3.6/site-packages/joblib/parallel.py\u001b[0m in \u001b[0;36mretrieve\u001b[0;34m(self)\u001b[0m\n\u001b[1;32m    831\u001b[0m             \u001b[0;32mtry\u001b[0m\u001b[0;34m:\u001b[0m\u001b[0;34m\u001b[0m\u001b[0;34m\u001b[0m\u001b[0m\n\u001b[1;32m    832\u001b[0m                 \u001b[0;32mif\u001b[0m \u001b[0mgetattr\u001b[0m\u001b[0;34m(\u001b[0m\u001b[0mself\u001b[0m\u001b[0;34m.\u001b[0m\u001b[0m_backend\u001b[0m\u001b[0;34m,\u001b[0m \u001b[0;34m'supports_timeout'\u001b[0m\u001b[0;34m,\u001b[0m \u001b[0;32mFalse\u001b[0m\u001b[0;34m)\u001b[0m\u001b[0;34m:\u001b[0m\u001b[0;34m\u001b[0m\u001b[0;34m\u001b[0m\u001b[0m\n\u001b[0;32m--> 833\u001b[0;31m                     \u001b[0mself\u001b[0m\u001b[0;34m.\u001b[0m\u001b[0m_output\u001b[0m\u001b[0;34m.\u001b[0m\u001b[0mextend\u001b[0m\u001b[0;34m(\u001b[0m\u001b[0mjob\u001b[0m\u001b[0;34m.\u001b[0m\u001b[0mget\u001b[0m\u001b[0;34m(\u001b[0m\u001b[0mtimeout\u001b[0m\u001b[0;34m=\u001b[0m\u001b[0mself\u001b[0m\u001b[0;34m.\u001b[0m\u001b[0mtimeout\u001b[0m\u001b[0;34m)\u001b[0m\u001b[0;34m)\u001b[0m\u001b[0;34m\u001b[0m\u001b[0;34m\u001b[0m\u001b[0m\n\u001b[0m\u001b[1;32m    834\u001b[0m                 \u001b[0;32melse\u001b[0m\u001b[0;34m:\u001b[0m\u001b[0;34m\u001b[0m\u001b[0;34m\u001b[0m\u001b[0m\n\u001b[1;32m    835\u001b[0m                     \u001b[0mself\u001b[0m\u001b[0;34m.\u001b[0m\u001b[0m_output\u001b[0m\u001b[0;34m.\u001b[0m\u001b[0mextend\u001b[0m\u001b[0;34m(\u001b[0m\u001b[0mjob\u001b[0m\u001b[0;34m.\u001b[0m\u001b[0mget\u001b[0m\u001b[0;34m(\u001b[0m\u001b[0;34m)\u001b[0m\u001b[0;34m)\u001b[0m\u001b[0;34m\u001b[0m\u001b[0;34m\u001b[0m\u001b[0m\n",
      "\u001b[0;32m~/opt/anaconda3/envs/learn-env/lib/python3.6/site-packages/joblib/_parallel_backends.py\u001b[0m in \u001b[0;36mwrap_future_result\u001b[0;34m(future, timeout)\u001b[0m\n\u001b[1;32m    519\u001b[0m         AsyncResults.get from multiprocessing.\"\"\"\n\u001b[1;32m    520\u001b[0m         \u001b[0;32mtry\u001b[0m\u001b[0;34m:\u001b[0m\u001b[0;34m\u001b[0m\u001b[0;34m\u001b[0m\u001b[0m\n\u001b[0;32m--> 521\u001b[0;31m             \u001b[0;32mreturn\u001b[0m \u001b[0mfuture\u001b[0m\u001b[0;34m.\u001b[0m\u001b[0mresult\u001b[0m\u001b[0;34m(\u001b[0m\u001b[0mtimeout\u001b[0m\u001b[0;34m=\u001b[0m\u001b[0mtimeout\u001b[0m\u001b[0;34m)\u001b[0m\u001b[0;34m\u001b[0m\u001b[0;34m\u001b[0m\u001b[0m\n\u001b[0m\u001b[1;32m    522\u001b[0m         \u001b[0;32mexcept\u001b[0m \u001b[0mLokyTimeoutError\u001b[0m\u001b[0;34m:\u001b[0m\u001b[0;34m\u001b[0m\u001b[0;34m\u001b[0m\u001b[0m\n\u001b[1;32m    523\u001b[0m             \u001b[0;32mraise\u001b[0m \u001b[0mTimeoutError\u001b[0m\u001b[0;34m(\u001b[0m\u001b[0;34m)\u001b[0m\u001b[0;34m\u001b[0m\u001b[0;34m\u001b[0m\u001b[0m\n",
      "\u001b[0;32m~/opt/anaconda3/envs/learn-env/lib/python3.6/concurrent/futures/_base.py\u001b[0m in \u001b[0;36mresult\u001b[0;34m(self, timeout)\u001b[0m\n\u001b[1;32m    430\u001b[0m                 \u001b[0;32mraise\u001b[0m \u001b[0mCancelledError\u001b[0m\u001b[0;34m(\u001b[0m\u001b[0;34m)\u001b[0m\u001b[0;34m\u001b[0m\u001b[0;34m\u001b[0m\u001b[0m\n\u001b[1;32m    431\u001b[0m             \u001b[0;32melif\u001b[0m \u001b[0mself\u001b[0m\u001b[0;34m.\u001b[0m\u001b[0m_state\u001b[0m \u001b[0;34m==\u001b[0m \u001b[0mFINISHED\u001b[0m\u001b[0;34m:\u001b[0m\u001b[0;34m\u001b[0m\u001b[0;34m\u001b[0m\u001b[0m\n\u001b[0;32m--> 432\u001b[0;31m                 \u001b[0;32mreturn\u001b[0m \u001b[0mself\u001b[0m\u001b[0;34m.\u001b[0m\u001b[0m__get_result\u001b[0m\u001b[0;34m(\u001b[0m\u001b[0;34m)\u001b[0m\u001b[0;34m\u001b[0m\u001b[0;34m\u001b[0m\u001b[0m\n\u001b[0m\u001b[1;32m    433\u001b[0m             \u001b[0;32melse\u001b[0m\u001b[0;34m:\u001b[0m\u001b[0;34m\u001b[0m\u001b[0;34m\u001b[0m\u001b[0m\n\u001b[1;32m    434\u001b[0m                 \u001b[0;32mraise\u001b[0m \u001b[0mTimeoutError\u001b[0m\u001b[0;34m(\u001b[0m\u001b[0;34m)\u001b[0m\u001b[0;34m\u001b[0m\u001b[0;34m\u001b[0m\u001b[0m\n",
      "\u001b[0;32m~/opt/anaconda3/envs/learn-env/lib/python3.6/concurrent/futures/_base.py\u001b[0m in \u001b[0;36m__get_result\u001b[0;34m(self)\u001b[0m\n\u001b[1;32m    382\u001b[0m     \u001b[0;32mdef\u001b[0m \u001b[0m__get_result\u001b[0m\u001b[0;34m(\u001b[0m\u001b[0mself\u001b[0m\u001b[0;34m)\u001b[0m\u001b[0;34m:\u001b[0m\u001b[0;34m\u001b[0m\u001b[0;34m\u001b[0m\u001b[0m\n\u001b[1;32m    383\u001b[0m         \u001b[0;32mif\u001b[0m \u001b[0mself\u001b[0m\u001b[0;34m.\u001b[0m\u001b[0m_exception\u001b[0m\u001b[0;34m:\u001b[0m\u001b[0;34m\u001b[0m\u001b[0;34m\u001b[0m\u001b[0m\n\u001b[0;32m--> 384\u001b[0;31m             \u001b[0;32mraise\u001b[0m \u001b[0mself\u001b[0m\u001b[0;34m.\u001b[0m\u001b[0m_exception\u001b[0m\u001b[0;34m\u001b[0m\u001b[0;34m\u001b[0m\u001b[0m\n\u001b[0m\u001b[1;32m    385\u001b[0m         \u001b[0;32melse\u001b[0m\u001b[0;34m:\u001b[0m\u001b[0;34m\u001b[0m\u001b[0;34m\u001b[0m\u001b[0m\n\u001b[1;32m    386\u001b[0m             \u001b[0;32mreturn\u001b[0m \u001b[0mself\u001b[0m\u001b[0;34m.\u001b[0m\u001b[0m_result\u001b[0m\u001b[0;34m\u001b[0m\u001b[0;34m\u001b[0m\u001b[0m\n",
      "\u001b[0;31mValueError\u001b[0m: Invalid parameter criterion for estimator Pipeline(steps=[('forest', RandomForestClassifier(random_state=42))]). Check the list of available parameters with `estimator.get_params().keys()`."
     ]
    }
   ],
   "source": [
    "params={'criterion':['gini','entropy'],\n",
    "    'max_depth':[2,3,4,5,7,20],\n",
    "    'min_samples_split':[1,2,5,9,20,50],\n",
    "    'min_samples_leaf':[1,2,3,5,15,20],\n",
    "    'n_estimators':[10, 20, 50, 100, 150, 200]}\n",
    "pipeline = Pipeline([('forest', RandomForestClassifier(random_state=42))])\n",
    "grid = GridSearchCV(pipeline, cv=5, n_jobs=-1, param_grid=params ,scoring='roc_auc')\n",
    "grid.fit(X_train, y_train)\n",
    "grid.score(X_test, y_test)"
   ]
  },
  {
   "cell_type": "code",
   "execution_count": null,
   "metadata": {},
   "outputs": [],
   "source": [
    "grid = [{'classifier__criterion': ['gini', 'entropy'], \n",
    "         'classifier__n_estimators':[10, 20, 50, 100, 150, 200],\n",
    "         'classifier__max_depth': [3, 4, 5, 6, 7],\n",
    "         'classifier__min_samples_split': [1.0, 2, 3, 4, 5, 6, 7, 8, 9, 10], \n",
    "         'classifier__min_samples_leaf': [1,2, 3,4, 5,6,7, 8, 9, 10],\n",
    "         'classifier__class_weight':['balanced']}]"
   ]
  },
  {
   "cell_type": "code",
   "execution_count": 198,
   "metadata": {
    "ExecuteTime": {
     "end_time": "2020-05-31T06:35:54.505807Z",
     "start_time": "2020-05-31T06:35:54.463233Z"
    }
   },
   "outputs": [
    {
     "ename": "ValueError",
     "evalue": "Invalid parameter n_estimators for estimator Pipeline(steps=[('forest', RandomForestClassifier(random_state=42))]). Check the list of available parameters with `estimator.get_params().keys()`.",
     "output_type": "error",
     "traceback": [
      "\u001b[0;31m---------------------------------------------------------------------------\u001b[0m",
      "\u001b[0;31mValueError\u001b[0m                                Traceback (most recent call last)",
      "\u001b[0;32m<ipython-input-198-97bc68eb5c20>\u001b[0m in \u001b[0;36m<module>\u001b[0;34m\u001b[0m\n\u001b[1;32m     14\u001b[0m \u001b[0;34m\u001b[0m\u001b[0m\n\u001b[1;32m     15\u001b[0m \u001b[0;31m# Fit the RandomizedSearchCV\u001b[0m\u001b[0;34m\u001b[0m\u001b[0;34m\u001b[0m\u001b[0;34m\u001b[0m\u001b[0m\n\u001b[0;32m---> 16\u001b[0;31m \u001b[0mrand_grid\u001b[0m\u001b[0;34m.\u001b[0m\u001b[0mfit\u001b[0m\u001b[0;34m(\u001b[0m\u001b[0mX_train\u001b[0m\u001b[0;34m,\u001b[0m \u001b[0my_train\u001b[0m\u001b[0;34m)\u001b[0m\u001b[0;34m\u001b[0m\u001b[0;34m\u001b[0m\u001b[0m\n\u001b[0m\u001b[1;32m     17\u001b[0m \u001b[0;34m\u001b[0m\u001b[0m\n\u001b[1;32m     18\u001b[0m \u001b[0;31m# Instance and Score Model\u001b[0m\u001b[0;34m\u001b[0m\u001b[0;34m\u001b[0m\u001b[0;34m\u001b[0m\u001b[0m\n",
      "\u001b[0;32m~/opt/anaconda3/envs/learn-env/lib/python3.6/site-packages/sklearn/utils/validation.py\u001b[0m in \u001b[0;36minner_f\u001b[0;34m(*args, **kwargs)\u001b[0m\n\u001b[1;32m     71\u001b[0m                           FutureWarning)\n\u001b[1;32m     72\u001b[0m         \u001b[0mkwargs\u001b[0m\u001b[0;34m.\u001b[0m\u001b[0mupdate\u001b[0m\u001b[0;34m(\u001b[0m\u001b[0;34m{\u001b[0m\u001b[0mk\u001b[0m\u001b[0;34m:\u001b[0m \u001b[0marg\u001b[0m \u001b[0;32mfor\u001b[0m \u001b[0mk\u001b[0m\u001b[0;34m,\u001b[0m \u001b[0marg\u001b[0m \u001b[0;32min\u001b[0m \u001b[0mzip\u001b[0m\u001b[0;34m(\u001b[0m\u001b[0msig\u001b[0m\u001b[0;34m.\u001b[0m\u001b[0mparameters\u001b[0m\u001b[0;34m,\u001b[0m \u001b[0margs\u001b[0m\u001b[0;34m)\u001b[0m\u001b[0;34m}\u001b[0m\u001b[0;34m)\u001b[0m\u001b[0;34m\u001b[0m\u001b[0;34m\u001b[0m\u001b[0m\n\u001b[0;32m---> 73\u001b[0;31m         \u001b[0;32mreturn\u001b[0m \u001b[0mf\u001b[0m\u001b[0;34m(\u001b[0m\u001b[0;34m**\u001b[0m\u001b[0mkwargs\u001b[0m\u001b[0;34m)\u001b[0m\u001b[0;34m\u001b[0m\u001b[0;34m\u001b[0m\u001b[0m\n\u001b[0m\u001b[1;32m     74\u001b[0m     \u001b[0;32mreturn\u001b[0m \u001b[0minner_f\u001b[0m\u001b[0;34m\u001b[0m\u001b[0;34m\u001b[0m\u001b[0m\n\u001b[1;32m     75\u001b[0m \u001b[0;34m\u001b[0m\u001b[0m\n",
      "\u001b[0;32m~/opt/anaconda3/envs/learn-env/lib/python3.6/site-packages/sklearn/model_selection/_search.py\u001b[0m in \u001b[0;36mfit\u001b[0;34m(self, X, y, groups, **fit_params)\u001b[0m\n\u001b[1;32m    734\u001b[0m                 \u001b[0;32mreturn\u001b[0m \u001b[0mresults\u001b[0m\u001b[0;34m\u001b[0m\u001b[0;34m\u001b[0m\u001b[0m\n\u001b[1;32m    735\u001b[0m \u001b[0;34m\u001b[0m\u001b[0m\n\u001b[0;32m--> 736\u001b[0;31m             \u001b[0mself\u001b[0m\u001b[0;34m.\u001b[0m\u001b[0m_run_search\u001b[0m\u001b[0;34m(\u001b[0m\u001b[0mevaluate_candidates\u001b[0m\u001b[0;34m)\u001b[0m\u001b[0;34m\u001b[0m\u001b[0;34m\u001b[0m\u001b[0m\n\u001b[0m\u001b[1;32m    737\u001b[0m \u001b[0;34m\u001b[0m\u001b[0m\n\u001b[1;32m    738\u001b[0m         \u001b[0;31m# For multi-metric evaluation, store the best_index_, best_params_ and\u001b[0m\u001b[0;34m\u001b[0m\u001b[0;34m\u001b[0m\u001b[0;34m\u001b[0m\u001b[0m\n",
      "\u001b[0;32m~/opt/anaconda3/envs/learn-env/lib/python3.6/site-packages/sklearn/model_selection/_search.py\u001b[0m in \u001b[0;36m_run_search\u001b[0;34m(self, evaluate_candidates)\u001b[0m\n\u001b[1;32m   1529\u001b[0m         evaluate_candidates(ParameterSampler(\n\u001b[1;32m   1530\u001b[0m             \u001b[0mself\u001b[0m\u001b[0;34m.\u001b[0m\u001b[0mparam_distributions\u001b[0m\u001b[0;34m,\u001b[0m \u001b[0mself\u001b[0m\u001b[0;34m.\u001b[0m\u001b[0mn_iter\u001b[0m\u001b[0;34m,\u001b[0m\u001b[0;34m\u001b[0m\u001b[0;34m\u001b[0m\u001b[0m\n\u001b[0;32m-> 1531\u001b[0;31m             random_state=self.random_state))\n\u001b[0m",
      "\u001b[0;32m~/opt/anaconda3/envs/learn-env/lib/python3.6/site-packages/sklearn/model_selection/_search.py\u001b[0m in \u001b[0;36mevaluate_candidates\u001b[0;34m(candidate_params)\u001b[0m\n\u001b[1;32m    713\u001b[0m                                \u001b[0;32mfor\u001b[0m \u001b[0mparameters\u001b[0m\u001b[0;34m,\u001b[0m \u001b[0;34m(\u001b[0m\u001b[0mtrain\u001b[0m\u001b[0;34m,\u001b[0m \u001b[0mtest\u001b[0m\u001b[0;34m)\u001b[0m\u001b[0;34m\u001b[0m\u001b[0;34m\u001b[0m\u001b[0m\n\u001b[1;32m    714\u001b[0m                                in product(candidate_params,\n\u001b[0;32m--> 715\u001b[0;31m                                           cv.split(X, y, groups)))\n\u001b[0m\u001b[1;32m    716\u001b[0m \u001b[0;34m\u001b[0m\u001b[0m\n\u001b[1;32m    717\u001b[0m                 \u001b[0;32mif\u001b[0m \u001b[0mlen\u001b[0m\u001b[0;34m(\u001b[0m\u001b[0mout\u001b[0m\u001b[0;34m)\u001b[0m \u001b[0;34m<\u001b[0m \u001b[0;36m1\u001b[0m\u001b[0;34m:\u001b[0m\u001b[0;34m\u001b[0m\u001b[0;34m\u001b[0m\u001b[0m\n",
      "\u001b[0;32m~/opt/anaconda3/envs/learn-env/lib/python3.6/site-packages/joblib/parallel.py\u001b[0m in \u001b[0;36m__call__\u001b[0;34m(self, iterable)\u001b[0m\n\u001b[1;32m    919\u001b[0m             \u001b[0;31m# remaining jobs.\u001b[0m\u001b[0;34m\u001b[0m\u001b[0;34m\u001b[0m\u001b[0;34m\u001b[0m\u001b[0m\n\u001b[1;32m    920\u001b[0m             \u001b[0mself\u001b[0m\u001b[0;34m.\u001b[0m\u001b[0m_iterating\u001b[0m \u001b[0;34m=\u001b[0m \u001b[0;32mFalse\u001b[0m\u001b[0;34m\u001b[0m\u001b[0;34m\u001b[0m\u001b[0m\n\u001b[0;32m--> 921\u001b[0;31m             \u001b[0;32mif\u001b[0m \u001b[0mself\u001b[0m\u001b[0;34m.\u001b[0m\u001b[0mdispatch_one_batch\u001b[0m\u001b[0;34m(\u001b[0m\u001b[0miterator\u001b[0m\u001b[0;34m)\u001b[0m\u001b[0;34m:\u001b[0m\u001b[0;34m\u001b[0m\u001b[0;34m\u001b[0m\u001b[0m\n\u001b[0m\u001b[1;32m    922\u001b[0m                 \u001b[0mself\u001b[0m\u001b[0;34m.\u001b[0m\u001b[0m_iterating\u001b[0m \u001b[0;34m=\u001b[0m \u001b[0mself\u001b[0m\u001b[0;34m.\u001b[0m\u001b[0m_original_iterator\u001b[0m \u001b[0;32mis\u001b[0m \u001b[0;32mnot\u001b[0m \u001b[0;32mNone\u001b[0m\u001b[0;34m\u001b[0m\u001b[0;34m\u001b[0m\u001b[0m\n\u001b[1;32m    923\u001b[0m \u001b[0;34m\u001b[0m\u001b[0m\n",
      "\u001b[0;32m~/opt/anaconda3/envs/learn-env/lib/python3.6/site-packages/joblib/parallel.py\u001b[0m in \u001b[0;36mdispatch_one_batch\u001b[0;34m(self, iterator)\u001b[0m\n\u001b[1;32m    757\u001b[0m                 \u001b[0;32mreturn\u001b[0m \u001b[0;32mFalse\u001b[0m\u001b[0;34m\u001b[0m\u001b[0;34m\u001b[0m\u001b[0m\n\u001b[1;32m    758\u001b[0m             \u001b[0;32melse\u001b[0m\u001b[0;34m:\u001b[0m\u001b[0;34m\u001b[0m\u001b[0;34m\u001b[0m\u001b[0m\n\u001b[0;32m--> 759\u001b[0;31m                 \u001b[0mself\u001b[0m\u001b[0;34m.\u001b[0m\u001b[0m_dispatch\u001b[0m\u001b[0;34m(\u001b[0m\u001b[0mtasks\u001b[0m\u001b[0;34m)\u001b[0m\u001b[0;34m\u001b[0m\u001b[0;34m\u001b[0m\u001b[0m\n\u001b[0m\u001b[1;32m    760\u001b[0m                 \u001b[0;32mreturn\u001b[0m \u001b[0;32mTrue\u001b[0m\u001b[0;34m\u001b[0m\u001b[0;34m\u001b[0m\u001b[0m\n\u001b[1;32m    761\u001b[0m \u001b[0;34m\u001b[0m\u001b[0m\n",
      "\u001b[0;32m~/opt/anaconda3/envs/learn-env/lib/python3.6/site-packages/joblib/parallel.py\u001b[0m in \u001b[0;36m_dispatch\u001b[0;34m(self, batch)\u001b[0m\n\u001b[1;32m    714\u001b[0m         \u001b[0;32mwith\u001b[0m \u001b[0mself\u001b[0m\u001b[0;34m.\u001b[0m\u001b[0m_lock\u001b[0m\u001b[0;34m:\u001b[0m\u001b[0;34m\u001b[0m\u001b[0;34m\u001b[0m\u001b[0m\n\u001b[1;32m    715\u001b[0m             \u001b[0mjob_idx\u001b[0m \u001b[0;34m=\u001b[0m \u001b[0mlen\u001b[0m\u001b[0;34m(\u001b[0m\u001b[0mself\u001b[0m\u001b[0;34m.\u001b[0m\u001b[0m_jobs\u001b[0m\u001b[0;34m)\u001b[0m\u001b[0;34m\u001b[0m\u001b[0;34m\u001b[0m\u001b[0m\n\u001b[0;32m--> 716\u001b[0;31m             \u001b[0mjob\u001b[0m \u001b[0;34m=\u001b[0m \u001b[0mself\u001b[0m\u001b[0;34m.\u001b[0m\u001b[0m_backend\u001b[0m\u001b[0;34m.\u001b[0m\u001b[0mapply_async\u001b[0m\u001b[0;34m(\u001b[0m\u001b[0mbatch\u001b[0m\u001b[0;34m,\u001b[0m \u001b[0mcallback\u001b[0m\u001b[0;34m=\u001b[0m\u001b[0mcb\u001b[0m\u001b[0;34m)\u001b[0m\u001b[0;34m\u001b[0m\u001b[0;34m\u001b[0m\u001b[0m\n\u001b[0m\u001b[1;32m    717\u001b[0m             \u001b[0;31m# A job can complete so quickly than its callback is\u001b[0m\u001b[0;34m\u001b[0m\u001b[0;34m\u001b[0m\u001b[0;34m\u001b[0m\u001b[0m\n\u001b[1;32m    718\u001b[0m             \u001b[0;31m# called before we get here, causing self._jobs to\u001b[0m\u001b[0;34m\u001b[0m\u001b[0;34m\u001b[0m\u001b[0;34m\u001b[0m\u001b[0m\n",
      "\u001b[0;32m~/opt/anaconda3/envs/learn-env/lib/python3.6/site-packages/joblib/_parallel_backends.py\u001b[0m in \u001b[0;36mapply_async\u001b[0;34m(self, func, callback)\u001b[0m\n\u001b[1;32m    180\u001b[0m     \u001b[0;32mdef\u001b[0m \u001b[0mapply_async\u001b[0m\u001b[0;34m(\u001b[0m\u001b[0mself\u001b[0m\u001b[0;34m,\u001b[0m \u001b[0mfunc\u001b[0m\u001b[0;34m,\u001b[0m \u001b[0mcallback\u001b[0m\u001b[0;34m=\u001b[0m\u001b[0;32mNone\u001b[0m\u001b[0;34m)\u001b[0m\u001b[0;34m:\u001b[0m\u001b[0;34m\u001b[0m\u001b[0;34m\u001b[0m\u001b[0m\n\u001b[1;32m    181\u001b[0m         \u001b[0;34m\"\"\"Schedule a func to be run\"\"\"\u001b[0m\u001b[0;34m\u001b[0m\u001b[0;34m\u001b[0m\u001b[0m\n\u001b[0;32m--> 182\u001b[0;31m         \u001b[0mresult\u001b[0m \u001b[0;34m=\u001b[0m \u001b[0mImmediateResult\u001b[0m\u001b[0;34m(\u001b[0m\u001b[0mfunc\u001b[0m\u001b[0;34m)\u001b[0m\u001b[0;34m\u001b[0m\u001b[0;34m\u001b[0m\u001b[0m\n\u001b[0m\u001b[1;32m    183\u001b[0m         \u001b[0;32mif\u001b[0m \u001b[0mcallback\u001b[0m\u001b[0;34m:\u001b[0m\u001b[0;34m\u001b[0m\u001b[0;34m\u001b[0m\u001b[0m\n\u001b[1;32m    184\u001b[0m             \u001b[0mcallback\u001b[0m\u001b[0;34m(\u001b[0m\u001b[0mresult\u001b[0m\u001b[0;34m)\u001b[0m\u001b[0;34m\u001b[0m\u001b[0;34m\u001b[0m\u001b[0m\n",
      "\u001b[0;32m~/opt/anaconda3/envs/learn-env/lib/python3.6/site-packages/joblib/_parallel_backends.py\u001b[0m in \u001b[0;36m__init__\u001b[0;34m(self, batch)\u001b[0m\n\u001b[1;32m    547\u001b[0m         \u001b[0;31m# Don't delay the application, to avoid keeping the input\u001b[0m\u001b[0;34m\u001b[0m\u001b[0;34m\u001b[0m\u001b[0;34m\u001b[0m\u001b[0m\n\u001b[1;32m    548\u001b[0m         \u001b[0;31m# arguments in memory\u001b[0m\u001b[0;34m\u001b[0m\u001b[0;34m\u001b[0m\u001b[0;34m\u001b[0m\u001b[0m\n\u001b[0;32m--> 549\u001b[0;31m         \u001b[0mself\u001b[0m\u001b[0;34m.\u001b[0m\u001b[0mresults\u001b[0m \u001b[0;34m=\u001b[0m \u001b[0mbatch\u001b[0m\u001b[0;34m(\u001b[0m\u001b[0;34m)\u001b[0m\u001b[0;34m\u001b[0m\u001b[0;34m\u001b[0m\u001b[0m\n\u001b[0m\u001b[1;32m    550\u001b[0m \u001b[0;34m\u001b[0m\u001b[0m\n\u001b[1;32m    551\u001b[0m     \u001b[0;32mdef\u001b[0m \u001b[0mget\u001b[0m\u001b[0;34m(\u001b[0m\u001b[0mself\u001b[0m\u001b[0;34m)\u001b[0m\u001b[0;34m:\u001b[0m\u001b[0;34m\u001b[0m\u001b[0;34m\u001b[0m\u001b[0m\n",
      "\u001b[0;32m~/opt/anaconda3/envs/learn-env/lib/python3.6/site-packages/joblib/parallel.py\u001b[0m in \u001b[0;36m__call__\u001b[0;34m(self)\u001b[0m\n\u001b[1;32m    223\u001b[0m         \u001b[0;32mwith\u001b[0m \u001b[0mparallel_backend\u001b[0m\u001b[0;34m(\u001b[0m\u001b[0mself\u001b[0m\u001b[0;34m.\u001b[0m\u001b[0m_backend\u001b[0m\u001b[0;34m,\u001b[0m \u001b[0mn_jobs\u001b[0m\u001b[0;34m=\u001b[0m\u001b[0mself\u001b[0m\u001b[0;34m.\u001b[0m\u001b[0m_n_jobs\u001b[0m\u001b[0;34m)\u001b[0m\u001b[0;34m:\u001b[0m\u001b[0;34m\u001b[0m\u001b[0;34m\u001b[0m\u001b[0m\n\u001b[1;32m    224\u001b[0m             return [func(*args, **kwargs)\n\u001b[0;32m--> 225\u001b[0;31m                     for func, args, kwargs in self.items]\n\u001b[0m\u001b[1;32m    226\u001b[0m \u001b[0;34m\u001b[0m\u001b[0m\n\u001b[1;32m    227\u001b[0m     \u001b[0;32mdef\u001b[0m \u001b[0m__len__\u001b[0m\u001b[0;34m(\u001b[0m\u001b[0mself\u001b[0m\u001b[0;34m)\u001b[0m\u001b[0;34m:\u001b[0m\u001b[0;34m\u001b[0m\u001b[0;34m\u001b[0m\u001b[0m\n",
      "\u001b[0;32m~/opt/anaconda3/envs/learn-env/lib/python3.6/site-packages/joblib/parallel.py\u001b[0m in \u001b[0;36m<listcomp>\u001b[0;34m(.0)\u001b[0m\n\u001b[1;32m    223\u001b[0m         \u001b[0;32mwith\u001b[0m \u001b[0mparallel_backend\u001b[0m\u001b[0;34m(\u001b[0m\u001b[0mself\u001b[0m\u001b[0;34m.\u001b[0m\u001b[0m_backend\u001b[0m\u001b[0;34m,\u001b[0m \u001b[0mn_jobs\u001b[0m\u001b[0;34m=\u001b[0m\u001b[0mself\u001b[0m\u001b[0;34m.\u001b[0m\u001b[0m_n_jobs\u001b[0m\u001b[0;34m)\u001b[0m\u001b[0;34m:\u001b[0m\u001b[0;34m\u001b[0m\u001b[0;34m\u001b[0m\u001b[0m\n\u001b[1;32m    224\u001b[0m             return [func(*args, **kwargs)\n\u001b[0;32m--> 225\u001b[0;31m                     for func, args, kwargs in self.items]\n\u001b[0m\u001b[1;32m    226\u001b[0m \u001b[0;34m\u001b[0m\u001b[0m\n\u001b[1;32m    227\u001b[0m     \u001b[0;32mdef\u001b[0m \u001b[0m__len__\u001b[0m\u001b[0;34m(\u001b[0m\u001b[0mself\u001b[0m\u001b[0;34m)\u001b[0m\u001b[0;34m:\u001b[0m\u001b[0;34m\u001b[0m\u001b[0;34m\u001b[0m\u001b[0m\n",
      "\u001b[0;32m~/opt/anaconda3/envs/learn-env/lib/python3.6/site-packages/sklearn/model_selection/_validation.py\u001b[0m in \u001b[0;36m_fit_and_score\u001b[0;34m(estimator, X, y, scorer, train, test, verbose, parameters, fit_params, return_train_score, return_parameters, return_n_test_samples, return_times, return_estimator, error_score)\u001b[0m\n\u001b[1;32m    518\u001b[0m             \u001b[0mcloned_parameters\u001b[0m\u001b[0;34m[\u001b[0m\u001b[0mk\u001b[0m\u001b[0;34m]\u001b[0m \u001b[0;34m=\u001b[0m \u001b[0mclone\u001b[0m\u001b[0;34m(\u001b[0m\u001b[0mv\u001b[0m\u001b[0;34m,\u001b[0m \u001b[0msafe\u001b[0m\u001b[0;34m=\u001b[0m\u001b[0;32mFalse\u001b[0m\u001b[0;34m)\u001b[0m\u001b[0;34m\u001b[0m\u001b[0;34m\u001b[0m\u001b[0m\n\u001b[1;32m    519\u001b[0m \u001b[0;34m\u001b[0m\u001b[0m\n\u001b[0;32m--> 520\u001b[0;31m         \u001b[0mestimator\u001b[0m \u001b[0;34m=\u001b[0m \u001b[0mestimator\u001b[0m\u001b[0;34m.\u001b[0m\u001b[0mset_params\u001b[0m\u001b[0;34m(\u001b[0m\u001b[0;34m**\u001b[0m\u001b[0mcloned_parameters\u001b[0m\u001b[0;34m)\u001b[0m\u001b[0;34m\u001b[0m\u001b[0;34m\u001b[0m\u001b[0m\n\u001b[0m\u001b[1;32m    521\u001b[0m \u001b[0;34m\u001b[0m\u001b[0m\n\u001b[1;32m    522\u001b[0m     \u001b[0mstart_time\u001b[0m \u001b[0;34m=\u001b[0m \u001b[0mtime\u001b[0m\u001b[0;34m.\u001b[0m\u001b[0mtime\u001b[0m\u001b[0;34m(\u001b[0m\u001b[0;34m)\u001b[0m\u001b[0;34m\u001b[0m\u001b[0;34m\u001b[0m\u001b[0m\n",
      "\u001b[0;32m~/opt/anaconda3/envs/learn-env/lib/python3.6/site-packages/sklearn/pipeline.py\u001b[0m in \u001b[0;36mset_params\u001b[0;34m(self, **kwargs)\u001b[0m\n\u001b[1;32m    139\u001b[0m         \u001b[0mself\u001b[0m\u001b[0;34m\u001b[0m\u001b[0;34m\u001b[0m\u001b[0m\n\u001b[1;32m    140\u001b[0m         \"\"\"\n\u001b[0;32m--> 141\u001b[0;31m         \u001b[0mself\u001b[0m\u001b[0;34m.\u001b[0m\u001b[0m_set_params\u001b[0m\u001b[0;34m(\u001b[0m\u001b[0;34m'steps'\u001b[0m\u001b[0;34m,\u001b[0m \u001b[0;34m**\u001b[0m\u001b[0mkwargs\u001b[0m\u001b[0;34m)\u001b[0m\u001b[0;34m\u001b[0m\u001b[0;34m\u001b[0m\u001b[0m\n\u001b[0m\u001b[1;32m    142\u001b[0m         \u001b[0;32mreturn\u001b[0m \u001b[0mself\u001b[0m\u001b[0;34m\u001b[0m\u001b[0;34m\u001b[0m\u001b[0m\n\u001b[1;32m    143\u001b[0m \u001b[0;34m\u001b[0m\u001b[0m\n",
      "\u001b[0;32m~/opt/anaconda3/envs/learn-env/lib/python3.6/site-packages/sklearn/utils/metaestimators.py\u001b[0m in \u001b[0;36m_set_params\u001b[0;34m(self, attr, **params)\u001b[0m\n\u001b[1;32m     51\u001b[0m                 \u001b[0mself\u001b[0m\u001b[0;34m.\u001b[0m\u001b[0m_replace_estimator\u001b[0m\u001b[0;34m(\u001b[0m\u001b[0mattr\u001b[0m\u001b[0;34m,\u001b[0m \u001b[0mname\u001b[0m\u001b[0;34m,\u001b[0m \u001b[0mparams\u001b[0m\u001b[0;34m.\u001b[0m\u001b[0mpop\u001b[0m\u001b[0;34m(\u001b[0m\u001b[0mname\u001b[0m\u001b[0;34m)\u001b[0m\u001b[0;34m)\u001b[0m\u001b[0;34m\u001b[0m\u001b[0;34m\u001b[0m\u001b[0m\n\u001b[1;32m     52\u001b[0m         \u001b[0;31m# 3. Step parameters and other initialisation arguments\u001b[0m\u001b[0;34m\u001b[0m\u001b[0;34m\u001b[0m\u001b[0;34m\u001b[0m\u001b[0m\n\u001b[0;32m---> 53\u001b[0;31m         \u001b[0msuper\u001b[0m\u001b[0;34m(\u001b[0m\u001b[0;34m)\u001b[0m\u001b[0;34m.\u001b[0m\u001b[0mset_params\u001b[0m\u001b[0;34m(\u001b[0m\u001b[0;34m**\u001b[0m\u001b[0mparams\u001b[0m\u001b[0;34m)\u001b[0m\u001b[0;34m\u001b[0m\u001b[0;34m\u001b[0m\u001b[0m\n\u001b[0m\u001b[1;32m     54\u001b[0m         \u001b[0;32mreturn\u001b[0m \u001b[0mself\u001b[0m\u001b[0;34m\u001b[0m\u001b[0;34m\u001b[0m\u001b[0m\n\u001b[1;32m     55\u001b[0m \u001b[0;34m\u001b[0m\u001b[0m\n",
      "\u001b[0;32m~/opt/anaconda3/envs/learn-env/lib/python3.6/site-packages/sklearn/base.py\u001b[0m in \u001b[0;36mset_params\u001b[0;34m(self, **params)\u001b[0m\n\u001b[1;32m    250\u001b[0m                                  \u001b[0;34m'Check the list of available parameters '\u001b[0m\u001b[0;34m\u001b[0m\u001b[0;34m\u001b[0m\u001b[0m\n\u001b[1;32m    251\u001b[0m                                  \u001b[0;34m'with `estimator.get_params().keys()`.'\u001b[0m \u001b[0;34m%\u001b[0m\u001b[0;34m\u001b[0m\u001b[0;34m\u001b[0m\u001b[0m\n\u001b[0;32m--> 252\u001b[0;31m                                  (key, self))\n\u001b[0m\u001b[1;32m    253\u001b[0m \u001b[0;34m\u001b[0m\u001b[0m\n\u001b[1;32m    254\u001b[0m             \u001b[0;32mif\u001b[0m \u001b[0mdelim\u001b[0m\u001b[0;34m:\u001b[0m\u001b[0;34m\u001b[0m\u001b[0;34m\u001b[0m\u001b[0m\n",
      "\u001b[0;31mValueError\u001b[0m: Invalid parameter n_estimators for estimator Pipeline(steps=[('forest', RandomForestClassifier(random_state=42))]). Check the list of available parameters with `estimator.get_params().keys()`."
     ]
    }
   ],
   "source": [
    "## from sklearn.model_selection import GridSearchCV, RandomizedSearchCV\n",
    "# Instantiate Classes\n",
    "params ={\n",
    "     'criterion':['gini','entropy'],\n",
    "    'max_depth':[2,3,4,5,7,20],\n",
    "    'min_samples_split':[1,2,5,9,20,50],\n",
    "    'min_samples_leaf':[1,2,3,5,15,20],\n",
    "    'n_estimators':[10, 20, 50, 100, 150, 200]}\n",
    "    #'n_estimators': [1,5,10,20,50,100]}\n",
    "    \n",
    "\n",
    "pipe = Pipeline([('forest', RandomForestClassifier(random_state=42)) ])\n",
    "rand_grid = RandomizedSearchCV(pipe, param_distributions=params)\n",
    "\n",
    "# Fit the RandomizedSearchCV \n",
    "rand_grid.fit(X_train, y_train)\n",
    "\n",
    "# Instance and Score Model\n",
    "rand_grid.best_params_\n",
    "rand_grid.score(X_test, y_test)\n",
    "\n",
    "#predictions\n",
    "y_hat_train=rand_grid.predict(X_train)\n",
    "y_hat_test = rand_grid.predict(X_test)\n",
    "\n",
    "\n",
    "# Evaluate predictions\n",
    "print('-'*40)\n",
    "print('Accuracy score for Training Dataset = ', accuracy_score(y_train, y_hat_train))\n",
    "print('Accuracy score for Testing Dataset = ', accuracy_score(y_test, y_hat_test))\n"
   ]
  },
  {
   "cell_type": "code",
   "execution_count": 191,
   "metadata": {
    "ExecuteTime": {
     "end_time": "2020-05-31T05:52:04.878980Z",
     "start_time": "2020-05-31T05:52:04.682225Z"
    }
   },
   "outputs": [
    {
     "name": "stdout",
     "output_type": "stream",
     "text": [
      "0.9343680522149268\n",
      "0.9325886521630857\n"
     ]
    },
    {
     "data": {
      "text/plain": [
       "{'classifier__class_weight': 'balanced',\n",
       " 'classifier__criterion': 'entropy',\n",
       " 'classifier__max_depth': 7,\n",
       " 'classifier__min_samples_leaf': 1,\n",
       " 'classifier__min_samples_split': 2,\n",
       " 'classifier__n_estimators': 200}"
      ]
     },
     "execution_count": 191,
     "metadata": {},
     "output_type": "execute_result"
    }
   ],
   "source": [
    "print(clf.score(X_train, y_train))\n",
    "print(clf.score(X_test, y_test))\n",
    "clf.best_params_"
   ]
  },
  {
   "cell_type": "code",
   "execution_count": null,
   "metadata": {
    "ExecuteTime": {
     "end_time": "2020-05-31T03:34:45.690385Z",
     "start_time": "2020-05-31T03:04:52.684Z"
    }
   },
   "outputs": [],
   "source": [
    "import itertools\n",
    "\n",
    "# Create the basic matrix\n",
    "cnf_matrix=confusion_matrix(y_test, y_hat_test)\n",
    "plt.imshow(cnf_matrix,  cmap=plt.cm.Blues) \n",
    "\n",
    "# Add title and axis labels\n",
    "plt.title('Confusion Matrix')\n",
    "plt.ylabel('True label')\n",
    "plt.xlabel('Predicted label')\n",
    "\n",
    "# Add appropriate axis scales\n",
    "class_names = set(y) # Get class labels to add to matrix\n",
    "tick_marks = np.arange(len(class_names))\n",
    "plt.xticks(tick_marks, class_names)\n",
    "plt.yticks(tick_marks, class_names)\n",
    "\n",
    "# Add labels to each cell\n",
    "thresh = cnf_matrix.max() / 2. # Used for text coloring below\n",
    "# Here we iterate through the confusion matrix and append labels to our visualization \n",
    "for i, j in itertools.product(range(cnf_matrix.shape[0]), range(cnf_matrix.shape[1])):\n",
    "        plt.text(j, i, cnf_matrix[i, j],\n",
    "                 horizontalalignment='center',\n",
    "                 color='white' if cnf_matrix[i, j] > thresh else 'black')\n",
    "\n",
    "# Add a legend\n",
    "plt.colorbar()\n",
    "plt.show()"
   ]
  },
  {
   "cell_type": "code",
   "execution_count": null,
   "metadata": {
    "ExecuteTime": {
     "end_time": "2020-05-31T03:34:45.691988Z",
     "start_time": "2020-05-31T03:04:52.688Z"
    }
   },
   "outputs": [],
   "source": [
    "# create an instance and fit the model \n",
    "logmodel = LogisticRegression(fit_intercept=False, C=1e12, solver='liblinear')\n",
    "logmodel.fit(X_train, y_train)\n",
    "\n",
    "#predictions\n",
    "#predictions\n",
    "y_hat_train=logmodel.predict(X_train)\n",
    "y_hat_test = logmodel.predict(X_test)\n",
    "\n",
    "from sklearn.metrics import accuracy_score, confusion_matrix, classification_report\n",
    "\n",
    "print('-'*40)\n",
    "print('Accuracy score for Training Dataset = ', accuracy_score(y_train, y_hat_train))\n",
    "print('Accuracy score for Testing Dataset = ', accuracy_score(y_test, y_hat_test))\n",
    "print('-'*40)\n",
    "print('Confusion Matrix:')\n",
    "print(confusion_matrix(y_test, y_hat_test))\n",
    "\n",
    "print('-'*40)\n",
    "print('Classification Matrix:')\n",
    "print(classification_report(y_test, y_hat_test))\n"
   ]
  },
  {
   "cell_type": "markdown",
   "metadata": {},
   "source": [
    "There is a little improvement with trying some parameter, through the rest of mywork, I will try diffirent model and parameters, to find what is best model with best parameters"
   ]
  },
  {
   "cell_type": "code",
   "execution_count": null,
   "metadata": {
    "ExecuteTime": {
     "end_time": "2020-05-31T03:34:45.693626Z",
     "start_time": "2020-05-31T03:04:52.694Z"
    }
   },
   "outputs": [],
   "source": [
    "df.columns"
   ]
  },
  {
   "cell_type": "code",
   "execution_count": null,
   "metadata": {
    "ExecuteTime": {
     "end_time": "2020-05-31T03:34:45.695233Z",
     "start_time": "2020-05-31T03:04:52.698Z"
    }
   },
   "outputs": [],
   "source": [
    "from sklearn.tree import DecisionTreeClassifier\n",
    "from sklearn.ensemble import RandomForestClassifier\n",
    "from sklearn.naive_bayes import GaussianNB\n",
    "from sklearn.neighbors import KNeighborsClassifier\n",
    "from sklearn.svm import SVC\n",
    "from sklearn.neural_network import MLPClassifier\n",
    "from sklearn.ensemble import AdaBoostClassifier\n",
    "from sklearn.ensemble import GradientBoostingClassifier\n",
    "from sklearn.ensemble import ExtraTreesClassifier\n",
    "from sklearn.linear_model import LogisticRegression\n",
    "from sklearn.model_selection import train_test_split\n",
    "from sklearn.metrics import accuracy_score\n",
    "from sklearn.preprocessing import LabelEncoder\n",
    "from sklearn.discriminant_analysis import LinearDiscriminantAnalysis\n",
    "#from xgboost import XGBClassifier\n",
    "#from catboost import CatBoostClassifier"
   ]
  },
  {
   "cell_type": "code",
   "execution_count": null,
   "metadata": {
    "ExecuteTime": {
     "end_time": "2020-05-31T03:34:45.696720Z",
     "start_time": "2020-05-31T03:04:52.702Z"
    }
   },
   "outputs": [],
   "source": [
    "# Spot Check Algorithms\n",
    "from sklearn.model_selection import cross_val_score\n",
    "from sklearn.model_selection import StratifiedKFold\n",
    "\n",
    "models = []\n",
    "models.append(('LR', LogisticRegression(solver='liblinear', multi_class='ovr')))\n",
    "models.append(('LDA', LinearDiscriminantAnalysis()))\n",
    "models.append(('KNN', KNeighborsClassifier()))\n",
    "models.append(('CART', DecisionTreeClassifier()))\n",
    "models.append(('NB', GaussianNB()))\n",
    "models.append(('SVM', SVC(gamma='auto')))\n",
    "# evaluate each model in turn\n",
    "results = []\n",
    "names = []\n",
    "for name, model in models:\n",
    "    # Test options and evaluation metric\n",
    "    kfold = StratifiedKFold(n_splits=10, random_state=1)\n",
    "    cv_results = cross_val_score(model, X_train, y_train, cv=kfold, scoring='accuracy')\n",
    "    results.append(cv_results)\n",
    "    names.append(name)\n",
    "print('%s: %f (%f)' % (name, cv_results.mean(), cv_results.std()))"
   ]
  },
  {
   "cell_type": "markdown",
   "metadata": {},
   "source": [
    "#### Select Best Model"
   ]
  },
  {
   "cell_type": "code",
   "execution_count": null,
   "metadata": {
    "ExecuteTime": {
     "end_time": "2020-05-31T03:34:45.698170Z",
     "start_time": "2020-05-31T03:04:52.707Z"
    }
   },
   "outputs": [],
   "source": [
    "from matplotlib import pyplot\n",
    "pyplot.boxplot(results, labels=names)\n",
    "pyplot.title('Algorithm Comparison')\n",
    "pyplot.show()"
   ]
  },
  {
   "cell_type": "markdown",
   "metadata": {},
   "source": [
    "#### Make Predictions"
   ]
  },
  {
   "cell_type": "code",
   "execution_count": null,
   "metadata": {
    "ExecuteTime": {
     "end_time": "2020-05-31T03:34:45.699506Z",
     "start_time": "2020-05-31T03:04:52.712Z"
    }
   },
   "outputs": [],
   "source": [
    "# Make predictions \n",
    "model = SVC(gamma='auto')\n",
    "model.fit(X_train, y_train)\n",
    "y_hat_train = model.predict(X_train)\n",
    "\n",
    "y_hat_test = model.predict(X_test)\n"
   ]
  },
  {
   "cell_type": "markdown",
   "metadata": {},
   "source": [
    "####  Evaluate Predictions"
   ]
  },
  {
   "cell_type": "code",
   "execution_count": null,
   "metadata": {
    "ExecuteTime": {
     "end_time": "2020-05-31T03:34:45.700804Z",
     "start_time": "2020-05-31T03:04:52.717Z"
    }
   },
   "outputs": [],
   "source": [
    "# Evaluate predictions\n",
    "print('Accuracy score for Training Dataset = ', accuracy_score(y_train, y_hat_train))\n",
    "print('Accuracy score for Testing Dataset = ', accuracy_score(y_test, y_hat_test))\n",
    "#print(accuracy_score(y_test, y_hat_test))\n",
    "print(confusion_matrix(y_test, y_hat_test))\n",
    "print(classification_report(y_test, y_hat_test))"
   ]
  },
  {
   "cell_type": "markdown",
   "metadata": {},
   "source": [
    "We have overfitting problem in our model because accuracyscore of training=0.93\n",
    "accuracyscore of testing=.76, we need to solve this issue through balancing data and try diffirent  models and hypertuning "
   ]
  },
  {
   "cell_type": "markdown",
   "metadata": {},
   "source": [
    "#### Confusion_Matrix details"
   ]
  },
  {
   "cell_type": "code",
   "execution_count": null,
   "metadata": {
    "ExecuteTime": {
     "end_time": "2020-05-31T03:34:45.701950Z",
     "start_time": "2020-05-31T03:04:52.723Z"
    }
   },
   "outputs": [],
   "source": [
    "## confusionmatrix of training data\n",
    "confusion_matrix = pd.crosstab(y_train, y_hat_train, rownames=['Actual'], colnames=['Predicted'],margins = True)\n",
    "print (confusion_matrix)"
   ]
  },
  {
   "cell_type": "code",
   "execution_count": null,
   "metadata": {
    "ExecuteTime": {
     "end_time": "2020-05-31T03:34:45.703357Z",
     "start_time": "2020-05-31T03:04:52.728Z"
    }
   },
   "outputs": [],
   "source": [
    "## claculate the percentange of misclassification  shows 60% of misclassification in testing data\n",
    "88/1308"
   ]
  },
  {
   "cell_type": "markdown",
   "metadata": {},
   "source": [
    "Interpreting the results in training data: 88 out of 1308 instances which belong to class 1\"churn\" have been classified as class 0\"not_churn\".\n",
    "In other words, We are classifying 7% of the churn cases as not churn. This is considered little loss to  Telco company, but this accuracy is calculated in training data. However, testing data is the most important results.\n",
    "We can do same observation  of the confusion matrix on the Testing Dataset.\n",
    "The higher accuracy in training dataset is not due to correct classification. The model has predicted the majority class for almost all the examples which are the Telco's customers who don't churn. And since about 75.0% of the examples actually belong to this class\"not_churn\", it leads to such high accuracy scores. To fix this issue, imbalance data must be addressed through 'smote'"
   ]
  },
  {
   "cell_type": "code",
   "execution_count": null,
   "metadata": {
    "ExecuteTime": {
     "end_time": "2020-05-31T03:34:45.704485Z",
     "start_time": "2020-05-31T03:04:52.733Z"
    }
   },
   "outputs": [],
   "source": [
    "### confusion_matrix of testing data\n",
    "confusion_matrix = pd.crosstab(y_test, y_hat_test, rownames=['Actual'], colnames=['Predicted'],margins = True)\n",
    "print (confusion_matrix)"
   ]
  },
  {
   "cell_type": "markdown",
   "metadata": {},
   "source": [
    "Now let’s interpret the results:\n",
    "317 out of 561 instances which belong to class 1 have been classified as class 0\n",
    "\n"
   ]
  },
  {
   "cell_type": "code",
   "execution_count": null,
   "metadata": {
    "ExecuteTime": {
     "end_time": "2020-05-31T03:34:45.705598Z",
     "start_time": "2020-05-31T03:04:52.738Z"
    }
   },
   "outputs": [],
   "source": [
    "## claculate the percentange of misclassification  shows 60% of misclassification in testing data\n",
    "317/561"
   ]
  },
  {
   "cell_type": "markdown",
   "metadata": {},
   "source": [
    "We are classifying 57% of the churn cases as not churn. This is going to cost very serious losses to  Telco company.\n",
    "###### This  model is not useful to make prediction of churned people "
   ]
  },
  {
   "cell_type": "markdown",
   "metadata": {},
   "source": [
    "#### Modeling with Ensemble Methods\n",
    "\n",
    " Ensemble Learning:\n",
    " \n",
    " ###### Bagging and Boosting\n",
    "Next, We will try modeling with Ensemble methods, and show the strength of using these powerful methods.\n",
    "I will look for feature importance and improve the accuracy of my ensembled models through tuning hyperparameters.\n"
   ]
  },
  {
   "cell_type": "markdown",
   "metadata": {
    "ExecuteTime": {
     "end_time": "2020-05-26T09:12:49.541699Z",
     "start_time": "2020-05-26T09:12:49.537818Z"
    }
   },
   "source": [
    "Ensemble models are combination of simple models working together to make a prediction.\n",
    "\n",
    "• It can be broken down into two tasks:\n",
    "1. Develop a population of base learners\n",
    "2. Combine them to form a composite predictor"
   ]
  },
  {
   "cell_type": "markdown",
   "metadata": {},
   "source": [
    "###### Big Idea\n",
    "Here, we care most about our classifiers behaving differently and making different kinds of errors."
   ]
  },
  {
   "cell_type": "code",
   "execution_count": null,
   "metadata": {
    "ExecuteTime": {
     "end_time": "2020-05-31T03:34:45.706797Z",
     "start_time": "2020-05-31T03:04:52.745Z"
    }
   },
   "outputs": [],
   "source": [
    "### Using BaggingClassifier with one model i.e.Deciontree\n",
    "from sklearn.tree import DecisionTreeClassifier\n",
    "from sklearn.ensemble import BaggingClassifier \n",
    "dtree = DecisionTreeClassifier()\n",
    "bag_clf = BaggingClassifier(dtree, n_estimators=500, max_samples=100, bootstrap=True)\n",
    "bag_clf.fit(X_train, y_train)\n",
    "#predictions\n",
    "y_hat_train=bag_clf.predict(X_train)\n",
    "y_hat_test = bag_clf.predict(X_test)\n",
    "\n",
    "\n",
    "# Evaluate predictions\n",
    "print('-'*40)\n",
    "print('Accuracy score for Training Dataset = ', accuracy_score(y_train, y_hat_train))\n",
    "print('Accuracy score for Testing Dataset = ', accuracy_score(y_test, y_hat_test))\n",
    "\n",
    "\n",
    "\n",
    "print('-'*40)\n",
    "print('Classification Matrix:')\n",
    "print(classification_report(y_test, y_hat_test))\n"
   ]
  },
  {
   "cell_type": "markdown",
   "metadata": {},
   "source": [
    "###### Consequences\n",
    "Using Bagging can improve upon the bias/variance tradeoff witnessed in a single model"
   ]
  },
  {
   "cell_type": "markdown",
   "metadata": {},
   "source": [
    "###### Voting Classifiers\n",
    "\n",
    "I'm going to import four models. A logistic regression, k-nearest neighbor classifier, support vector machine classifier, and a decision tree classifier. In Scikit-learn, they've made a class called voting classifier. And it's implemented in the same way that all models in Scikit-learn are implemented. \n",
    " such as instantiate decision tree, logistic regressor-- all of the same model types that we did previously. \n",
    "\n",
    "And when we instantiate the voting classifier class object, the first argument is the estimators where we provide a list of tuples where the first item in the tuple is the name of the model and the second item in the tuple is the actual model itself. So, once we've instantiated that and fit that to the training data, we can make predictions and see the accuracy of voting classifiers.  \n"
   ]
  },
  {
   "cell_type": "markdown",
   "metadata": {},
   "source": [
    "###### base learners\n",
    "base learners are the estimators. In other words they are the tuple of algorithms that we will use to make our prediction in the voting classifiers. Here our base learner is the four models of logistic regression, k-nearest neighbor classifier, support vector machine classifier, and a decision tree classifier "
   ]
  },
  {
   "cell_type": "code",
   "execution_count": null,
   "metadata": {
    "ExecuteTime": {
     "end_time": "2020-05-31T03:34:45.707862Z",
     "start_time": "2020-05-31T03:04:52.752Z"
    }
   },
   "outputs": [],
   "source": [
    "from sklearn.linear_model import LogisticRegression \n",
    "from sklearn.neighbors import KNeighborsClassifier \n",
    "from sklearn.svm import SVC\n",
    "from sklearn.tree import DecisionTreeClassifier\n",
    "knn = KNeighborsClassifier()\n",
    "lgr = LogisticRegression()\n",
    "svm = SVC(probability=True)\n",
    "dtree = DecisionTreeClassifier(max_depth=5)\n",
    "knn.fit(X_train, y_train) \n",
    "lgr.fit(X_train, y_train) \n",
    "svm.fit(X_train,y_train) \n",
    "dtree.fit(X_train, y_train)"
   ]
  },
  {
   "cell_type": "code",
   "execution_count": null,
   "metadata": {
    "ExecuteTime": {
     "end_time": "2020-05-31T03:34:45.709025Z",
     "start_time": "2020-05-31T03:04:52.757Z"
    }
   },
   "outputs": [],
   "source": [
    "from sklearn.ensemble import VotingClassifier\n",
    "voting_classifier = VotingClassifier(estimators = [('lgr', lgr), ('dtree', dtree),('knn', knn),('svm',svm)])  \n",
    "voting_classifier.fit(X_train, y_train)"
   ]
  },
  {
   "cell_type": "code",
   "execution_count": null,
   "metadata": {
    "ExecuteTime": {
     "end_time": "2020-05-31T03:34:45.710288Z",
     "start_time": "2020-05-31T03:04:52.761Z"
    }
   },
   "outputs": [],
   "source": [
    "\n",
    "#Prediction the response for test and train dataset\n",
    "y_hat_test = voting_classifier.predict(X_test)\n",
    "y_hat_train = voting_classifier.predict(X_train)\n",
    "\n",
    "# Evaluate predictions\n",
    "print('-'*40)\n",
    "print('Accuracy score for Training Dataset = ', accuracy_score(y_train, y_hat_train))\n",
    "print('Accuracy score for Testing Dataset = ', accuracy_score(y_test, y_hat_test))\n",
    "\n",
    "### No overfitting issue"
   ]
  },
  {
   "cell_type": "markdown",
   "metadata": {},
   "source": [
    "We can also investigate the base learner performance themselves.\n",
    "\n",
    "This visual here shows the accuracy score of each model independently."
   ]
  },
  {
   "cell_type": "code",
   "execution_count": null,
   "metadata": {
    "ExecuteTime": {
     "end_time": "2020-05-31T03:34:45.711439Z",
     "start_time": "2020-05-31T03:04:52.766Z"
    }
   },
   "outputs": [],
   "source": [
    "#with labels on top of plot\n",
    "scores = [\n",
    "('knn',0.7564877355136864),\n",
    "('lgr', 0.8002132954141487),\n",
    "('svc',0.7913259864912905),\n",
    "('dtree',0.778883753999289),\n",
    "('voter', 0.794169925346605)]\n",
    "scores.sort(key=lambda x:x[1])\n",
    "\n",
    "x_labels = [val[0] for val in scores]\n",
    "y_labels = [val[1] for val in scores]\n",
    "plt.figure(figsize=(12, 6))\n",
    "ax = pd.Series(y_labels).plot(kind='bar',color='green')\n",
    "ax.set_xticklabels(x_labels, rotation =0)\n",
    "rects = ax.patches\n",
    "for rect, label in zip(rects, y_labels):\n",
    "    height = rect.get_height()\n",
    "    ax.text(rect.get_x() + rect.get_width()/2, height, round(label,2), ha='center', va='bottom')\n",
    "\n"
   ]
  },
  {
   "cell_type": "markdown",
   "metadata": {},
   "source": [
    "###### We can see that logistic regression has the higher accuracy, then the voting_classifier, then svm, so Now we have to analyze increasing  the accuracy of logestic ,voter, and svc regression through hypertunining and investigate the most important features\n"
   ]
  },
  {
   "cell_type": "code",
   "execution_count": null,
   "metadata": {
    "ExecuteTime": {
     "end_time": "2020-05-31T03:34:45.712808Z",
     "start_time": "2020-05-31T03:04:52.772Z"
    }
   },
   "outputs": [],
   "source": [
    "# To get the weights of all the variables of logistic Regression\n",
    "weights_LogReg = pd.Series(lgr.coef_[0], index=X.columns.values)\n",
    "print(weights_LogReg)\n",
    "plt.figure(figsize=(6, 15))\n",
    "weights_LogReg.sort_values().plot(kind='barh')"
   ]
  },
  {
   "cell_type": "markdown",
   "metadata": {},
   "source": [
    "As we can see, some variables are negatively correlated with the predicted target (Churn), while some others behave positively. Negative correlation means that  churn decreases with when variable increases. \n",
    "\n",
    "tenure is the most important feature for prediction and it has most negative correlation, so when tenure increases, \n",
    "\n",
    "churn decreases, monthly charges is the second important feature, and as monthly charges increase, churn decrease\n",
    "\n",
    "then internetservice_Fiber optic is the third important feature but it has a positive correlation  so as  \n",
    "\n",
    "internetservice_Fiber optic increases,churn increases \n",
    "\n",
    "totalcharges is the forth important feature and it has positive effect. As  totalcharges increase, churn increases                           \n",
    "contract_Two year is the fifth important feature and it has negative effect, so as  contract_Two year increase, churn decreases                           \n",
    "\n",
    "As we have seen in our EDA, having a 2 year contract reduces chances of churn. 2 year contract along with tenure have the most negative relation with Churn as predicted by logistic regressions. Total charges, fibre optic internet services and seniority can lead to higher churn rates. This is interesting because although fibre optic services are faster, customers are likely to churn because of it. I don't understad why this is happening.\n",
    "\n",
    "Till the time let's have a look at other algorithms."
   ]
  },
  {
   "cell_type": "code",
   "execution_count": null,
   "metadata": {
    "ExecuteTime": {
     "end_time": "2020-05-31T03:34:45.714224Z",
     "start_time": "2020-05-31T03:04:52.776Z"
    }
   },
   "outputs": [],
   "source": [
    "# Checking important features through SVM classifier with poly kernel,2nd degree\n",
    "#poly kernel must pass in degree \n",
    "svcpoly = SVC(kernel='poly', degree=2)\n",
    "svcpoly.fit(X_train, y_train)\n",
    "#predictions\n",
    "y_hat_train=svcpoly.predict(X_train)\n",
    "y_hat_test = svcpoly.predict(X_test)\n",
    "\n",
    "\n",
    "# Evaluate predictions\n",
    "print('-'*40)\n",
    "print('Accuracy score for Training Dataset = ', accuracy_score(y_train, y_hat_train))\n",
    "print('Accuracy score for Testing Dataset = ', accuracy_score(y_test, y_hat_test))\n"
   ]
  },
  {
   "cell_type": "code",
   "execution_count": null,
   "metadata": {
    "ExecuteTime": {
     "end_time": "2020-05-31T03:34:45.715588Z",
     "start_time": "2020-05-31T03:04:52.781Z"
    }
   },
   "outputs": [],
   "source": [
    "#rbf kernel \n",
    "svcrbf = SVC(kernel='rbf')\n",
    "svcrbf.fit(X_train, y_train)\n",
    "#predictions\n",
    "y_hat_train=svcrbf.predict(X_train)\n",
    "y_hat_test = svcrbf.predict(X_test)\n",
    "\n",
    "\n",
    "# Evaluate predictions\n",
    "print('-'*40)\n",
    "print('Accuracy score for Training Dataset = ', accuracy_score(y_train, y_hat_train))\n",
    "print('Accuracy score for Testing Dataset = ', accuracy_score(y_test, y_hat_test))\n"
   ]
  },
  {
   "cell_type": "code",
   "execution_count": null,
   "metadata": {
    "ExecuteTime": {
     "end_time": "2020-05-31T03:34:45.717112Z",
     "start_time": "2020-05-31T03:04:52.785Z"
    }
   },
   "outputs": [],
   "source": [
    "#### Checking important features through SVM classifier with linear kernel\n",
    "from sklearn.svm import SVC #Support vector Machine Classifier\n",
    "from sklearn.metrics import accuracy_score\n",
    "\n",
    "svclinear= SVC(kernel='linear') \n",
    "svclinear.fit(X_train, y_train)\n",
    "#predictions\n",
    "y_hat_train=svclinear.predict(X_train)\n",
    "y_hat_test = svclinear.predict(X_test)\n",
    "\n",
    "\n",
    "# Evaluate predictions\n",
    "print('-'*40)\n",
    "print('Accuracy score for Training Dataset = ', accuracy_score(y_train, y_hat_train))\n",
    "print('Accuracy score for Testing Dataset = ', accuracy_score(y_test, y_hat_test))\n",
    "feature_importance = list(zip(svclinear.coef_[0], X.columns.values))\n",
    "print(feature_importance)\n",
    "# Plot features importances\n",
    "important_features = pd.Series(data=svclinear.coef_[0], index=X.columns).sort_values(ascending=False)\n",
    "plt.figure(figsize=(10,12))\n",
    "plt.title(\"Feature importance of Support Vector Machine (linearKernel)\")\n",
    "ax = sns.barplot(y=important_features.index, x=important_features.values, palette=\"Blues_d\", orient='h')"
   ]
  },
  {
   "cell_type": "markdown",
   "metadata": {},
   "source": [
    "Analyzing the SVM  model of  Linear Kernel,RBF Kernel and SVM,  we can see that the accuracy score of testing is around 79%, we don't have overfitting issue here.\n",
    "\n",
    "The best features are: monthly charges, model predicts as monthly charges increase, churn increase"
   ]
  },
  {
   "cell_type": "code",
   "execution_count": null,
   "metadata": {
    "ExecuteTime": {
     "end_time": "2020-05-31T03:34:45.718776Z",
     "start_time": "2020-05-31T03:04:52.790Z"
    }
   },
   "outputs": [],
   "source": [
    "dtree.score(X_test, y_test)\n",
    "dtree.feature_importances_"
   ]
  },
  {
   "cell_type": "code",
   "execution_count": null,
   "metadata": {
    "ExecuteTime": {
     "end_time": "2020-05-31T03:34:45.720381Z",
     "start_time": "2020-05-31T03:04:52.794Z"
    }
   },
   "outputs": [],
   "source": [
    "def plot_feature_importances(model):\n",
    "    n_features = X_train.shape[1]\n",
    "    plt.figure(figsize=(8,8))\n",
    "    plt.barh(range(n_features), model.feature_importances_, align='center') \n",
    "    plt.yticks(np.arange(n_features), X.columns.values) \n",
    "    plt.xlabel('Feature importance')\n",
    "    plt.ylabel('Feature')\n",
    "\n",
    "plot_feature_importances(dtree)\n"
   ]
  },
  {
   "cell_type": "code",
   "execution_count": null,
   "metadata": {
    "ExecuteTime": {
     "end_time": "2020-05-31T03:34:45.721881Z",
     "start_time": "2020-05-31T03:04:52.799Z"
    }
   },
   "outputs": [],
   "source": [
    "# Instantiate a BaggingClassifier\n",
    "bagged_tree =  BaggingClassifier(DecisionTreeClassifier(criterion='gini', max_depth=5), \n",
    "                                 n_estimators=20)\n",
    "# Fit to the training data\n",
    "bagged_tree.fit(X_train, y_train)\n",
    "# Training accuracy score\n",
    "bagged_tree.score(X_train, y_train)\n",
    "# Test accuracy score\n",
    "bagged_tree.score(X_test, y_test)\n",
    "#overfitting issue"
   ]
  },
  {
   "cell_type": "code",
   "execution_count": null,
   "metadata": {
    "ExecuteTime": {
     "end_time": "2020-05-31T03:34:45.723440Z",
     "start_time": "2020-05-31T03:04:52.803Z"
    }
   },
   "outputs": [],
   "source": [
    "# Instantiate and fit a RandomForestClassifier with n_estimators=100\n",
    "forest = RandomForestClassifier(n_estimators=100, max_depth= 5)\n",
    "forest.fit(X_train, y_train)\n",
    "\n",
    "#predictions\n",
    "y_hat_train=forest.predict(X_train)\n",
    "y_hat_test = forest.predict(X_test)\n",
    "\n",
    "\n",
    "# Evaluate predictions\n",
    "print('-'*40)\n",
    "print('Accuracy score for Training Dataset = ', accuracy_score(y_train, y_hat_train))\n",
    "print('Accuracy score for Testing Dataset = ', accuracy_score(y_test, y_hat_test))\n",
    "### overfit when number of estimators =500\n",
    "forest.feature_importances_\n",
    "plot_feature_importances(forest)\n",
    "# no overfitting when number of estimators=100"
   ]
  },
  {
   "cell_type": "code",
   "execution_count": null,
   "metadata": {
    "ExecuteTime": {
     "end_time": "2020-05-31T03:34:45.724748Z",
     "start_time": "2020-05-31T03:04:52.808Z"
    }
   },
   "outputs": [],
   "source": [
    "# Split data into X and y\n",
    "#y=df['churn_Yes'].copy()\n",
    "\n",
    "# Define X\n",
    "\n",
    "#x = df.drop(columns=['churn_Yes'], axis=1)\n",
    "\n",
    "# Fit RandomForest Classifier\n",
    "clf = RandomForestClassifier()\n",
    "clf = clf.fit(X_train, y_train)\n",
    "\n",
    "# Plot features importances\n",
    "imp = pd.Series(data=clf.feature_importances_, index=X.columns).sort_values(ascending=False)\n",
    "plt.figure(figsize=(10,12))\n",
    "plt.title(\"Feature importance of Random Forest model\")\n",
    "ax = sns.barplot(y=imp.index, x=imp.values, palette=\"Blues_d\", orient='h')"
   ]
  },
  {
   "cell_type": "code",
   "execution_count": null,
   "metadata": {
    "ExecuteTime": {
     "end_time": "2020-05-31T03:34:45.725963Z",
     "start_time": "2020-05-31T03:04:52.812Z"
    }
   },
   "outputs": [],
   "source": [
    "# RandomForestClassifier with n_estimators=100, increase the max_depth from 5 to 20\n",
    "from sklearn.ensemble import RandomForestClassifier\n",
    "#instantiate and fit\n",
    "forest = RandomForestClassifier(n_estimators=100, max_depth=20)### max_depth has a seruis harm in our accuracy when increasing\n",
    "forest.fit(X_train, y_train)\n",
    "#predictions\n",
    "y_hat_train=forest.predict(X_train)\n",
    "y_hat_test = forest.predict(X_test)\n",
    "\n",
    "\n",
    "# Evaluate predictions\n",
    "print('-'*40)\n",
    "print('Accuracy score for Training Dataset = ', accuracy_score(y_train, y_hat_train))\n",
    "print('Accuracy score for Testing Dataset = ', accuracy_score(y_test, y_hat_test))\n",
    "### overfit when number of estimators =500"
   ]
  },
  {
   "cell_type": "code",
   "execution_count": null,
   "metadata": {
    "ExecuteTime": {
     "end_time": "2020-05-31T03:34:45.727291Z",
     "start_time": "2020-05-31T03:04:52.817Z"
    }
   },
   "outputs": [],
   "source": [
    "### # RandomForestClassifier with n_estimators=1000\n",
    "from sklearn.ensemble import RandomForestClassifier\n",
    "#instantiate and fit\n",
    "forest1 = RandomForestClassifier(n_estimators=1000, max_depth=5)### extra number of estimator ,will not hurt the accuracy\n",
    "forest1.fit(X_train, y_train)\n",
    "#predictions\n",
    "y_hat_train=forest1.predict(X_train)\n",
    "y_hat_test = forest1.predict(X_test)\n",
    "\n",
    "\n",
    "# Evaluate predictions\n",
    "print('-'*40)\n",
    "print('Accuracy score for Training Dataset = ', accuracy_score(y_train, y_hat_train))\n",
    "print('Accuracy score for Testing Dataset = ', accuracy_score(y_test, y_hat_test))\n",
    "important_features = pd.Series(data=forest1.feature_importances_, index=X.columns).sort_values(ascending=False)\n",
    "print(important_features)\n",
    "plt.figure(figsize=(10,12))\n",
    "plt.title(\"Feature importance of Random Forest model\")\n",
    "ax = sns.barplot(y=important_features.index, x=imp.values, palette=\"Blues_d\", orient='h')\n",
    "### overfit when number of estimators =500\n"
   ]
  },
  {
   "cell_type": "code",
   "execution_count": null,
   "metadata": {
    "ExecuteTime": {
     "end_time": "2020-05-31T03:34:45.728661Z",
     "start_time": "2020-05-31T03:04:52.821Z"
    }
   },
   "outputs": [],
   "source": [
    "# Split data into X and y\n",
    "#y=df['churn_Yes'].copy()\n",
    "\n",
    "# Define X\n",
    "\n",
    "#x = df.drop(columns=['churn_Yes'], axis=1)\n",
    "\n",
    "# Fit RandomForest Classifier\n",
    "forest2 = RandomForestClassifier(n_estimators=1000, max_depth=5)\n",
    "forest2.fit(X_train, y_train)\n",
    "y_hat_train=forest2.predict(X_train)\n",
    "y_hat_test = forest2.predict(X_test)\n",
    "\n",
    "\n",
    "# Evaluate predictions\n",
    "print('-'*40)\n",
    "print('Accuracy score for Training Dataset = ', accuracy_score(y_train, y_hat_train))\n",
    "print('Accuracy score for Testing Dataset = ', accuracy_score(y_test, y_hat_test))\n",
    "# Plot features importances\n",
    "impotant_features = pd.Series(data=forest2.feature_importances_, index=X.columns).sort_values(ascending=False)\n",
    "print(impotant_features)\n",
    "plt.figure(figsize=(10,12))\n",
    "plt.title(\"Feature importance of Random Forest model\")\n",
    "ax = sns.barplot(y=impotant_features.index, x=imp.values, palette=\"Blues_d\", orient='h')"
   ]
  },
  {
   "cell_type": "code",
   "execution_count": null,
   "metadata": {
    "ExecuteTime": {
     "end_time": "2020-05-31T03:34:45.730103Z",
     "start_time": "2020-05-31T03:04:52.825Z"
    }
   },
   "outputs": [],
   "source": [
    "#Decisiontree\n",
    "from sklearn.tree import DecisionTreeClassifier \n",
    "# Create Decision Tree classifer object\n",
    "clf = DecisionTreeClassifier(max_depth=3)\n",
    "\n",
    "# Train Decision Tree Classifer\n",
    "clf = clf.fit(X_train,y_train)\n",
    "\n",
    "#Predict the response for test dataset\n",
    "y_hat_test = clf.predict(X_test)\n",
    "y_hat_train = clf.predict(X_train)\n",
    "\n",
    "# Evaluate predictions\n",
    "print('-'*40)\n",
    "print('Accuracy score for Training Dataset = ', accuracy_score(y_train, y_hat_train))\n",
    "print('Accuracy score for Testing Dataset = ', accuracy_score(y_test, y_hat_test))\n",
    "\n",
    "### overfitting issue"
   ]
  },
  {
   "cell_type": "markdown",
   "metadata": {},
   "source": [
    "Hyperparameter Tuning through  GridSearchCV and RandomizedSearchCV \n",
    "It is recommended to search the hyper-parameter space for the best cross validation score.it is common that a small subset of those parameters can have a large impact on the predictive or computation performance of the model while others can be left to their default values."
   ]
  },
  {
   "cell_type": "code",
   "execution_count": null,
   "metadata": {
    "ExecuteTime": {
     "end_time": "2020-05-31T03:34:45.731489Z",
     "start_time": "2020-05-31T03:04:52.831Z"
    }
   },
   "outputs": [],
   "source": [
    "#conda install python-graphviz\n",
    "#pip install -U pydotplus\n"
   ]
  },
  {
   "cell_type": "code",
   "execution_count": null,
   "metadata": {
    "ExecuteTime": {
     "end_time": "2020-05-31T03:34:45.732924Z",
     "start_time": "2020-05-31T03:04:52.835Z"
    }
   },
   "outputs": [],
   "source": [
    "#from sklearn.tree import export_graphviz\n",
    "#from sklearn.externals.six import StringIO  \n",
    "#from IPython.display import Image  \n",
    "#import pydotplus\n",
    "\n",
    "#col_names = X.columns\n",
    "#dot_data = StringIO()\n",
    "#export_graphviz(clf, out_file=dot_data,  \n",
    "                #filled=True, rounded=True,\n",
    "                #special_characters=True,feature_names = col_names,class_names=['0','1'])\n",
    "#graph = pydotplus.graph_from_dot_data(dot_data.getvalue())  \n",
    "#graph.write_png('churn.png')\n",
    "#Image(graph.create_png())"
   ]
  },
  {
   "cell_type": "markdown",
   "metadata": {},
   "source": [
    "#### Extra Trees"
   ]
  },
  {
   "cell_type": "code",
   "execution_count": null,
   "metadata": {
    "ExecuteTime": {
     "end_time": "2020-05-31T03:34:45.734492Z",
     "start_time": "2020-05-31T03:04:52.840Z"
    }
   },
   "outputs": [],
   "source": [
    "from sklearn.ensemble import ExtraTreesClassifier\n",
    "#instantiate and fit\n",
    "extra = ExtraTreesClassifier(n_estimators=500, max_leaf_nodes=10)\n",
    "extra.fit(X_train, y_train)\n",
    "\n",
    "#Predict the response for test dataset\n",
    "y_hat_test = extra.predict(X_test)\n",
    "y_hat_train = extra.predict(X_train)\n",
    "\n",
    "# Evaluate predictions\n",
    "print('-'*40)\n",
    "print('Accuracy score for Training Dataset = ', accuracy_score(y_train, y_hat_train))\n",
    "print('Accuracy score for Testing Dataset = ', accuracy_score(y_test, y_hat_test))\n",
    "plot_feature_importances(extra)\n",
    "### No overfitting issue\n",
    "important_features = pd.Series(data=extra.feature_importances_, index=X.columns).sort_values(ascending=False)\n",
    "print(important_features)\n",
    "plt.figure(figsize=(10,12))\n",
    "plt.title(\"Feature importance of Extra Tree model\")\n",
    "ax = sns.barplot(y=important_features.index, x=imp.values, palette=\"Blues_d\", orient='h')"
   ]
  },
  {
   "cell_type": "markdown",
   "metadata": {},
   "source": [
    "#### Out-of-Bag Evaluation\n",
    "Due to the bootstrap sampling procedure, some observations are sampled multiple times, while\n",
    "others are left out completely. The observations that were left out of the sample are known as\n",
    "out-of-bag (OOB) samples. These can be safely used to test the performance of the base estimator.\n",
    "In scikit-learn, the oob_score=True parameter enables this implementation."
   ]
  },
  {
   "cell_type": "code",
   "execution_count": null,
   "metadata": {
    "ExecuteTime": {
     "end_time": "2020-05-31T03:34:45.735980Z",
     "start_time": "2020-05-31T03:04:52.846Z"
    }
   },
   "outputs": [],
   "source": [
    "#instantiate and fit\n",
    "extra_oob = ExtraTreesClassifier(\n",
    "n_estimators=500,\n",
    "max_leaf_nodes=10,\n",
    "bootstrap=True,\n",
    "oob_score=True)\n",
    "extra_oob.fit(X_train, y_train)\n",
    "\n",
    "#Predict the response for test dataset\n",
    "y_hat_test = extra_oob.predict(X_test)\n",
    "y_hat_train = extra_oob.predict(X_train)\n",
    "\n",
    "# Evaluate predictions\n",
    "print('-'*40)\n",
    "print('Accuracy score for Training Dataset = ', accuracy_score(y_train, y_hat_train))\n",
    "print('Accuracy score for Testing Dataset = ', accuracy_score(y_test, y_hat_test))\n",
    "plot_feature_importances(extra_oob)\n",
    "important_features = pd.Series(data=extra_oob.feature_importances_, index=X.columns).sort_values(ascending=False)\n",
    "print(important_features )\n",
    "plt.figure(figsize=(10,12))\n",
    "plt.title(\"Feature importance of Extra oob model\")\n",
    "ax = sns.barplot(y=imp.index, x=imp.values, palette=\"Blues_d\", orient='h')"
   ]
  },
  {
   "cell_type": "markdown",
   "metadata": {},
   "source": [
    "#### GradientBoostingClassifier\n",
    "\n",
    "In scikit-learn we can implement a GradientBoostingClassifier class easily. \n",
    "\n",
    "learning_rate : float, optional (default=0.1)\n",
    "learning rate shrinks the contribution of each tree by`learning_rate`. \n",
    "\n",
    "There is a trade-off between learning_rate and n_estimators.\n",
    "\n",
    "In each stage n_classes_ regression trees are fit on the negative gradient of the binomial or multinomial deviance loss function.\n",
    "\n",
    "Binary classification is a special case where only a single regression tree is induced."
   ]
  },
  {
   "cell_type": "code",
   "execution_count": null,
   "metadata": {
    "ExecuteTime": {
     "end_time": "2020-05-31T03:34:45.737588Z",
     "start_time": "2020-05-31T03:04:52.851Z"
    }
   },
   "outputs": [],
   "source": [
    "from sklearn.ensemble import GradientBoostingClassifier\n",
    "gb_clf = GradientBoostingClassifier(\n",
    "max_depth=3,\n",
    "n_estimators=10,\n",
    "learning_rate=0.9\n",
    ")\n",
    "gb_clf.fit(X_train, y_train)\n",
    "\n",
    "\n",
    "#Predict the response for test dataset\n",
    "y_hat_test = gb_clf.predict(X_test)\n",
    "y_hat_train = gb_clf.predict(X_train)\n",
    "\n",
    "# Evaluate predictions\n",
    "print('-'*40)\n",
    "print('Accuracy score for Training Dataset = ', accuracy_score(y_train, y_hat_train))\n",
    "print('Accuracy score for Testing Dataset = ', accuracy_score(y_test, y_hat_test))\n",
    "## overfit issue\n",
    "feature_importances = gb_clf.feature_importances_ \n",
    "features =X.columns\n",
    "plot_feature_importances(gb_clf)\n",
    "important_features = pd.Series(data=gb_clf.feature_importances_, index=X.columns).sort_values(ascending=False)\n",
    "print(important_features)\n",
    "plt.figure(figsize=(10,12))\n",
    "plt.title(\"Feature importance of GradientBoostingClassifier\")\n",
    "ax = sns.barplot(y=imp.index, x=imp.values, palette=\"Blues_d\", orient='h')"
   ]
  },
  {
   "cell_type": "code",
   "execution_count": null,
   "metadata": {
    "ExecuteTime": {
     "end_time": "2020-05-31T03:34:45.738998Z",
     "start_time": "2020-05-31T03:04:52.856Z"
    }
   },
   "outputs": [],
   "source": [
    "#Predict the response for test dataset\n",
    "y_hat_test = gb_clf.predict(X_test)\n",
    "y_hat_train = gb_clf.predict(X_train)\n",
    "\n",
    "# Evaluate predictions\n",
    "print('-'*40)\n",
    "print('Accuracy score for Training Dataset = ', accuracy_score(y_train, y_hat_train))\n",
    "print('Accuracy score for Testing Dataset = ', accuracy_score(y_test, y_hat_test))\n",
    "## overfit issue"
   ]
  },
  {
   "cell_type": "code",
   "execution_count": null,
   "metadata": {
    "ExecuteTime": {
     "end_time": "2020-05-31T03:34:45.739963Z",
     "start_time": "2020-05-31T03:04:52.860Z"
    }
   },
   "outputs": [],
   "source": [
    "model_AdaB = AdaBoostClassifier()\n",
    "model_AdaB.fit(X_train,y_train)\n",
    "y_hat_test  = model_AdaB.predict(X_test)\n",
    "y_hat_train = model_AdaB.predict(X_train)\n",
    "\n",
    "print('-'*40)\n",
    "print('Accuracy score for Training Dataset = ', accuracy_score(y_train, y_hat_train))\n",
    "print('Accuracy score for Testing Dataset = ', accuracy_score(y_test, y_hat_test))\n",
    "importances = model_AdaB.feature_importances_\n",
    "weights_AdaB = pd.Series(importances,\n",
    "                 index=X.columns.values)\n",
    "print(weights_AdaB)\n",
    "plt.figure(figsize=(6, 15))\n",
    "weights_AdaB.sort_values().plot(kind = 'barh')"
   ]
  },
  {
   "cell_type": "markdown",
   "metadata": {},
   "source": [
    "#### AdaBoost\n",
    "Alternatively, rather than attending to the deviance of classification, we may instead weight mis- classified observations at each step. This is how AdaBoost or Adaptive Boosting builds a model."
   ]
  },
  {
   "cell_type": "code",
   "execution_count": null,
   "metadata": {
    "ExecuteTime": {
     "end_time": "2020-05-31T03:34:45.741416Z",
     "start_time": "2020-05-31T03:04:52.865Z"
    }
   },
   "outputs": [],
   "source": [
    "from sklearn.ensemble import AdaBoostClassifier\n",
    "ada_boost = AdaBoostClassifier(clf, n_estimators=100, learning_rate=0.3)\n",
    "ada_boost.fit(X_train, y_train)\n",
    "ada_boost.score(X_test, y_test)\n",
    "#predictions\n",
    "y_hat_train=ada_boost.predict(X_train)\n",
    "y_hat_test =ada_boost.predict(X_test)\n",
    "\n",
    "\n",
    "# Evaluate predictions\n",
    "print('-'*40)\n",
    "print('Accuracy score for Training Dataset = ', accuracy_score(y_train, y_hat_train))\n",
    "print('Accuracy score for Testing Dataset = ', accuracy_score(y_test, y_hat_test))\n"
   ]
  },
  {
   "cell_type": "code",
   "execution_count": null,
   "metadata": {
    "ExecuteTime": {
     "end_time": "2020-05-31T03:34:45.742920Z",
     "start_time": "2020-05-31T03:04:52.870Z"
    }
   },
   "outputs": [],
   "source": [
    "# plot feature importance of ada-boost\n",
    "plot_feature_importances(ada_boost)"
   ]
  },
  {
   "cell_type": "raw",
   "metadata": {},
   "source": [
    "I have an overfit with ada_boost  because training score= .88,testing score=.77 with  n_estimators=100, learning_rate=0.3. \n",
    "Now I will investigate to improve the ada boosting accuracy and get rid of overfitting through hypertunning the n_estimators and learning_rate"
   ]
  },
  {
   "cell_type": "markdown",
   "metadata": {},
   "source": [
    "##### Hyperparameter Tuning\n",
    "NOW, I'm going to demonstrate the use of Pipeline, GridSearchCV, and RandomizedSearchCV classes to tune hyperparameters of an AdaBoost model.\n",
    "All available hyperparameters can be tuned, but on my analysis, I will try to explore the learning_rate and n_estimators hyperparameters only."
   ]
  },
  {
   "cell_type": "code",
   "execution_count": null,
   "metadata": {
    "ExecuteTime": {
     "end_time": "2020-05-31T03:34:45.744232Z",
     "start_time": "2020-05-31T03:04:52.953Z"
    }
   },
   "outputs": [],
   "source": [
    "#import Classes\n",
    "from sklearn.pipeline import Pipeline\n",
    "from sklearn.model_selection import GridSearchCV, RandomizedSearchCV\n",
    "from sklearn.preprocessing import StandardScaler\n",
    "from sklearn.ensemble import AdaBoostClassifier\n",
    "\n"
   ]
  },
  {
   "cell_type": "code",
   "execution_count": null,
   "metadata": {
    "ExecuteTime": {
     "end_time": "2020-05-31T03:34:45.745392Z",
     "start_time": "2020-05-31T03:04:52.957Z"
    }
   },
   "outputs": [],
   "source": [
    "# Set Up Parameter Grid (dict)\n",
    "params = {\n",
    "'ada_boost__learning_rate': np.linspace(0.1, 0.8, 1.0), 'ada_boost__n_estimators': [50, 200, 300, 500, 2000]\n",
    "}"
   ]
  },
  {
   "cell_type": "code",
   "execution_count": null,
   "metadata": {
    "ExecuteTime": {
     "end_time": "2020-05-31T03:34:45.746620Z",
     "start_time": "2020-05-31T03:04:52.961Z"
    }
   },
   "outputs": [],
   "source": [
    "## Instantiate a Pipeline Class with Desired Steps\n",
    "pipe = Pipeline([\n",
    "             ('sscale', StandardScaler()),\n",
    "('ada_boost', AdaBoostClassifier()) ])"
   ]
  },
  {
   "cell_type": "code",
   "execution_count": null,
   "metadata": {
    "ExecuteTime": {
     "end_time": "2020-05-31T03:34:45.747830Z",
     "start_time": "2020-05-31T03:04:52.965Z"
    }
   },
   "outputs": [],
   "source": [
    "# Instantiate a GridSearchCV Class, Passing pipe and params\n",
    "grid = GridSearchCV(pipe, param_grid=params, n_jobs=-1)\n",
    "# Building the Model\n",
    "# Fit the GridSearchCV Instance\n",
    "grid.fit(X_train, y_train)\n",
    "\n",
    "\n",
    "##Access a fit model with best hyperparameters with .best_estimator_ attribute \n",
    "grid.best_estimator_.named_steps['ada_boost']\n",
    "# Score the fit model on testing data\n",
    "grid.score(X_test, y_test)\n",
    "\n",
    "#predictions\n",
    "y_hat_train=grid.predict(X_train)\n",
    "y_hat_test = grid.predict(X_test)\n",
    "\n",
    "\n",
    "# Evaluate predictions\n",
    "print('-'*40)\n",
    "print('Accuracy score for Training Dataset = ', accuracy_score(y_train, y_hat_train))\n",
    "print('Accuracy score for Testing Dataset = ', accuracy_score(y_test, y_hat_test))\n"
   ]
  },
  {
   "cell_type": "raw",
   "metadata": {},
   "source": [
    " I got better accuracy and less overfitting , and I will try now using samelist of param but with RandomizedSearchCV   and compare the excute time between GridSearchCV and RandomizedSearchCV"
   ]
  },
  {
   "cell_type": "markdown",
   "metadata": {},
   "source": [
    "##### Using RandomizedSearchCV to Save Time\n",
    "The GridSearchCV class does an exhaustive search of the parameter grid and performs k-fold cross validation.  The time complexity can add up quickly.\n",
    "The RandomizedSearchCV class does not exhaustively search the hyperparameter grid, but of- ten achieves about the same performance.\n"
   ]
  },
  {
   "cell_type": "code",
   "execution_count": null,
   "metadata": {
    "ExecuteTime": {
     "end_time": "2020-05-31T03:34:45.748936Z",
     "start_time": "2020-05-31T03:04:53.025Z"
    }
   },
   "outputs": [],
   "source": [
    "# Instantiate Classes\n",
    "params = {\n",
    "'ada_boost__learning_rate': np.linspace(0.1, 0.8, 1.0),\n",
    "    'ada_boost__n_estimators': [50, 200, 300, 500, 2000]\n",
    "}\n",
    "\n",
    "pipe = Pipeline([\n",
    "             ('sscale', StandardScaler()),\n",
    "('ada_boost', AdaBoostClassifier()) ])\n",
    "rand_grid = RandomizedSearchCV(pipe, param_distributions=params)\n",
    "\n",
    "# Fit the RandomizedSearchCV \n",
    "rand_grid.fit(X_train, y_train)\n",
    "\n",
    "# Instance and Score Model\n",
    "rand_grid.best_estimator_.named_steps['ada_boost']\n",
    "rand_grid.score(X_test, y_test)\n",
    "\n",
    "#predictions\n",
    "y_hat_train=rand_grid.predict(X_train)\n",
    "y_hat_test = rand_grid.predict(X_test)\n",
    "\n",
    "\n",
    "# Evaluate predictions\n",
    "print('-'*40)\n",
    "print('Accuracy score for Training Dataset = ', accuracy_score(y_train, y_hat_train))\n",
    "print('Accuracy score for Testing Dataset = ', accuracy_score(y_test, y_hat_test))\n"
   ]
  },
  {
   "cell_type": "markdown",
   "metadata": {},
   "source": [
    "GridSearchCV executed in 47.5s\n",
    "RandomizedSearchCV executed in 43.6s\n",
    "This diffirence will have bigger effect when im applying the hypertunning in many params\n"
   ]
  },
  {
   "cell_type": "code",
   "execution_count": null,
   "metadata": {
    "ExecuteTime": {
     "end_time": "2020-05-31T03:34:45.750346Z",
     "start_time": "2020-05-31T03:04:53.030Z"
    }
   },
   "outputs": [],
   "source": [
    "## modeling with the best estimators learning_rate=0.1, n_estimators=300 and check the accuracy and feature importance\n",
    "ada_boost = AdaBoostClassifier(clf, n_estimators=300, learning_rate=0.1)\n",
    "ada_boost.fit(X_train, y_train)\n",
    "ada_boost.score(X_test, y_test)\n",
    "#predictions\n",
    "y_hat_train=ada_boost.predict(X_train)\n",
    "y_hat_test =ada_boost.predict(X_test)\n",
    "\n",
    "\n",
    "# Evaluate predictions\n",
    "print('-'*40)\n",
    "print('Accuracy score for Training Dataset = ', accuracy_score(y_train, y_hat_train))\n",
    "print('Accuracy score for Testing Dataset = ', accuracy_score(y_test, y_hat_test))\n",
    "### evnthough , I used bestestimators for ADAboost i ran into overfit hers "
   ]
  },
  {
   "cell_type": "code",
   "execution_count": null,
   "metadata": {},
   "outputs": [],
   "source": []
  }
 ],
 "metadata": {
  "kernelspec": {
   "display_name": "Python [conda env:learn-env] *",
   "language": "python",
   "name": "conda-env-learn-env-py"
  },
  "language_info": {
   "codemirror_mode": {
    "name": "ipython",
    "version": 3
   },
   "file_extension": ".py",
   "mimetype": "text/x-python",
   "name": "python",
   "nbconvert_exporter": "python",
   "pygments_lexer": "ipython3",
   "version": "3.6.9"
  },
  "toc": {
   "base_numbering": 1,
   "nav_menu": {},
   "number_sections": true,
   "sideBar": true,
   "skip_h1_title": false,
   "title_cell": "Table of Contents",
   "title_sidebar": "Contents",
   "toc_cell": true,
   "toc_position": {
    "height": "calc(100% - 180px)",
    "left": "10px",
    "top": "150px",
    "width": "165px"
   },
   "toc_section_display": true,
   "toc_window_display": true
  },
  "varInspector": {
   "cols": {
    "lenName": 16,
    "lenType": 16,
    "lenVar": 40
   },
   "kernels_config": {
    "python": {
     "delete_cmd_postfix": "",
     "delete_cmd_prefix": "del ",
     "library": "var_list.py",
     "varRefreshCmd": "print(var_dic_list())"
    },
    "r": {
     "delete_cmd_postfix": ") ",
     "delete_cmd_prefix": "rm(",
     "library": "var_list.r",
     "varRefreshCmd": "cat(var_dic_list()) "
    }
   },
   "types_to_exclude": [
    "module",
    "function",
    "builtin_function_or_method",
    "instance",
    "_Feature"
   ],
   "window_display": false
  }
 },
 "nbformat": 4,
 "nbformat_minor": 2
}
